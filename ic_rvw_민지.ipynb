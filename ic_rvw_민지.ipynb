{
 "cells": [
  {
   "cell_type": "code",
   "execution_count": 171,
   "id": "d1fe93c2",
   "metadata": {},
   "outputs": [
    {
     "name": "stdout",
     "output_type": "stream",
     "text": [
      "<class 'pandas.core.frame.DataFrame'>\n",
      "(2100, 3)\n"
     ]
    },
    {
     "data": {
      "text/html": [
       "<div>\n",
       "<style scoped>\n",
       "    .dataframe tbody tr th:only-of-type {\n",
       "        vertical-align: middle;\n",
       "    }\n",
       "\n",
       "    .dataframe tbody tr th {\n",
       "        vertical-align: top;\n",
       "    }\n",
       "\n",
       "    .dataframe thead th {\n",
       "        text-align: right;\n",
       "    }\n",
       "</style>\n",
       "<table border=\"1\" class=\"dataframe\">\n",
       "  <thead>\n",
       "    <tr style=\"text-align: right;\">\n",
       "      <th></th>\n",
       "      <th>rating</th>\n",
       "      <th>review</th>\n",
       "      <th>리뷰(번역)</th>\n",
       "    </tr>\n",
       "  </thead>\n",
       "  <tbody>\n",
       "    <tr>\n",
       "      <th>0</th>\n",
       "      <td>1</td>\n",
       "      <td>The two times I have ordered and had my delive...</td>\n",
       "      <td>내가 주문하고 배달을 사무실로 받은 두 번의 경험 모두 문제가 있었습니다. 어떤 이...</td>\n",
       "    </tr>\n",
       "    <tr>\n",
       "      <th>1</th>\n",
       "      <td>1</td>\n",
       "      <td>I have ordered 6 times using Instacart and 4 o...</td>\n",
       "      <td>인스타카트를 통해 6번 주문했고, 그 중 4번이 문제가 있었습니다. 이번에 주문을 ...</td>\n",
       "    </tr>\n",
       "    <tr>\n",
       "      <th>2</th>\n",
       "      <td>1</td>\n",
       "      <td>8 times out of 10 was terrible experience.\\nLa...</td>\n",
       "      <td>10번 중 8번은 최악의 경험이었습니다. 마지막으로 쇼퍼가 아이스크림 3상자를 쿨한...</td>\n",
       "    </tr>\n",
       "    <tr>\n",
       "      <th>3</th>\n",
       "      <td>1</td>\n",
       "      <td>The biggest con artists around. I spent 200$ o...</td>\n",
       "      <td>가장 큰 사기꾼들. 다른 주소로 전혀 내 집이 아닌 곳으로 배달된 식료품에 200달...</td>\n",
       "    </tr>\n",
       "    <tr>\n",
       "      <th>4</th>\n",
       "      <td>1</td>\n",
       "      <td>Bad app company for work\\nBad app company for ...</td>\n",
       "      <td>일을 위한 최악의 앱 회사\\n일을 위한 최악의 앱 회사! $35의 주문을 받았는데 ...</td>\n",
       "    </tr>\n",
       "  </tbody>\n",
       "</table>\n",
       "</div>"
      ],
      "text/plain": [
       "   rating                                             review  \\\n",
       "0       1  The two times I have ordered and had my delive...   \n",
       "1       1  I have ordered 6 times using Instacart and 4 o...   \n",
       "2       1  8 times out of 10 was terrible experience.\\nLa...   \n",
       "3       1  The biggest con artists around. I spent 200$ o...   \n",
       "4       1  Bad app company for work\\nBad app company for ...   \n",
       "\n",
       "                                              리뷰(번역)  \n",
       "0  내가 주문하고 배달을 사무실로 받은 두 번의 경험 모두 문제가 있었습니다. 어떤 이...  \n",
       "1  인스타카트를 통해 6번 주문했고, 그 중 4번이 문제가 있었습니다. 이번에 주문을 ...  \n",
       "2  10번 중 8번은 최악의 경험이었습니다. 마지막으로 쇼퍼가 아이스크림 3상자를 쿨한...  \n",
       "3  가장 큰 사기꾼들. 다른 주소로 전혀 내 집이 아닌 곳으로 배달된 식료품에 200달...  \n",
       "4  일을 위한 최악의 앱 회사\\n일을 위한 최악의 앱 회사! $35의 주문을 받았는데 ...  "
      ]
     },
     "execution_count": 171,
     "metadata": {},
     "output_type": "execute_result"
    }
   ],
   "source": [
    "import pandas as pd\n",
    "\n",
    "df = pd.read_csv(r\"C:\\Users\\User\\Desktop\\프로젝트\\개인\\instacart_feedback\\민지\\instacart_rvw_all_trans.csv\")\n",
    "print(type(df))         # <class 'pandas.core.frame.DataFrame'>가 떠야 정상\n",
    "print(df.shape)         # (행 수, 열 수)\n",
    "df.head()"
   ]
  },
  {
   "cell_type": "code",
   "execution_count": 84,
   "id": "30f9aea2",
   "metadata": {},
   "outputs": [
    {
     "data": {
      "text/plain": [
       "Index(['name', 'rating', 'date', 'review', 'mentioned_products',\n",
       "       'review_length', '리뷰', 'sentences', 'tokens', 'is_negative'],\n",
       "      dtype='object')"
      ]
     },
     "execution_count": 84,
     "metadata": {},
     "output_type": "execute_result"
    }
   ],
   "source": [
    "df_instarvw.columns"
   ]
  },
  {
   "cell_type": "code",
   "execution_count": 86,
   "id": "9baf1cda",
   "metadata": {},
   "outputs": [
    {
     "name": "stdout",
     "output_type": "stream",
     "text": [
      "전체 리뷰 수: 332\n"
     ]
    }
   ],
   "source": [
    "print(\"전체 리뷰 수:\", len(df_instarvw))  #"
   ]
  },
  {
   "cell_type": "code",
   "execution_count": 87,
   "id": "bceda3fc",
   "metadata": {},
   "outputs": [],
   "source": [
    "df_instarvw.rename(columns={'리뷰(번역)': '리뷰'}, inplace=True)"
   ]
  },
  {
   "cell_type": "code",
   "execution_count": 88,
   "id": "4fa2f19d",
   "metadata": {},
   "outputs": [],
   "source": [
    "#'리뷰' 컬럼 문장분리 \n",
    "import re\n",
    "# 문장 단위로 분리 → explode로 행 나누기\n",
    "df_instarvw['sentences'] = df_instarvw['리뷰'].apply(lambda x: re.split('[.!?]', x))  # 문장 단위 나누기\n",
    "df_instarvw = df_instarvw.explode('sentences')  # 문장별로 나누기\n",
    "df_instarvw['sentences'] = df_instarvw['sentences'].str.strip()  # 공백 제거\n",
    "df_instarvw = df_instarvw[df_instarvw['sentences'].str.len() > 3]  # 너무 짧은 문장 제거"
   ]
  },
  {
   "cell_type": "code",
   "execution_count": 89,
   "id": "da220b57",
   "metadata": {},
   "outputs": [
    {
     "data": {
      "text/html": [
       "<div>\n",
       "<style scoped>\n",
       "    .dataframe tbody tr th:only-of-type {\n",
       "        vertical-align: middle;\n",
       "    }\n",
       "\n",
       "    .dataframe tbody tr th {\n",
       "        vertical-align: top;\n",
       "    }\n",
       "\n",
       "    .dataframe thead th {\n",
       "        text-align: right;\n",
       "    }\n",
       "</style>\n",
       "<table border=\"1\" class=\"dataframe\">\n",
       "  <thead>\n",
       "    <tr style=\"text-align: right;\">\n",
       "      <th></th>\n",
       "      <th>rating</th>\n",
       "      <th>sentences</th>\n",
       "    </tr>\n",
       "  </thead>\n",
       "  <tbody>\n",
       "    <tr>\n",
       "      <th>0</th>\n",
       "      <td>1.0</td>\n",
       "      <td>2025년 1월부터 2025년 4월 23일까지 인스타카트가 스톱 앤 샵 베이온(NJ...</td>\n",
       "    </tr>\n",
       "    <tr>\n",
       "      <th>0</th>\n",
       "      <td>1.0</td>\n",
       "      <td>마지막으로 주문이 배달되었을 때는 버려진 집으로 배달되었고, 스톱 앤 샵에 불평했지...</td>\n",
       "    </tr>\n",
       "    <tr>\n",
       "      <th>0</th>\n",
       "      <td>1.0</td>\n",
       "      <td>인스타카트는 제대로 된 주소로 배달하기 위해 높은 수수료를 지불했을 것으로 예상되었...</td>\n",
       "    </tr>\n",
       "    <tr>\n",
       "      <th>0</th>\n",
       "      <td>1.0</td>\n",
       "      <td>주문을 취소하고 스톱 앤 샵은 주문에 대한 크레딧을 제공했습니다</td>\n",
       "    </tr>\n",
       "    <tr>\n",
       "      <th>0</th>\n",
       "      <td>1.0</td>\n",
       "      <td>85세 이상이고 오늘은 3일이 지난 후에 우체부로부터 음식 주문이 집 앞을 막아서는...</td>\n",
       "    </tr>\n",
       "  </tbody>\n",
       "</table>\n",
       "</div>"
      ],
      "text/plain": [
       "   rating                                          sentences\n",
       "0     1.0  2025년 1월부터 2025년 4월 23일까지 인스타카트가 스톱 앤 샵 베이온(NJ...\n",
       "0     1.0  마지막으로 주문이 배달되었을 때는 버려진 집으로 배달되었고, 스톱 앤 샵에 불평했지...\n",
       "0     1.0  인스타카트는 제대로 된 주소로 배달하기 위해 높은 수수료를 지불했을 것으로 예상되었...\n",
       "0     1.0                주문을 취소하고 스톱 앤 샵은 주문에 대한 크레딧을 제공했습니다\n",
       "0     1.0  85세 이상이고 오늘은 3일이 지난 후에 우체부로부터 음식 주문이 집 앞을 막아서는..."
      ]
     },
     "execution_count": 89,
     "metadata": {},
     "output_type": "execute_result"
    }
   ],
   "source": [
    "# 결과 확인\n",
    "df_instarvw[['rating', 'sentences']].head()"
   ]
  },
  {
   "cell_type": "code",
   "execution_count": 90,
   "id": "c78ee9da",
   "metadata": {},
   "outputs": [],
   "source": [
    "#  KoNLPy의 Okt 형태소 분석기를 활용하여 문장(sentences)을 \n",
    "# 형태소 분석 + 불용어 제거 + 주요 품사 필터링하는 전처리 과정\n",
    "from konlpy.tag import Okt\n",
    "\n",
    "okt = Okt()\n",
    "\n",
    "# 불용어 예시\n",
    "stopwords = ['정말', '진짜', '너무', '거의', '그냥', '좀', '것', '거', '에서', '으로', '하게', '해서']\n",
    "\n",
    "# 토큰화 및 불용어 제거\n",
    "def clean_and_tokenize(text):\n",
    "    tokens = okt.pos(text, stem=True)  # 품사 정보 포함\n",
    "    cleaned = [word for word, tag in tokens \n",
    "               if tag in ['Noun', 'Verb', 'Adjective'] and word not in stopwords]\n",
    "    return cleaned\n",
    "\n",
    "df_instarvw['tokens'] = df_instarvw['sentences'].apply(clean_and_tokenize)"
   ]
  },
  {
   "cell_type": "code",
   "execution_count": 91,
   "id": "b8965df5",
   "metadata": {},
   "outputs": [
    {
     "data": {
      "text/html": [
       "<div>\n",
       "<style scoped>\n",
       "    .dataframe tbody tr th:only-of-type {\n",
       "        vertical-align: middle;\n",
       "    }\n",
       "\n",
       "    .dataframe tbody tr th {\n",
       "        vertical-align: top;\n",
       "    }\n",
       "\n",
       "    .dataframe thead th {\n",
       "        text-align: right;\n",
       "    }\n",
       "</style>\n",
       "<table border=\"1\" class=\"dataframe\">\n",
       "  <thead>\n",
       "    <tr style=\"text-align: right;\">\n",
       "      <th></th>\n",
       "      <th>name</th>\n",
       "      <th>rating</th>\n",
       "      <th>date</th>\n",
       "      <th>review</th>\n",
       "      <th>mentioned_products</th>\n",
       "      <th>review_length</th>\n",
       "      <th>리뷰</th>\n",
       "      <th>sentences</th>\n",
       "      <th>tokens</th>\n",
       "      <th>is_negative</th>\n",
       "    </tr>\n",
       "  </thead>\n",
       "  <tbody>\n",
       "    <tr>\n",
       "      <th>0</th>\n",
       "      <td>John</td>\n",
       "      <td>1.0</td>\n",
       "      <td>23-Apr-25</td>\n",
       "      <td>january 2025 present april 23 2025 instacart d...</td>\n",
       "      <td>milk</td>\n",
       "      <td>814</td>\n",
       "      <td>2025년 1월부터 2025년 4월 23일까지 인스타카트가 스톱 앤 샵 베이온(NJ...</td>\n",
       "      <td>2025년 1월부터 2025년 4월 23일까지 인스타카트가 스톱 앤 샵 베이온(NJ...</td>\n",
       "      <td>[인스타, 카트, 스톱, 앤, 샵, 베이온, 되다, 주소, 음식, 주문, 번, 배달...</td>\n",
       "      <td>False</td>\n",
       "    </tr>\n",
       "    <tr>\n",
       "      <th>0</th>\n",
       "      <td>John</td>\n",
       "      <td>1.0</td>\n",
       "      <td>23-Apr-25</td>\n",
       "      <td>january 2025 present april 23 2025 instacart d...</td>\n",
       "      <td>milk</td>\n",
       "      <td>814</td>\n",
       "      <td>2025년 1월부터 2025년 4월 23일까지 인스타카트가 스톱 앤 샵 베이온(NJ...</td>\n",
       "      <td>마지막으로 주문이 배달되었을 때는 버려진 집으로 배달되었고, 스톱 앤 샵에 불평했지...</td>\n",
       "      <td>[마지막, 주문, 배달, 되어다, 때, 버려진, 집, 배달, 되어다, 스톱, 앤, ...</td>\n",
       "      <td>False</td>\n",
       "    </tr>\n",
       "    <tr>\n",
       "      <th>0</th>\n",
       "      <td>John</td>\n",
       "      <td>1.0</td>\n",
       "      <td>23-Apr-25</td>\n",
       "      <td>january 2025 present april 23 2025 instacart d...</td>\n",
       "      <td>milk</td>\n",
       "      <td>814</td>\n",
       "      <td>2025년 1월부터 2025년 4월 23일까지 인스타카트가 스톱 앤 샵 베이온(NJ...</td>\n",
       "      <td>인스타카트는 제대로 된 주소로 배달하기 위해 높은 수수료를 지불했을 것으로 예상되었...</td>\n",
       "      <td>[인스타, 카트, 제대로, 되다, 주소, 배달, 하다, 위해, 높다, 수수료, 지불...</td>\n",
       "      <td>False</td>\n",
       "    </tr>\n",
       "  </tbody>\n",
       "</table>\n",
       "</div>"
      ],
      "text/plain": [
       "   name  rating       date                                             review  \\\n",
       "0  John     1.0  23-Apr-25  january 2025 present april 23 2025 instacart d...   \n",
       "0  John     1.0  23-Apr-25  january 2025 present april 23 2025 instacart d...   \n",
       "0  John     1.0  23-Apr-25  january 2025 present april 23 2025 instacart d...   \n",
       "\n",
       "  mentioned_products  review_length  \\\n",
       "0               milk            814   \n",
       "0               milk            814   \n",
       "0               milk            814   \n",
       "\n",
       "                                                  리뷰  \\\n",
       "0  2025년 1월부터 2025년 4월 23일까지 인스타카트가 스톱 앤 샵 베이온(NJ...   \n",
       "0  2025년 1월부터 2025년 4월 23일까지 인스타카트가 스톱 앤 샵 베이온(NJ...   \n",
       "0  2025년 1월부터 2025년 4월 23일까지 인스타카트가 스톱 앤 샵 베이온(NJ...   \n",
       "\n",
       "                                           sentences  \\\n",
       "0  2025년 1월부터 2025년 4월 23일까지 인스타카트가 스톱 앤 샵 베이온(NJ...   \n",
       "0  마지막으로 주문이 배달되었을 때는 버려진 집으로 배달되었고, 스톱 앤 샵에 불평했지...   \n",
       "0  인스타카트는 제대로 된 주소로 배달하기 위해 높은 수수료를 지불했을 것으로 예상되었...   \n",
       "\n",
       "                                              tokens  is_negative  \n",
       "0  [인스타, 카트, 스톱, 앤, 샵, 베이온, 되다, 주소, 음식, 주문, 번, 배달...        False  \n",
       "0  [마지막, 주문, 배달, 되어다, 때, 버려진, 집, 배달, 되어다, 스톱, 앤, ...        False  \n",
       "0  [인스타, 카트, 제대로, 되다, 주소, 배달, 하다, 위해, 높다, 수수료, 지불...        False  "
      ]
     },
     "execution_count": 91,
     "metadata": {},
     "output_type": "execute_result"
    }
   ],
   "source": [
    "df_instarvw.head(3)"
   ]
  },
  {
   "cell_type": "code",
   "execution_count": 92,
   "id": "f2d2bd1f",
   "metadata": {},
   "outputs": [],
   "source": [
    "negative_keywords = ['느리다', '떨어지다', '찢어지다', '불편하다', '시들다', '익다', '없다', '상하다', '더럽다', '이상하다']\n",
    "\n",
    "# 부정 키워드 포함 여부\n",
    "df_instarvw['is_negative'] = df_instarvw['tokens'].apply(lambda tokens: any(neg in tokens for neg in negative_keywords))\n",
    "\n",
    "# 불만 리뷰만 따로 추출\n",
    "df_negative = df_instarvw[df_instarvw['is_negative']]"
   ]
  },
  {
   "cell_type": "code",
   "execution_count": 93,
   "id": "bb834971",
   "metadata": {},
   "outputs": [
    {
     "data": {
      "text/plain": [
       "[('하다', 433),\n",
       " ('없다', 378),\n",
       " ('수', 132),\n",
       " ('주문', 128),\n",
       " ('인스타', 99),\n",
       " ('카트', 99),\n",
       " ('있다', 88),\n",
       " ('배송', 55),\n",
       " ('쇼퍼', 55),\n",
       " ('더', 51),\n",
       " ('받다', 50),\n",
       " ('요청', 49),\n",
       " ('번', 47),\n",
       " ('선택', 46),\n",
       " ('때', 45),\n",
       " ('문제', 44),\n",
       " ('두', 42),\n",
       " ('되어다', 41),\n",
       " ('이다', 40),\n",
       " ('사용', 40),\n",
       " ('이상', 39),\n",
       " ('식료품', 39),\n",
       " ('물품', 38),\n",
       " ('들다', 36),\n",
       " ('서비스', 35),\n",
       " ('팁', 34),\n",
       " ('대한', 33),\n",
       " ('대체', 33),\n",
       " ('품', 33),\n",
       " ('환불', 31)]"
      ]
     },
     "execution_count": 93,
     "metadata": {},
     "output_type": "execute_result"
    }
   ],
   "source": [
    "\n",
    "from collections import Counter\n",
    "\n",
    "# 모든 불만 문장 토큰 합치기\n",
    "all_tokens = df_negative['tokens'].explode()\n",
    "token_counts = Counter(all_tokens)\n",
    "\n",
    "# 상위 키워드 확인\n",
    "token_counts.most_common(30)"
   ]
  },
  {
   "cell_type": "code",
   "execution_count": 94,
   "id": "0fe7631c",
   "metadata": {},
   "outputs": [],
   "source": [
    "\n",
    "# 분석에 쓸 키워드만 필터링\n",
    "meaningful_keywords = [\n",
    "    '주문', '환불', '쇼퍼', '상품', '서비스', '요청', '응답', '대체', '물품', '제품',\n",
    "    '문제', '사용', '쇼핑'\n",
    "]\n",
    "\n",
    "df_filtered = df_negative.copy()\n",
    "df_filtered['filtered_tokens'] = df_filtered['tokens'].apply(\n",
    "    lambda tokens: [t for t in tokens if t in meaningful_keywords]\n",
    ")"
   ]
  },
  {
   "cell_type": "markdown",
   "id": "89846b75",
   "metadata": {},
   "source": [
    "\n",
    "리뷰 → 문장 단위 분리 → 토큰화 + 불용어 제거 → 의미 있는 키워드만 필터링 (filtered_tokens)"
   ]
  },
  {
   "cell_type": "code",
   "execution_count": 95,
   "id": "875e2341",
   "metadata": {},
   "outputs": [
    {
     "name": "stdout",
     "output_type": "stream",
     "text": [
      "\n",
      "🔍 주문 관련 문장들\n",
      "- 주문 번호나 이메일 주소를 언급했을 때 대신품을 원하지 않고 환불을 원했는데, 나중에 주문 내역을 기록했을 때 인스타카트 웹사이트에 아무것도 없었습니다\n",
      "- 주문 번호나 이메일 주소를 언급했을 때 대신품을 원하지 않고 환불을 원했는데, 나중에 주문 내역을 기록했을 때 인스타카트 웹사이트에 아무것도 없었습니다\n",
      "- 주문 번호나 이메일 주소를 언급했을 때 대신품을 원하지 않고 환불을 원했는데, 나중에 주문 내역을 기록했을 때 인스타카트 웹사이트에 아무것도 없었습니다\n",
      "- 주문 번호나 이메일 주소를 언급했을 때 대신품을 원하지 않고 환불을 원했는데, 나중에 주문 내역을 기록했을 때 인스타카트 웹사이트에 아무것도 없었습니다\n",
      "- 주문 번호나 이메일 주소를 언급했을 때 대신품을 원하지 않고 환불을 원했는데, 나중에 주문 내역을 기록했을 때 인스타카트 웹사이트에 아무것도 없었습니다\n",
      "\n",
      "🔍 환불 관련 문장들\n",
      "- 더이상 참을 수 없어서 가게 매니저와 이야기하려고 했지만 환불에 대해 다시 속이 태우는 대답만 받아서 가방에 있는 식료품들을 그대로 두고 가게를 나왔습니다\n",
      "- 더이상 참을 수 없어서 가게 매니저와 이야기하려고 했지만 환불에 대해 다시 속이 태우는 대답만 받아서 가방에 있는 식료품들을 그대로 두고 가게를 나왔습니다\n",
      "- 더이상 참을 수 없어서 가게 매니저와 이야기하려고 했지만 환불에 대해 다시 속이 태우는 대답만 받아서 가방에 있는 식료품들을 그대로 두고 가게를 나왔습니다\n",
      "- 더이상 참을 수 없어서 가게 매니저와 이야기하려고 했지만 환불에 대해 다시 속이 태우는 대답만 받아서 가방에 있는 식료품들을 그대로 두고 가게를 나왔습니다\n",
      "- 더이상 참을 수 없어서 가게 매니저와 이야기하려고 했지만 환불에 대해 다시 속이 태우는 대답만 받아서 가방에 있는 식료품들을 그대로 두고 가게를 나왔습니다\n",
      "\n",
      "🔍 쇼퍼 관련 문장들\n",
      "- 배송이 정말 최악이었고, 쇼퍼의 질이 많이 떨어진 것 같았습니다\n",
      "- 배송이 정말 최악이었고, 쇼퍼의 질이 많이 떨어진 것 같았습니다\n",
      "- 배송이 정말 최악이었고, 쇼퍼의 질이 많이 떨어진 것 같았습니다\n",
      "- 배송이 정말 최악이었고, 쇼퍼의 질이 많이 떨어진 것 같았습니다\n",
      "- 배송이 정말 최악이었고, 쇼퍼의 질이 많이 떨어진 것 같았습니다\n",
      "\n",
      "🔍 상품 관련 문장들\n",
      "- 쇼퍼가 쇼핑을 하러 갔을 때 상품이 없어서 엄청 화가 났어요\n",
      "- 쇼퍼가 쇼핑을 하러 갔을 때 상품이 없어서 엄청 화가 났어요\n",
      "- 쇼퍼가 쇼핑을 하러 갔을 때 상품이 없어서 엄청 화가 났어요\n",
      "- 쇼퍼가 쇼핑을 하러 갔을 때 상품이 없어서 엄청 화가 났어요\n",
      "- 쇼퍼가 쇼핑을 하러 갔을 때 상품이 없어서 엄청 화가 났어요\n",
      "\n",
      "🔍 서비스 관련 문장들\n",
      "- 불편함에 대한 5달러 크레딧을 제공했지만, 이 서비스를 더 이상 이용하지 않을 것입니다\n",
      "- 불편함에 대한 5달러 크레딧을 제공했지만, 이 서비스를 더 이상 이용하지 않을 것입니다\n",
      "- 불편함에 대한 5달러 크레딧을 제공했지만, 이 서비스를 더 이상 이용하지 않을 것입니다\n",
      "- 불편함에 대한 5달러 크레딧을 제공했지만, 이 서비스를 더 이상 이용하지 않을 것입니다\n",
      "- 불편함에 대한 5달러 크레딧을 제공했지만, 이 서비스를 더 이상 이용하지 않을 것입니다\n",
      "\n",
      "🔍 요청 관련 문장들\n",
      "- 스톱 앤 샵에 도움을 요청했지만 인스타카트에 연락했을 때는 답변이 없었습니다\n",
      "- 스톱 앤 샵에 도움을 요청했지만 인스타카트에 연락했을 때는 답변이 없었습니다\n",
      "- 스톱 앤 샵에 도움을 요청했지만 인스타카트에 연락했을 때는 답변이 없었습니다\n",
      "- 스톱 앤 샵에 도움을 요청했지만 인스타카트에 연락했을 때는 답변이 없었습니다\n",
      "- 스톱 앤 샵에 도움을 요청했지만 인스타카트에 연락했을 때는 답변이 없었습니다\n",
      "\n",
      "🔍 응답 관련 문장들\n",
      "- 76kg만 받았고 불만에 대한 응답이 없었습니다\n",
      "- 17kg만 받았고 불만에 대한 응답이 없었습니다\n",
      "- 76kg만 받았고 불만에 대한 응답이 없었습니다\n",
      "- 17kg만 받았고 불만에 대한 응답이 없었습니다\n",
      "- 76kg만 받았고 불만에 대한 응답이 없었습니다\n",
      "\n",
      "🔍 대체 관련 문장들\n",
      "- 그때 남자가 주문한 많은 물건들이 없다고 표시했고, 최악의 대체품을 골랐어요\n",
      "- 그때 남자가 주문한 많은 물건들이 없다고 표시했고, 최악의 대체품을 골랐어요\n",
      "- 그때 남자가 주문한 많은 물건들이 없다고 표시했고, 최악의 대체품을 골랐어요\n",
      "- 그때 남자가 주문한 많은 물건들이 없다고 표시했고, 최악의 대체품을 골랐어요\n",
      "- 그때 남자가 주문한 많은 물건들이 없다고 표시했고, 최악의 대체품을 골랐어요\n",
      "\n",
      "🔍 물품 관련 문장들\n",
      "- 정기적으로 필요한 물품을 선택할 수 있어야 하는데 배송은 완벽했고 문제가 없었습니다\n",
      "- 정기적으로 필요한 물품을 선택할 수 있어야 하는데 배송은 완벽했고 문제가 없었습니다\n",
      "- 정기적으로 필요한 물품을 선택할 수 있어야 하는데 배송은 완벽했고 문제가 없었습니다\n",
      "- 정기적으로 필요한 물품을 선택할 수 있어야 하는데 배송은 완벽했고 문제가 없었습니다\n",
      "- 정기적으로 필요한 물품을 선택할 수 있어야 하는데 배송은 완벽했고 문제가 없었습니다\n",
      "\n",
      "🔍 제품 관련 문장들\n",
      "- 더 많은 인스타카트 팁을 요청했지만 주문하는 것이 불편했고, 제품을 선택하는 것을 선호했습니다\n",
      "- 더 많은 인스타카트 팁을 요청했지만 주문하는 것이 불편했고, 제품을 선택하는 것을 선호했습니다\n",
      "- 더 많은 인스타카트 팁을 요청했지만 주문하는 것이 불편했고, 제품을 선택하는 것을 선호했습니다\n",
      "- 더 많은 인스타카트 팁을 요청했지만 주문하는 것이 불편했고, 제품을 선택하는 것을 선호했습니다\n",
      "- 더 많은 인스타카트 팁을 요청했지만 주문하는 것이 불편했고, 제품을 선택하는 것을 선호했습니다\n",
      "\n",
      "🔍 문제 관련 문장들\n",
      "- 배송 기사에 의존하고 집으로 심각한 문제를 가져오는 것을 상상할 수 없습니다\n",
      "- 배송 기사에 의존하고 집으로 심각한 문제를 가져오는 것을 상상할 수 없습니다\n",
      "- 배송 기사에 의존하고 집으로 심각한 문제를 가져오는 것을 상상할 수 없습니다\n",
      "- 배송 기사에 의존하고 집으로 심각한 문제를 가져오는 것을 상상할 수 없습니다\n",
      "- 배송 기사에 의존하고 집으로 심각한 문제를 가져오는 것을 상상할 수 없습니다\n",
      "\n",
      "🔍 사용 관련 문장들\n",
      "- 아프다는 이유로 두 번째로 인스타카트 옵션을 사용한 적이 있었는데, 식료품 앱 시간에 문제가 없었어요\n",
      "- 아프다는 이유로 두 번째로 인스타카트 옵션을 사용한 적이 있었는데, 식료품 앱 시간에 문제가 없었어요\n",
      "- 아프다는 이유로 두 번째로 인스타카트 옵션을 사용한 적이 있었는데, 식료품 앱 시간에 문제가 없었어요\n",
      "- 아프다는 이유로 두 번째로 인스타카트 옵션을 사용한 적이 있었는데, 식료품 앱 시간에 문제가 없었어요\n",
      "- 아프다는 이유로 두 번째로 인스타카트 옵션을 사용한 적이 있었는데, 식료품 앱 시간에 문제가 없었어요\n",
      "\n",
      "🔍 쇼핑 관련 문장들\n",
      "- 쇼퍼가 쇼핑을 하러 갔을 때 상품이 없어서 엄청 화가 났어요\n",
      "- 쇼퍼가 쇼핑을 하러 갔을 때 상품이 없어서 엄청 화가 났어요\n",
      "- 쇼퍼가 쇼핑을 하러 갔을 때 상품이 없어서 엄청 화가 났어요\n",
      "- 쇼퍼가 쇼핑을 하러 갔을 때 상품이 없어서 엄청 화가 났어요\n",
      "- 쇼퍼가 쇼핑을 하러 갔을 때 상품이 없어서 엄청 화가 났어요\n"
     ]
    }
   ],
   "source": [
    "\n",
    "# 환불 등 키워드가 포함된 문장만 추출\n",
    "df_filtered['matched_keywords'] = df_filtered['filtered_tokens'].apply(lambda x: ', '.join(x))\n",
    "\n",
    "# 키워드별로 어떤 문장이 있었는지 보기\n",
    "for keyword in meaningful_keywords:\n",
    "    print(f\"\\n🔍 {keyword.upper()} 관련 문장들\")\n",
    "    subset = df_filtered[df_filtered['filtered_tokens'].apply(lambda tokens: keyword in tokens)]\n",
    "    for s in subset['sentences'].head(5):  # 상위 5개씩 예시 출력\n",
    "        print(\"-\", s)"
   ]
  },
  {
   "cell_type": "code",
   "execution_count": 96,
   "id": "27d7e15e",
   "metadata": {},
   "outputs": [
    {
     "name": "stdout",
     "output_type": "stream",
     "text": [
      "\n",
      "📌 Cluster 0 주요 키워드:\n",
      "인스타카트, 팁을, 선택하는, 시도해보세요, 그리고, 배송을, 괜찮아요, 없어도, 블루베리가, 요청했지만, \n",
      "📌 Cluster 1 주요 키워드:\n",
      "대해, 희망한다, 관심, 없음에, 오만함과, 그들의, 대답만, 참을, 그대로, 나왔습니다, \n",
      "📌 Cluster 2 주요 키워드:\n",
      "손으로, 먹을, 생선이, 있어서, 봉지에, 만진, 없었다, 뜨거운, 냉동, 들어, \n",
      "📌 Cluster 3 주요 키워드:\n",
      "때는, 연락했을, 도움을, 인스타카트에, 요청했지만, 전화하여, s에, 샵에, 스톱, 답변이, \n",
      "📌 Cluster 4 주요 키워드:\n",
      "없었습니다, 받았고, 불만에, 응답이, 대한, 76kg만, 17kg만, 주문이, 있어야, 정기적으로, \n",
      "📌 Cluster 5 주요 키워드:\n",
      "했는데, 주문을, 통신할, 상당히, 싶었는데, 요청하고, 화장지, 대체품을, 없었습니다, 화장지를, \n",
      "📌 Cluster 6 주요 키워드:\n",
      "인스타카트를, 없다, 나는, 믿을, 쇼퍼들이, 좋은, 실제로, 사용해, 왔는데, 하는지, \n",
      "📌 Cluster 7 주요 키워드:\n",
      "것을, 의존하고, 심각한, 기사에, 배송, 가져오는, 집으로, 상상할, 문제를, 쇼퍼가, \n",
      "📌 Cluster 8 주요 키워드:\n",
      "서비스를, 이상, 제공했지만, 계속, 없게, 크레딧을, 것입니다, 이용하지, 5달러, 불편함에, \n",
      "📌 Cluster 9 주요 키워드:\n",
      "주문한, 없다고, 골랐어요, 표시했고, 물건들이, 남자가, 그때, 최악의, 많은, 대체품을, "
     ]
    }
   ],
   "source": [
    "from sklearn.feature_extraction.text import TfidfVectorizer\n",
    "from sklearn.cluster import KMeans\n",
    "\n",
    "# 1. 불만 문장 벡터화\n",
    "corpus = df_filtered['sentences'].tolist()\n",
    "vectorizer = TfidfVectorizer(max_features=1000)\n",
    "X = vectorizer.fit_transform(corpus)\n",
    "\n",
    "# 2. 클러스터링\n",
    "k = 10  # 불만 유형 5개로 가정\n",
    "model = KMeans(n_clusters=k, random_state=42)\n",
    "df_filtered['cluster'] = model.fit_predict(X)\n",
    "\n",
    "# 3. 각 클러스터 대표 키워드 보기\n",
    "import numpy as np\n",
    "terms = vectorizer.get_feature_names_out()\n",
    "order_centroids = model.cluster_centers_.argsort()[:, ::-1]\n",
    "\n",
    "for i in range(k):\n",
    "    print(f\"\\n📌 Cluster {i} 주요 키워드:\")\n",
    "    for ind in order_centroids[i, :10]:\n",
    "        print(terms[ind], end=', ')"
   ]
  },
  {
   "cell_type": "markdown",
   "id": "dee2d2c4",
   "metadata": {},
   "source": [
    "- 결과가 만족스럽지 않아서 불용어를 추가해서 정제해볼게"
   ]
  },
  {
   "cell_type": "markdown",
   "id": "20e181f3",
   "metadata": {},
   "source": [
    "1. 불용어를 추가해서 정제"
   ]
  },
  {
   "cell_type": "code",
   "execution_count": 97,
   "id": "9015b649",
   "metadata": {},
   "outputs": [],
   "source": [
    "vectorizer = TfidfVectorizer(\n",
    "    max_features=1000,\n",
    "    stop_words=['있습니다', '없었습니다', '그들의', '했지만', '되었습니다', '계속', '대한', '없는', '그때', '또한']\n",
    ")\n"
   ]
  },
  {
   "cell_type": "markdown",
   "id": "d22b4829",
   "metadata": {},
   "source": [
    "2. 클러스터 수 줄이기 (예: 5~7)"
   ]
  },
  {
   "cell_type": "code",
   "execution_count": 98,
   "id": "959c0964",
   "metadata": {},
   "outputs": [],
   "source": [
    "k = 6\n",
    "model = KMeans(n_clusters=k, random_state=42)\n"
   ]
  },
  {
   "cell_type": "markdown",
   "id": "c0e15951",
   "metadata": {},
   "source": [
    "3. 대표 문장까지 같이 출력해서 클러스터 해석 보완"
   ]
  },
  {
   "cell_type": "code",
   "execution_count": 135,
   "id": "9371fb67",
   "metadata": {},
   "outputs": [
    {
     "name": "stdout",
     "output_type": "stream",
     "text": [
      "\n",
      "📌 Cluster 0 주요 키워드:\n",
      "인스타카트, 팁을, 선택하는, 시도해보세요, 그리고, 배송을, 괜찮아요, 없어도, 블루베리가, 요청했지만, \n",
      "예시 문장:\n",
      " - 주문 번호나 이메일 주소를 언급했을 때 대신품을 원하지 않고 환불을 원했는데, 나중에 주문 내역을 기록했을 때 인스타카트 웹사이트에 아무것도 없었습니다\n",
      "\n",
      "📌 Cluster 1 주요 키워드:\n",
      "대해, 희망한다, 관심, 없음에, 오만함과, 그들의, 대답만, 참을, 그대로, 나왔습니다, \n",
      "예시 문장:\n",
      " - 더이상 참을 수 없어서 가게 매니저와 이야기하려고 했지만 환불에 대해 다시 속이 태우는 대답만 받아서 가방에 있는 식료품들을 그대로 두고 가게를 나왔습니다\n",
      "\n",
      "📌 Cluster 2 주요 키워드:\n",
      "손으로, 먹을, 생선이, 있어서, 봉지에, 만진, 없었다, 뜨거운, 냉동, 들어, \n",
      "예시 문장:\n",
      " - 뜨거운 손으로 만진 봉지에 냉동 생선이 들어 있어서 먹을 수 없었다\n",
      "\n",
      "📌 Cluster 3 주요 키워드:\n",
      "때는, 연락했을, 도움을, 인스타카트에, 요청했지만, 전화하여, s에, 샵에, 스톱, 답변이, \n",
      "예시 문장:\n",
      " - 스톱 앤 샵에 도움을 요청했지만 인스타카트에 연락했을 때는 답변이 없었습니다\n",
      "\n",
      "📌 Cluster 4 주요 키워드:\n",
      "없었습니다, 받았고, 불만에, 응답이, 대한, 76kg만, 17kg만, 주문이, 있어야, 정기적으로, \n",
      "예시 문장:\n",
      " - 매우 불만족스러운 상황이었고, 환불 기록도 없었습니다\n"
     ]
    }
   ],
   "source": [
    "for i in range(k):\n",
    "    print(f\"\\n📌 Cluster {i} 주요 키워드:\")\n",
    "    for ind in order_centroids[i, :10]:\n",
    "        print(terms[ind], end=', ')\n",
    "    \n",
    "    print(\"\\n예시 문장:\")\n",
    "    sample = (df_filtered[df_filtered['cluster'] == i]['sentences'].head(3)\n",
    "                .drop_duplicates() #중복제거\n",
    "                .head(3) #대표문장 3개만 추력\n",
    "    )\n",
    "    for s in sample:\n",
    "        print(\" -\", s)\n"
   ]
  },
  {
   "cell_type": "code",
   "execution_count": null,
   "id": "651eff5f",
   "metadata": {},
   "outputs": [],
   "source": [
    "from gensim import corpora\n",
    "from gensim.models import LdaModel\n",
    "\n",
    "# 1. 텍스트가 토큰 리스트 형태로 준비되어 있어야 함\n",
    "#  [['환불', '요청'], ['기사', '늦다'], ...]\n",
    "texts = df_filtered['filtered_tokens'].tolist()\n",
    "\n",
    "# 2. 사전 (dictionary) 생성\n",
    "dictionary = corpora.Dictionary(texts)\n",
    "\n",
    "# 3. 코퍼스 (BoW 형태) 생성\n",
    "corpus = [dictionary.doc2bow(text) for text in texts]\n",
    "\n",
    "# 4. LDA 모델 학습\n",
    "lda = LdaModel(corpus=corpus, id2word=dictionary, num_topics=5, random_state=42, passes=10)\n"
   ]
  },
  {
   "cell_type": "code",
   "execution_count": 101,
   "id": "54e91a3a",
   "metadata": {},
   "outputs": [
    {
     "name": "stdout",
     "output_type": "stream",
     "text": [
      "- Topic 0: 0.456*\"물품\" + 0.314*\"응답\" + 0.110*\"문제\" + 0.098*\"요청\" + 0.003*\"주문\" + 0.003*\"상품\" + 0.003*\"서비스\" + 0.002*\"쇼퍼\" + 0.002*\"환불\" + 0.002*\"사용\"\n",
      "- Topic 1: 0.484*\"서비스\" + 0.373*\"사용\" + 0.058*\"환불\" + 0.058*\"상품\" + 0.004*\"문제\" + 0.003*\"쇼퍼\" + 0.003*\"요청\" + 0.003*\"주문\" + 0.003*\"응답\" + 0.003*\"제품\"\n",
      "- Topic 2: 0.281*\"주문\" + 0.279*\"문제\" + 0.247*\"제품\" + 0.097*\"요청\" + 0.081*\"상품\" + 0.004*\"사용\" + 0.002*\"대체\" + 0.002*\"서비스\" + 0.002*\"환불\" + 0.002*\"물품\"\n",
      "- Topic 3: 0.485*\"쇼퍼\" + 0.187*\"환불\" + 0.115*\"사용\" + 0.090*\"쇼핑\" + 0.072*\"상품\" + 0.038*\"주문\" + 0.003*\"제품\" + 0.002*\"문제\" + 0.002*\"서비스\" + 0.002*\"요청\"\n",
      "- Topic 4: 0.558*\"주문\" + 0.208*\"대체\" + 0.183*\"요청\" + 0.039*\"환불\" + 0.002*\"물품\" + 0.001*\"제품\" + 0.001*\"상품\" + 0.001*\"서비스\" + 0.001*\"사용\" + 0.001*\"쇼퍼\"\n"
     ]
    }
   ],
   "source": [
    "for i, topic in lda.show_topics(formatted=True, num_words=10):\n",
    "    print(f\"- Topic {i}: {topic}\")\n"
   ]
  },
  {
   "cell_type": "markdown",
   "id": "cf66c69c",
   "metadata": {},
   "source": [
    "앞에 숫자는 해당 **단어가 그 토픽에서 차지하는 비중(확률)**을 의미합니다."
   ]
  },
  {
   "cell_type": "markdown",
   "id": "0b0e9eca",
   "metadata": {},
   "source": [
    "1. LDA 토픽 분포 벡터 만들기"
   ]
  },
  {
   "cell_type": "code",
   "execution_count": 102,
   "id": "80dc3b11",
   "metadata": {},
   "outputs": [],
   "source": [
    "# 문서별 토픽 분포 추출\n",
    "lda_vectors = []\n",
    "\n",
    "for doc in corpus:\n",
    "    topic_dist = lda.get_document_topics(doc, minimum_probability=0)\n",
    "    # 토픽 비율만 추출\n",
    "    vector = [prob for _, prob in topic_dist]\n",
    "    lda_vectors.append(vector)\n",
    "\n",
    "import numpy as np\n",
    "X = np.array(lda_vectors)  # → (n_samples, n_topics) 형태\n"
   ]
  },
  {
   "cell_type": "markdown",
   "id": "084a0056",
   "metadata": {},
   "source": [
    " 2. KMeans로 클러스터링"
   ]
  },
  {
   "cell_type": "code",
   "execution_count": 103,
   "id": "82cfb50c",
   "metadata": {},
   "outputs": [
    {
     "name": "stderr",
     "output_type": "stream",
     "text": [
      "c:\\Users\\User\\anaconda3\\Lib\\site-packages\\sklearn\\cluster\\_kmeans.py:1429: UserWarning: KMeans is known to have a memory leak on Windows with MKL, when there are less chunks than available threads. You can avoid it by setting the environment variable OMP_NUM_THREADS=2.\n",
      "  warnings.warn(\n"
     ]
    }
   ],
   "source": [
    "from sklearn.cluster import KMeans\n",
    "\n",
    "k = 5\n",
    "model = KMeans(n_clusters=k, random_state=42)\n",
    "df_filtered['topic_cluster'] = model.fit_predict(X)\n"
   ]
  },
  {
   "cell_type": "code",
   "execution_count": 134,
   "id": "25aa5362",
   "metadata": {},
   "outputs": [
    {
     "name": "stdout",
     "output_type": "stream",
     "text": [
      "\n",
      "🟡클러스터 0 대표 문장:\n",
      " - 배송 기사에 의존하고 집으로 심각한 문제를 가져오는 것을 상상할 수 없습니다\n",
      " - 더 많은 인스타카트 팁을 요청했지만 주문하는 것이 불편했고, 제품을 선택하는 것을 선호했습니다\n",
      " - 주문이 취소되었고 제품이 없는 상태로 남아 있습니다\n",
      "\n",
      "🟡클러스터 1 대표 문장:\n",
      " - 뜨거운 손으로 만진 봉지에 냉동 생선이 들어 있어서 먹을 수 없었다\n",
      " - 나는 인스타카트를 믿을 수 없다\n",
      " - 그들의 오만함과 관심 없음에 대해 희망한다\n",
      "\n",
      "🟡클러스터 2 대표 문장:\n",
      " - 더이상 참을 수 없어서 가게 매니저와 이야기하려고 했지만 환불에 대해 다시 속이 태우는 대답만 받아서 가방에 있는 식료품들을 그대로 두고 가게를 나왔습니다\n",
      " - 배송이 정말 최악이었고, 쇼퍼의 질이 많이 떨어진 것 같았습니다\n",
      " - 매우 불만족스러운 상황이었고, 환불 기록도 없었습니다\n",
      "\n",
      "🟡클러스터 3 대표 문장:\n",
      " - 스톱 앤 샵에 도움을 요청했지만 인스타카트에 연락했을 때는 답변이 없었습니다\n",
      " - 주문 번호나 이메일 주소를 언급했을 때 대신품을 원하지 않고 환불을 원했는데, 나중에 주문 내역을 기록했을 때 인스타카트 웹사이트에 아무것도 없었습니다\n",
      " - 그때 남자가 주문한 많은 물건들이 없다고 표시했고, 최악의 대체품을 골랐어요\n",
      "\n",
      "🟡클러스터 4 대표 문장:\n",
      " - 76kg만 받았고 불만에 대한 응답이 없었습니다\n",
      " - 17kg만 받았고 불만에 대한 응답이 없었습니다\n",
      " - 정기적으로 필요한 물품을 선택할 수 있어야 하는데 배송은 완벽했고 문제가 없었습니다\n"
     ]
    }
   ],
   "source": [
    "# 클러스터별 대표 문장 보기 (중복 제거)\n",
    "for i in range(k):\n",
    "    print(f\"\\n🟡클러스터 {i} 대표 문장:\")\n",
    "    \n",
    "    sample = (\n",
    "        df_filtered[df_filtered['topic_cluster'] == i]['sentences']\n",
    "        .drop_duplicates()  # ✅ 중복 제거\n",
    "        .head(3)            # 대표 문장 3개만\n",
    "    )\n",
    "    \n",
    "    for s in sample:\n",
    "        print(\" -\", s)\n"
   ]
  },
  {
   "cell_type": "markdown",
   "id": "b359cb5e",
   "metadata": {},
   "source": [
    " 각 클러스터에 자동으로 이름을 붙이는 코드"
   ]
  },
  {
   "cell_type": "code",
   "execution_count": 105,
   "id": "41da2038",
   "metadata": {},
   "outputs": [
    {
     "name": "stdout",
     "output_type": "stream",
     "text": [
      "{0: '주문 / 제품 / 문제', 1: '서비스 / 사용 / 문제', 2: '쇼퍼 / 환불 / 사용', 3: '주문 / 대체 / 요청', 4: '물품 / 응답 / 문제'}\n"
     ]
    }
   ],
   "source": [
    "# 클러스터별 상위 키워드를 기반으로 이름 생성\n",
    "cluster_names = {}\n",
    "\n",
    "for cluster_num in range(k):  # k = 클러스터 수 (예: 5)\n",
    "    # 해당 클러스터에 속한 리뷰 추출\n",
    "    subset = df_filtered[df_filtered['topic_cluster'] == cluster_num]\n",
    "    \n",
    "    # 전체 토큰 모으기\n",
    "    all_tokens = [token for tokens in subset['filtered_tokens'] for token in tokens]\n",
    "    \n",
    "    # 상위 키워드 3개 추출\n",
    "    top_keywords = pd.Series(all_tokens).value_counts().head(3).index.tolist()\n",
    "    \n",
    "    # 슬래시로 연결해 이름 붙이기\n",
    "    cluster_names[cluster_num] = \" / \".join(top_keywords)\n",
    "\n",
    "# 생성된 이름 딕셔너리 확인\n",
    "print(cluster_names)\n",
    "\n",
    "# 이름 매핑하여 새로운 컬럼에 저장\n",
    "df_filtered['cluster_label'] = df_filtered['topic_cluster'].map(cluster_names)\n"
   ]
  },
  {
   "cell_type": "code",
   "execution_count": 106,
   "id": "72f106a7",
   "metadata": {},
   "outputs": [
    {
     "data": {
      "text/plain": [
       "{0: '주문 / 제품 / 문제',\n",
       " 1: '서비스 / 사용 / 문제',\n",
       " 2: '쇼퍼 / 환불 / 사용',\n",
       " 3: '주문 / 대체 / 요청',\n",
       " 4: '물품 / 응답 / 문제'}"
      ]
     },
     "execution_count": 106,
     "metadata": {},
     "output_type": "execute_result"
    }
   ],
   "source": [
    "cluster_names"
   ]
  },
  {
   "cell_type": "markdown",
   "id": "ae2dc6f0",
   "metadata": {},
   "source": [
    "- LDA + KMeans 클러스터링 후\n",
    "- → 같은 클러스터에 속한 문장들끼리 정말 유사한지 확인하고 싶다!"
   ]
  },
  {
   "cell_type": "markdown",
   "id": "ac74fc76",
   "metadata": {},
   "source": [
    " 클러스터별 문장 간 평균 유사도 계산"
   ]
  },
  {
   "cell_type": "code",
   "execution_count": null,
   "id": "fddaaa2a",
   "metadata": {},
   "outputs": [
    {
     "name": "stdout",
     "output_type": "stream",
     "text": [
      " - Cluster 0: 평균 문장 유사도 = 0.9686\n",
      " - Cluster 1: 평균 문장 유사도 = 0.8580\n",
      " - Cluster 2: 평균 문장 유사도 = 0.8447\n",
      " - Cluster 3: 평균 문장 유사도 = 0.9504\n",
      " - Cluster 4: 평균 문장 유사도 = 0.9435\n"
     ]
    }
   ],
   "source": [
    "from sklearn.metrics.pairwise import cosine_similarity\n",
    "\n",
    "def average_cluster_similarity(X, labels):\n",
    "    results = {}\n",
    "    for cluster_id in np.unique(labels):\n",
    "        indices = np.where(labels == cluster_id)[0] # 해당 클러스터에 속한 인덱스만\n",
    "        cluster_vectors = X[indices]# 그 벡터만 추출\n",
    "        \n",
    "        if len(cluster_vectors) < 2:\n",
    "            results[cluster_id] = 1.0  # 문서 1개면 유사도는 1로 간주\n",
    "            continue\n",
    "\n",
    "        sim_matrix = cosine_similarity(cluster_vectors)\n",
    "        # 자기 자신 제외한 유사도 평균\n",
    "        upper_tri = np.triu_indices_from(sim_matrix, k=1) #상삼각행렬만 추출 (중복 제거)\n",
    "        avg_sim = sim_matrix[upper_tri].mean()  # 평균 유사도\n",
    "        results[cluster_id] = avg_sim\n",
    "    return results\n",
    "\n",
    "# 실행\n",
    "similarities = average_cluster_similarity(np.array(lda_vectors), df_filtered['topic_cluster'].values)\n",
    "\n",
    "# 결과 출력\n",
    "for cluster_id, avg_sim in similarities.items():\n",
    "    print(f\" - Cluster {cluster_id}: 평균 문장 유사도 = {avg_sim:.4f}\")\n"
   ]
  },
  {
   "cell_type": "markdown",
   "id": "c0e49c10",
   "metadata": {},
   "source": [
    "- 같은 클러스터에 속한 문장들끼리 의미적으로 유사한가?\n",
    "→ 이를 수치화해서 클러스터링의 품질을 판단하는 게 목표입니다.\n",
    "\n",
    "✅ 핵심 아이디어\n",
    "- **LDA로 만든 벡터 (lda_vectors)**는 각 문장을 주제 확률 분포(벡터)로 바꾼 것\n",
    "- → 예: [0.1, 0.6, 0.3] ← \"이 문장은 Topic 1에 가까움\"\n",
    "\n",
    "- 같은 클러스터에 속한 문장들끼리,\n",
    "- 그 LDA 벡터 간 **코사인 유사도(Cosine Similarity)**를 구함\n",
    "\n",
    "- 그 유사도를 평균 내면:\n",
    "\n",
    "- 해당 클러스터 내부 문장들이 얼마나 \"비슷한 주제\"를 가지고 있는지 수치로 판단 가능\n",
    "\n"
   ]
  },
  {
   "cell_type": "markdown",
   "id": "281efe5c",
   "metadata": {},
   "source": [
    "- 0.7 이상 → 같은 주제 잘 모였다고 볼 수 있음\n",
    "\n",
    "- 0.4 이하 → 토픽 혼합이거나 LDA 토픽 수/클러스터 수 재조정 필요"
   ]
  },
  {
   "cell_type": "code",
   "execution_count": 138,
   "id": "079fe723",
   "metadata": {},
   "outputs": [],
   "source": [
    "import numpy as np\n",
    "\n",
    "# 리스트 → 배열로 변환\n",
    "lda_array = np.array(lda_vectors)\n",
    "\n",
    "# t-SNE 적용\n",
    "X_2d = TSNE(n_components=2, random_state=42, perplexity=5).fit_transform(lda_array)\n"
   ]
  },
  {
   "cell_type": "code",
   "execution_count": 137,
   "id": "18ee5168",
   "metadata": {},
   "outputs": [
    {
     "name": "stderr",
     "output_type": "stream",
     "text": [
      "C:\\Users\\User\\AppData\\Local\\Temp\\ipykernel_7476\\3188045176.py:26: UserWarning: Glyph 8722 (\\N{MINUS SIGN}) missing from font(s) Malgun Gothic.\n",
      "  plt.tight_layout()\n",
      "c:\\Users\\User\\anaconda3\\Lib\\site-packages\\IPython\\core\\pylabtools.py:170: UserWarning: Glyph 8722 (\\N{MINUS SIGN}) missing from font(s) Malgun Gothic.\n",
      "  fig.canvas.print_figure(bytes_io, **kw)\n"
     ]
    },
    {
     "data": {
      "image/png": "[encoded data removed]",
      "text/plain": [
       "<Figure size 800x600 with 1 Axes>"
      ]
     },
     "metadata": {},
     "output_type": "display_data"
    }
   ],
   "source": [
    "import numpy as np\n",
    "from sklearn.manifold import TSNE\n",
    "import matplotlib.pyplot as plt\n",
    "import matplotlib.font_manager as fm\n",
    "\n",
    "# 1. 폰트 설정\n",
    "font_path = \"C:/Windows/Fonts/malgun.ttf\"\n",
    "font_prop = fm.FontProperties(fname=font_path)\n",
    "\n",
    "# 2. 리스트 → NumPy 배열\n",
    "lda_array = np.array(lda_vectors)\n",
    "\n",
    "# 3. t-SNE 적용\n",
    "X_2d = TSNE(n_components=2, random_state=42, perplexity=5).fit_transform(lda_array)\n",
    "\n",
    "# 4. 시각화\n",
    "plt.figure(figsize=(8, 6))\n",
    "for cluster_id in df_matched['topic_cluster'].unique():\n",
    "    idx = df_matched['topic_cluster'] == cluster_id\n",
    "    plt.scatter(X_2d[idx, 0], X_2d[idx, 1], label=f\"Cluster {cluster_id}\", alpha=0.7)\n",
    "\n",
    "plt.legend(prop=font_prop)\n",
    "plt.title(\"LDA 토픽 벡터 기반 클러스터 시각화 (t-SNE)\", fontproperties=font_prop)\n",
    "plt.xlabel(\"Component 1\", fontproperties=font_prop)\n",
    "plt.ylabel(\"Component 2\", fontproperties=font_prop)\n",
    "plt.tight_layout()\n",
    "plt.show()\n"
   ]
  },
  {
   "cell_type": "markdown",
   "id": "24b0e22f",
   "metadata": {},
   "source": [
    " t-SNE 시각화 해석법 (LDA 토픽 클러스터 기준)\n",
    "1. 각 점(Point)은 하나의 리뷰 문장을 의미해\n",
    "점 하나 = 사용자 리뷰 하나 (혹은 TF-IDF나 LDA로 벡터화한 문장)\n",
    "\n",
    "이 점들의 상대적 거리 = 리뷰 간 의미적 유사성\n",
    "\n",
    "2. 비슷한 의미의 문장일수록 가까이 배치됨\n",
    "같은 주제를 공유하는 문장들은 같은 클러스터 안에서 밀집\n",
    "\n",
    "다른 주제를 가진 문장과는 거리상 분리\n",
    "\n",
    "3. 클러스터 별 영역 구분을 통해 LDA 토픽 주제 확인\n",
    "예: 파란색 Cluster 3 → “배송 불만” 관련 리뷰\n",
    "\n",
    "주황색 Cluster 1 → “환불 처리 문제” 관련 리뷰\n",
    "→ 이렇게 시각적으로 명확한 주제 영역이 잘 드러나면 LDA 결과가 유의미하다고 판단 가능\n",
    "\n",
    "4. 군집이 서로 얼마나 멀리 떨어져 있는가?\n",
    "토픽 간 명확한 구분이 존재한다는 뜻\n",
    "\n",
    "만약 클러스터가 겹치거나 흩어져 있다면 → 주제가 애매하거나 모델 정교화 필요\n",
    "\n",
    "5. t-SNE는 거리 간 정확한 비율을 유지하지는 않음\n",
    "\"거리가 2배니까 2배 더 다르다\"는 의미는 아님\n",
    "\n",
    "다만, 근접한 점들은 실제로 의미가 유사한 경우가 많음\n",
    "\n",
    "💡 해석 예시로 써먹기 좋은 문장\n",
    "“t-SNE 시각화를 통해 LDA 기반 리뷰 토픽들이 주제별로 명확히 분리됨을 확인할 수 있었고, 이는 각 사용자 불만 유형이 뚜렷하게 분류될 수 있음을 시사합니다.”\n",
    "\n",
    "또는\n",
    "\n",
    "“배송 지연, 환불 문제, 쇼퍼 대응 등 주요 이슈가 시각적으로 군집을 이루며 분리되어, 각 주제별 요구사항이 서로 다른 고객 경험에서 비롯됨을 확인할 수 있습니다.”"
   ]
  },
  {
   "cell_type": "code",
   "execution_count": 109,
   "id": "6363c33a",
   "metadata": {},
   "outputs": [],
   "source": [
    "tsne = TSNE(n_components=2, perplexity=15, n_iter=2000, random_state=42)"
   ]
  },
  {
   "cell_type": "markdown",
   "id": "916d0409",
   "metadata": {},
   "source": [
    "- 이게 kmeans 기반 "
   ]
  },
  {
   "cell_type": "code",
   "execution_count": 115,
   "id": "4f101b67",
   "metadata": {},
   "outputs": [
    {
     "name": "stdout",
     "output_type": "stream",
     "text": [
      "\n",
      "🧩 클러스터 0 주요 키워드:\n",
      "[('주문', 29), ('요청', 22), ('제품', 12), ('사용', 12), ('문제', 12), ('대체', 10), ('환불', 6), ('상품', 5), (nan, 1), (nan, 1)]\n",
      "\n",
      "🧩 클러스터 1 주요 키워드:\n",
      "[('환불', 6), (nan, 1), (nan, 1), (nan, 1), (nan, 1), (nan, 1), (nan, 1), (nan, 1), (nan, 1), (nan, 1)]\n",
      "\n",
      "🧩 클러스터 2 주요 키워드:\n",
      "[(nan, 1), (nan, 1), (nan, 1), (nan, 1), (nan, 1), (nan, 1), (nan, 1), (nan, 1), (nan, 1), (nan, 1)]\n",
      "\n",
      "🧩 클러스터 3 주요 키워드:\n",
      "[('요청', 16), ('응답', 8)]\n",
      "\n",
      "🧩 클러스터 4 주요 키워드:\n",
      "[('응답', 18), ('주문', 18), ('물품', 9), ('문제', 9), ('환불', 6)]\n"
     ]
    }
   ],
   "source": [
    "from collections import Counter\n",
    "\n",
    "# 클러스터 개수 k개일 때\n",
    "for i in range(k):\n",
    "    print(f\"\\n🧩 클러스터 {i} 주요 키워드:\")\n",
    "    \n",
    "    # 클러스터 i에 해당하는 행 필터링 → 토큰 컬럼을 펼쳐서 리스트로 만들기\n",
    "    token_list = df_filtered[df_filtered['cluster'] == i]['filtered_tokens'].explode()\n",
    "    \n",
    "    # 가장 많이 등장한 토큰 10개 출력\n",
    "    top_keywords = Counter(token_list).most_common(10)\n",
    "    print(top_keywords)\n"
   ]
  },
  {
   "cell_type": "markdown",
   "id": "438ee1d4",
   "metadata": {},
   "source": [
    "-> kmeans했을때 조금 아쉬워서 보완할 수 있는걸 찾다가 LDA를 발견했어요"
   ]
  },
  {
   "cell_type": "markdown",
   "id": "cbac9a21",
   "metadata": {},
   "source": [
    "- 이게 LDA기반"
   ]
  },
  {
   "cell_type": "code",
   "execution_count": 116,
   "id": "c46af755",
   "metadata": {},
   "outputs": [
    {
     "name": "stdout",
     "output_type": "stream",
     "text": [
      "\n",
      "🧩 토픽 0 주요 키워드:\n",
      "[('주문', 34), ('제품', 27), ('문제', 23), ('요청', 12), ('상품', 10)]\n",
      "\n",
      "🧩 토픽 1 주요 키워드:\n",
      "[('서비스', 35), ('사용', 27), ('문제', 12), ('환불', 4), ('상품', 4), (nan, 1), (nan, 1), (nan, 1), (nan, 1), (nan, 1)]\n",
      "\n",
      "🧩 토픽 2 주요 키워드:\n",
      "[('쇼퍼', 55), ('환불', 21), ('사용', 13), ('쇼핑', 10), ('주문', 9), ('상품', 8), ('제품', 4)]\n",
      "\n",
      "🧩 토픽 3 주요 키워드:\n",
      "[('주문', 85), ('대체', 33), ('요청', 29), ('환불', 6), ('물품', 5)]\n",
      "\n",
      "🧩 토픽 4 주요 키워드:\n",
      "[('물품', 33), ('응답', 26), ('문제', 9), ('요청', 8)]\n"
     ]
    }
   ],
   "source": [
    "for i in range(df_filtered['topic_cluster'].nunique()):\n",
    "    print(f\"\\n🧩 토픽 {i} 주요 키워드:\")\n",
    "    token_list = df_filtered[df_filtered['topic_cluster'] == i]['filtered_tokens'].explode()\n",
    "    top_keywords = Counter(token_list).most_common(10)\n",
    "    print(top_keywords)\n"
   ]
  },
  {
   "cell_type": "markdown",
   "id": "485b949a",
   "metadata": {},
   "source": [
    "-> 아무래도 LDA가 더 잘된거같아서 \n",
    "- 그래서 기존의 KMEANS 코드를 전부 LDA로 변환시켰어요"
   ]
  },
  {
   "cell_type": "code",
   "execution_count": 142,
   "id": "34df0e0d",
   "metadata": {},
   "outputs": [],
   "source": [
    "# LDA 기반 topic_cluster 컬럼에 대한 라벨 매핑\n",
    "topic_labels = {\n",
    "    0: \"📦 주문 오류 및 대체 불만\\n- 주문 누락, 잘못된 대체품, 환불 미처리\",\n",
    "    1: \"🍎 제품 문제 및 품질 불만\\n- 상한 상품, 포장 불량, 품질 저하\",\n",
    "    2: \"🛠 서비스 품질 및 사용성 문제\\n- 앱 오류, 쿠폰 미적용, UI 불편\",\n",
    "    3: \"👤 쇼퍼 응대 및 환불 문제\\n- 쇼퍼 불친절, 응답 지연, 환불 지연\",\n",
    "    4: \"📞 고객 요청 미응답\\n- 요청사항 반영 안됨, 연락 두절, CS 미흡\"\n",
    "}\n",
    "\n",
    "\n",
    "# 새로운 라벨 컬럼 추가\n",
    "df_filtered['topic_label'] = df_filtered['topic_cluster'].map(topic_labels)\n"
   ]
  },
  {
   "cell_type": "code",
   "execution_count": 146,
   "id": "3da0655d",
   "metadata": {},
   "outputs": [
    {
     "name": "stdout",
     "output_type": "stream",
     "text": [
      "\n",
      " Topic 0 - 📦 주문 오류 및 대체 불만\n",
      "- 주문 누락, 잘못된 대체품, 환불 미처리\n",
      " - 요구사항 요약: 주문 정확도 개선 및 잘못된 대체품 방지 프로세스 강화 필요\n",
      " - 배송 기사에 의존하고 집으로 심각한 문제를 가져오는 것을 상상할 수 없습니다\n",
      " - 더 많은 인스타카트 팁을 요청했지만 주문하는 것이 불편했고, 제품을 선택하는 것을 선호했습니다\n",
      " - 주문이 취소되었고 제품이 없는 상태로 남아 있습니다\n",
      "\n",
      " Topic 1 - 🍎 제품 문제 및 품질 불만\n",
      "- 상한 상품, 포장 불량, 품질 저하\n",
      " - 요구사항 요약: 상품 품질 관리 및 포장 상태 개선과 신속한 클레임 처리 체계 필요\n",
      " - 뜨거운 손으로 만진 봉지에 냉동 생선이 들어 있어서 먹을 수 없었다\n",
      " - 나는 인스타카트를 믿을 수 없다\n",
      " - 그들의 오만함과 관심 없음에 대해 희망한다\n",
      "\n",
      " Topic 2 - 🛠 서비스 품질 및 사용성 문제\n",
      "- 앱 오류, 쿠폰 미적용, UI 불편\n",
      " - 요구사항 요약: 앱 기능 안정화, 할인/쿠폰 시스템 개선 및 전반적인 사용성 향상 필요\n",
      " - 더이상 참을 수 없어서 가게 매니저와 이야기하려고 했지만 환불에 대해 다시 속이 태우는 대답만 받아서 가방에 있는 식료품들을 그대로 두고 가게를 나왔습니다\n",
      " - 배송이 정말 최악이었고, 쇼퍼의 질이 많이 떨어진 것 같았습니다\n",
      " - 매우 불만족스러운 상황이었고, 환불 기록도 없었습니다\n",
      "\n",
      " Topic 3 - 👤 쇼퍼 응대 및 환불 문제\n",
      "- 쇼퍼 불친절, 응답 지연, 환불 지연\n",
      " - 요구사항 요약: 쇼퍼 교육 표준화 및 고객 불만 대응/환불 처리 시스템 개선 필요\n",
      " - 스톱 앤 샵에 도움을 요청했지만 인스타카트에 연락했을 때는 답변이 없었습니다\n",
      " - 주문 번호나 이메일 주소를 언급했을 때 대신품을 원하지 않고 환불을 원했는데, 나중에 주문 내역을 기록했을 때 인스타카트 웹사이트에 아무것도 없었습니다\n",
      " - 그때 남자가 주문한 많은 물건들이 없다고 표시했고, 최악의 대체품을 골랐어요\n",
      "\n",
      " Topic 4 - 📞 고객 요청 미응답\n",
      "- 요청사항 반영 안됨, 연락 두절, CS 미흡\n",
      " - 요구사항 요약: 고객 요청사항 실시간 반영과 대응 속도 개선을 위한 CS 시스템 필요\n",
      " - 76kg만 받았고 불만에 대한 응답이 없었습니다\n",
      " - 17kg만 받았고 불만에 대한 응답이 없었습니다\n",
      " - 정기적으로 필요한 물품을 선택할 수 있어야 하는데 배송은 완벽했고 문제가 없었습니다\n"
     ]
    }
   ],
   "source": [
    "# LDA 토픽 번호에 따른 요구사항 템플릿\n",
    "demand_templates_lda = {\n",
    "    0: \"주문 정확도 개선 및 잘못된 대체품 방지 프로세스 강화 필요\",\n",
    "    1: \"상품 품질 관리 및 포장 상태 개선과 신속한 클레임 처리 체계 필요\",\n",
    "    2: \"앱 기능 안정화, 할인/쿠폰 시스템 개선 및 전반적인 사용성 향상 필요\",\n",
    "    3: \"쇼퍼 교육 표준화 및 고객 불만 대응/환불 처리 시스템 개선 필요\",\n",
    "    4: \"고객 요청사항 실시간 반영과 대응 속도 개선을 위한 CS 시스템 필요\"\n",
    "}\n",
    "\n",
    "# 데이터프레임에 라벨/요구사항 매핑\n",
    "df_filtered['topic_label'] = df_filtered['topic_cluster'].map(topic_labels)\n",
    "df_filtered['user_demand'] = df_filtered['topic_cluster'].map(demand_templates_lda)\n",
    "\n",
    "# 출력 예시\n",
    "for i in sorted(df_filtered['topic_cluster'].unique()):\n",
    "    print(f\"\\n Topic {i} - {topic_labels[i]}\")\n",
    "    print(f\" - 요구사항 요약: {demand_templates_lda[i]}\")\n",
    "    sample = df_filtered[df_filtered['topic_cluster'] == i]['sentences'].drop_duplicates().head(3)\n",
    "    for s in sample:\n",
    "        print(\" -\", s)\n",
    "\n"
   ]
  },
  {
   "cell_type": "markdown",
   "id": "954c659f",
   "metadata": {},
   "source": [
    "토픽별 주요 키워드 워드클라우드 만들기"
   ]
  },
  {
   "cell_type": "code",
   "execution_count": 147,
   "id": "eaf10904",
   "metadata": {},
   "outputs": [
    {
     "name": "stderr",
     "output_type": "stream",
     "text": [
      "C:\\Users\\User\\AppData\\Local\\Temp\\ipykernel_7476\\1589450568.py:43: UserWarning: Glyph 129513 (\\N{JIGSAW PUZZLE PIECE}) missing from font(s) Malgun Gothic.\n",
      "  plt.tight_layout()\n",
      "c:\\Users\\User\\anaconda3\\Lib\\site-packages\\IPython\\core\\pylabtools.py:170: UserWarning: Glyph 129513 (\\N{JIGSAW PUZZLE PIECE}) missing from font(s) Malgun Gothic.\n",
      "  fig.canvas.print_figure(bytes_io, **kw)\n"
     ]
    },
    {
     "data": {
      "image/png": "[encoded data removed]",
      "text/plain": [
       "<Figure size 1800x1000 with 5 Axes>"
      ]
     },
     "metadata": {},
     "output_type": "display_data"
    }
   ],
   "source": [
    "from wordcloud import WordCloud\n",
    "import matplotlib.pyplot as plt\n",
    "\n",
    "# 폰트 설정\n",
    "font_path = \"C:/Windows/Fonts/malgun.ttf\"\n",
    "font_prop = fm.FontProperties(fname=font_path)\n",
    "\n",
    "# 주제명 매핑\n",
    "topic_labels = {\n",
    "    0: \"주문 오류 및 대체 불만\",\n",
    "    1: \"제품 문제 및 품질 불만\",\n",
    "    2: \"서비스 품질 및 사용성\",\n",
    "    3: \"쇼퍼 응대 및 환불 문제\",\n",
    "    4: \"고객 요청 미응답\"\n",
    "}\n",
    "\n",
    "# 시각화 설정\n",
    "n_topics = len(topic_labels)\n",
    "ncols = 3\n",
    "nrows = (n_topics + ncols - 1) // ncols\n",
    "\n",
    "plt.figure(figsize=(18, 10))\n",
    "\n",
    "for i, (topic_id, topic) in enumerate(lda.show_topics(formatted=False, num_words=20)):\n",
    "    words = dict(topic)\n",
    "    wc = WordCloud(font_path=font_path, background_color=\"white\", width=800, height=400)\n",
    "\n",
    "   \n",
    "    wc = WordCloud(\n",
    "        font_path=font_path,\n",
    "        background_color=\"white\",\n",
    "        colormap= 'Set2',\n",
    "        width=800,\n",
    "        height=400\n",
    "    )\n",
    "\n",
    "    plt.subplot(nrows, ncols, i + 1)\n",
    "    plt.imshow(wc.generate_from_frequencies(words))\n",
    "    plt.axis('off')\n",
    "    title_text = f\"🧩 Topic {topic_id}: {topic_labels.get(topic_id, 'Unknown')}\"\n",
    "    plt.title(title_text, fontproperties=font_prop, fontsize=14)\n",
    "\n",
    "plt.tight_layout()\n",
    "plt.show()\n"
   ]
  },
  {
   "cell_type": "markdown",
   "id": "ec4e4835",
   "metadata": {},
   "source": [
    "-> 이정도면 워드클라우드도 토픽별로 잘나오는것 같다고 판단했어요"
   ]
  },
  {
   "cell_type": "markdown",
   "id": "83492b2d",
   "metadata": {},
   "source": [
    "LDA 기반 사용자 요구사항 빈도 시각화 코드"
   ]
  },
  {
   "cell_type": "code",
   "execution_count": 148,
   "id": "027f7e38",
   "metadata": {},
   "outputs": [
    {
     "name": "stderr",
     "output_type": "stream",
     "text": [
      "C:\\Users\\User\\AppData\\Local\\Temp\\ipykernel_7476\\171052289.py:24: UserWarning: Glyph 128202 (\\N{BAR CHART}) missing from font(s) Malgun Gothic.\n",
      "  plt.tight_layout()\n",
      "c:\\Users\\User\\anaconda3\\Lib\\site-packages\\IPython\\core\\pylabtools.py:170: UserWarning: Glyph 128202 (\\N{BAR CHART}) missing from font(s) Malgun Gothic.\n",
      "  fig.canvas.print_figure(bytes_io, **kw)\n"
     ]
    },
    {
     "data": {
      "image/png": "[encoded data removed]",
      "text/plain": [
       "<Figure size 1000x600 with 1 Axes>"
      ]
     },
     "metadata": {},
     "output_type": "display_data"
    }
   ],
   "source": [
    "import matplotlib.pyplot as plt\n",
    "\n",
    "# 폰트 설정 (Windows 기준)\n",
    "plt.rcParams['font.family'] = 'Malgun Gothic'\n",
    "\n",
    "# ✅ LDA 기반 문장 수 요약 테이블\n",
    "lda_summary = df_filtered['topic_cluster'].map(topic_labels).value_counts().reset_index()\n",
    "lda_summary.columns = ['토픽 주제', '문장 수']\n",
    "lda_summary = lda_summary.sort_values('문장 수')  # y축 뒤집기용\n",
    "\n",
    "# ✅ 수평 막대그래프 그리기\n",
    "plt.figure(figsize=(10, 6))\n",
    "bars = plt.barh(lda_summary['토픽 주제'], lda_summary['문장 수'], color=\"#FFB347\")\n",
    "plt.xlabel(\"문장 수\")\n",
    "plt.title(\"📊 LDA 토픽별 사용자 요구사항 빈도 (대시보드 요약)\")\n",
    "plt.gca().invert_yaxis()\n",
    "plt.grid(axis='x', linestyle='--', alpha=0.7)\n",
    "\n",
    "# ✅ 바 라벨 추가\n",
    "for bar in bars:\n",
    "    plt.text(bar.get_width() + 0.5, bar.get_y() + bar.get_height() / 2,\n",
    "             f\"{int(bar.get_width())}\", va='center', fontsize=10)\n",
    "\n",
    "plt.tight_layout()\n",
    "plt.show()\n"
   ]
  },
  {
   "cell_type": "code",
   "execution_count": 149,
   "id": "3902b65e",
   "metadata": {},
   "outputs": [
    {
     "name": "stdout",
     "output_type": "stream",
     "text": [
      "전체 리뷰 수: 2968\n",
      "LDA 사용 리뷰 수: 383\n"
     ]
    }
   ],
   "source": [
    "print(\"전체 리뷰 수:\", len(df_instarvw))  # 원본 전체 리뷰 수\n",
    "print(\"LDA 사용 리뷰 수:\", len(df_filtered))  # LDA에 사용한 필터된 수"
   ]
  },
  {
   "cell_type": "markdown",
   "id": "9cbb47d4",
   "metadata": {},
   "source": [
    "-> 차이가 왜 나는지 궁금해서 확인해보니까 \n",
    "LDA로 필터링할때 \n",
    "1. 공백 리뷰 제거 (0개)\n",
    "2. 짧은 리뷰 제거 \n",
    "3. 의미 없는 토큰만 남은 리뷰 제거\n",
    "4. 오류 리뷰 제거 (인코딩실패같은)\n",
    "5. 특정 기준 키워드 없는 리뷰 제거하다보니 383개로 줄여진거같아요,,,"
   ]
  },
  {
   "cell_type": "markdown",
   "id": "a85ff74a",
   "metadata": {},
   "source": [
    "LDA 기반 클러스터별 키워드 빈도 분석 코드"
   ]
  },
  {
   "cell_type": "markdown",
   "id": "a0003750",
   "metadata": {},
   "source": [
    "- topic_labels \n",
    "    - 0: \"📦 주문 오류 및 대체 불만\\n- 주문 누락, 잘못된 대체품, 환불 미처리\",\n",
    "    - 1: \"🍎 제품 문제 및 품질 불만\\n- 상한 상품, 포장 불량, 품질 저하\",\n",
    "    - 2: \"🛠 서비스 품질 및 사용성 문제\\n- 앱 오류, 쿠폰 미적용, UI 불편\",\n",
    "    - 3: \"👤 쇼퍼 응대 및 환불 문제\\n- 쇼퍼 불친절, 응답 지연, 환불 지연\",\n",
    "    - 4: \"📞 고객 요청 미응답\\n- 요청사항 반영 안됨, 연락 두절, CS 미흡\"\n"
   ]
  },
  {
   "cell_type": "code",
   "execution_count": 151,
   "id": "bfce26fd",
   "metadata": {},
   "outputs": [
    {
     "data": {
      "text/html": [
       "<div>\n",
       "<style scoped>\n",
       "    .dataframe tbody tr th:only-of-type {\n",
       "        vertical-align: middle;\n",
       "    }\n",
       "\n",
       "    .dataframe tbody tr th {\n",
       "        vertical-align: top;\n",
       "    }\n",
       "\n",
       "    .dataframe thead th {\n",
       "        text-align: right;\n",
       "    }\n",
       "</style>\n",
       "<table border=\"1\" class=\"dataframe\">\n",
       "  <thead>\n",
       "    <tr style=\"text-align: right;\">\n",
       "      <th></th>\n",
       "      <th>토픽</th>\n",
       "      <th>키워드</th>\n",
       "      <th>등장 횟수</th>\n",
       "    </tr>\n",
       "  </thead>\n",
       "  <tbody>\n",
       "    <tr>\n",
       "      <th>0</th>\n",
       "      <td>3</td>\n",
       "      <td>주문</td>\n",
       "      <td>85</td>\n",
       "    </tr>\n",
       "    <tr>\n",
       "      <th>1</th>\n",
       "      <td>3</td>\n",
       "      <td>대체</td>\n",
       "      <td>33</td>\n",
       "    </tr>\n",
       "    <tr>\n",
       "      <th>2</th>\n",
       "      <td>3</td>\n",
       "      <td>요청</td>\n",
       "      <td>29</td>\n",
       "    </tr>\n",
       "    <tr>\n",
       "      <th>3</th>\n",
       "      <td>3</td>\n",
       "      <td>환불</td>\n",
       "      <td>6</td>\n",
       "    </tr>\n",
       "    <tr>\n",
       "      <th>4</th>\n",
       "      <td>3</td>\n",
       "      <td>물품</td>\n",
       "      <td>5</td>\n",
       "    </tr>\n",
       "    <tr>\n",
       "      <th>5</th>\n",
       "      <td>2</td>\n",
       "      <td>쇼퍼</td>\n",
       "      <td>55</td>\n",
       "    </tr>\n",
       "    <tr>\n",
       "      <th>6</th>\n",
       "      <td>2</td>\n",
       "      <td>환불</td>\n",
       "      <td>21</td>\n",
       "    </tr>\n",
       "    <tr>\n",
       "      <th>7</th>\n",
       "      <td>2</td>\n",
       "      <td>사용</td>\n",
       "      <td>13</td>\n",
       "    </tr>\n",
       "    <tr>\n",
       "      <th>8</th>\n",
       "      <td>2</td>\n",
       "      <td>쇼핑</td>\n",
       "      <td>10</td>\n",
       "    </tr>\n",
       "    <tr>\n",
       "      <th>9</th>\n",
       "      <td>2</td>\n",
       "      <td>주문</td>\n",
       "      <td>9</td>\n",
       "    </tr>\n",
       "    <tr>\n",
       "      <th>10</th>\n",
       "      <td>1</td>\n",
       "      <td>서비스</td>\n",
       "      <td>35</td>\n",
       "    </tr>\n",
       "    <tr>\n",
       "      <th>11</th>\n",
       "      <td>1</td>\n",
       "      <td>사용</td>\n",
       "      <td>27</td>\n",
       "    </tr>\n",
       "    <tr>\n",
       "      <th>12</th>\n",
       "      <td>1</td>\n",
       "      <td>문제</td>\n",
       "      <td>12</td>\n",
       "    </tr>\n",
       "    <tr>\n",
       "      <th>13</th>\n",
       "      <td>1</td>\n",
       "      <td>환불</td>\n",
       "      <td>4</td>\n",
       "    </tr>\n",
       "    <tr>\n",
       "      <th>14</th>\n",
       "      <td>1</td>\n",
       "      <td>상품</td>\n",
       "      <td>4</td>\n",
       "    </tr>\n",
       "    <tr>\n",
       "      <th>15</th>\n",
       "      <td>4</td>\n",
       "      <td>물품</td>\n",
       "      <td>33</td>\n",
       "    </tr>\n",
       "    <tr>\n",
       "      <th>16</th>\n",
       "      <td>4</td>\n",
       "      <td>응답</td>\n",
       "      <td>26</td>\n",
       "    </tr>\n",
       "    <tr>\n",
       "      <th>17</th>\n",
       "      <td>4</td>\n",
       "      <td>문제</td>\n",
       "      <td>9</td>\n",
       "    </tr>\n",
       "    <tr>\n",
       "      <th>18</th>\n",
       "      <td>4</td>\n",
       "      <td>요청</td>\n",
       "      <td>8</td>\n",
       "    </tr>\n",
       "    <tr>\n",
       "      <th>19</th>\n",
       "      <td>0</td>\n",
       "      <td>주문</td>\n",
       "      <td>34</td>\n",
       "    </tr>\n",
       "    <tr>\n",
       "      <th>20</th>\n",
       "      <td>0</td>\n",
       "      <td>제품</td>\n",
       "      <td>27</td>\n",
       "    </tr>\n",
       "    <tr>\n",
       "      <th>21</th>\n",
       "      <td>0</td>\n",
       "      <td>문제</td>\n",
       "      <td>23</td>\n",
       "    </tr>\n",
       "    <tr>\n",
       "      <th>22</th>\n",
       "      <td>0</td>\n",
       "      <td>요청</td>\n",
       "      <td>12</td>\n",
       "    </tr>\n",
       "    <tr>\n",
       "      <th>23</th>\n",
       "      <td>0</td>\n",
       "      <td>상품</td>\n",
       "      <td>10</td>\n",
       "    </tr>\n",
       "  </tbody>\n",
       "</table>\n",
       "</div>"
      ],
      "text/plain": [
       "    토픽  키워드  등장 횟수\n",
       "0    3   주문     85\n",
       "1    3   대체     33\n",
       "2    3   요청     29\n",
       "3    3   환불      6\n",
       "4    3   물품      5\n",
       "5    2   쇼퍼     55\n",
       "6    2   환불     21\n",
       "7    2   사용     13\n",
       "8    2   쇼핑     10\n",
       "9    2   주문      9\n",
       "10   1  서비스     35\n",
       "11   1   사용     27\n",
       "12   1   문제     12\n",
       "13   1   환불      4\n",
       "14   1   상품      4\n",
       "15   4   물품     33\n",
       "16   4   응답     26\n",
       "17   4   문제      9\n",
       "18   4   요청      8\n",
       "19   0   주문     34\n",
       "20   0   제품     27\n",
       "21   0   문제     23\n",
       "22   0   요청     12\n",
       "23   0   상품     10"
      ]
     },
     "execution_count": 151,
     "metadata": {},
     "output_type": "execute_result"
    }
   ],
   "source": [
    "from collections import Counter\n",
    "import pandas as pd\n",
    "from collections import defaultdict\n",
    "\n",
    "# 👉 사전 작업: LDA 기준으로 키워드 수집\n",
    "lda_keywords = defaultdict(list)\n",
    "\n",
    "for _, row in df_filtered.iterrows():\n",
    "    lda_keywords[row['topic_cluster']].extend(row['filtered_tokens'])\n",
    "\n",
    "# 클러스터별 핵심 키워드 TOP 5 추출\n",
    "top_keywords_per_topic = []\n",
    "\n",
    "for topic_id, tokens in lda_keywords.items():\n",
    "    counter = Counter(tokens)\n",
    "    top_keywords = counter.most_common(5)\n",
    "    for keyword, count in top_keywords:\n",
    "        top_keywords_per_topic.append({\n",
    "            '토픽': topic_id,\n",
    "            '키워드': keyword,\n",
    "            '등장 횟수': count\n",
    "        })\n",
    "\n",
    "# ✅ 최종 데이터프레임 생성\n",
    "df_top_keywords_lda = pd.DataFrame(top_keywords_per_topic)\n",
    "df_top_keywords_lda\n"
   ]
  },
  {
   "cell_type": "code",
   "execution_count": 152,
   "id": "f82f7fa3",
   "metadata": {},
   "outputs": [
    {
     "data": {
      "image/png": "[encoded data removed]",
      "text/plain": [
       "<Figure size 800x1500 with 5 Axes>"
      ]
     },
     "metadata": {},
     "output_type": "display_data"
    }
   ],
   "source": [
    "import matplotlib.pyplot as plt\n",
    "import matplotlib.font_manager as fm\n",
    "\n",
    "# 한글 폰트 설정 (Windows용)\n",
    "font_path = \"C:/Windows/Fonts/malgun.ttf\"\n",
    "font_prop = fm.FontProperties(fname=font_path)\n",
    "\n",
    "# 📌 데이터프레임: LDA 기반 키워드 데이터\n",
    "clusters = df_top_keywords_lda['토픽'].unique()\n",
    "num_clusters = len(clusters)\n",
    "\n",
    "fig, axes = plt.subplots(num_clusters, 1, figsize=(8, 3 * num_clusters), sharex=True)\n",
    "\n",
    "# subplot이 하나인 경우도 리스트 처리\n",
    "if num_clusters == 1:\n",
    "    axes = [axes]\n",
    "\n",
    "# 각 subplot 그리기\n",
    "for i, topic_id in enumerate(clusters):\n",
    "    data = df_top_keywords_lda[df_top_keywords_lda['토픽'] == topic_id]\n",
    "    bars = axes[i].barh(data['키워드'], data['등장 횟수'], color=\"#3EC647\")\n",
    "    \n",
    "    # 제목을 매핑된 토픽명으로 지정\n",
    "    axes[i].set_title(f\"{topic_names.get(topic_id, f'Topic {topic_id}')}\", fontproperties=font_prop, fontsize=14)\n",
    "    axes[i].set_ylabel(\"키워드\", fontproperties=font_prop)\n",
    "    axes[i].invert_yaxis()\n",
    "\n",
    "    # 숫자 레이블 추가\n",
    "    for bar in bars:\n",
    "        width = bar.get_width()\n",
    "        axes[i].text(width + 0.1, bar.get_y() + bar.get_height() / 2,\n",
    "                     f\"{int(width)}\", va='center', fontsize=10, color='black')\n",
    "\n",
    "# 마지막 x축 레이블만 추가\n",
    "axes[-1].set_xlabel(\"등장 횟수\", fontproperties=font_prop)\n",
    "\n",
    "plt.tight_layout()\n",
    "plt.show()\n"
   ]
  },
  {
   "cell_type": "markdown",
   "id": "c5e8f870",
   "metadata": {},
   "source": [
    "리뷰 별점에 큰 영향을 주는 핵심 요인들(예: 환불, 응대, 쇼퍼 태도, 대체품 문제 등)"
   ]
  },
  {
   "cell_type": "code",
   "execution_count": 153,
   "id": "4dad4214",
   "metadata": {},
   "outputs": [],
   "source": [
    "# 영향 요인 정의 (핵심 변수 정의)\n",
    "impact_factors = {\n",
    "    \"쇼퍼 태도\": [\"shopper\", \"쇼퍼\", \"불친절\", \"느림\", \"대응\", \"경험\"],\n",
    "    \"환불 문제\": [\"환불\", \"취소\", \"불가\", \"지연\", \"기록 없음\"],\n",
    "    \"응대 부족\": [\"응대\", \"답변\", \"연락 없음\", \"고객센터\", \"응답\"],\n",
    "    \"대체품 문제\": [\"대체\", \"대신\", \"선택\", \"최악\", \"맘에 안듦\"],\n",
    "    \"상품 상태\": [\"상하다\", \"썩다\", \"찌그러짐\", \"파손\", \"깨짐\", \"문제\", \"냄새\"]\n",
    "}\n"
   ]
  },
  {
   "cell_type": "markdown",
   "id": "61df0900",
   "metadata": {},
   "source": [
    "LDA 토픽별 영향 요인 문장 추출 코드"
   ]
  },
  {
   "cell_type": "code",
   "execution_count": 154,
   "id": "0fdeb0ff",
   "metadata": {},
   "outputs": [],
   "source": [
    "from collections import defaultdict\n",
    "\n",
    "lda_issue_sentences = defaultdict(lambda: defaultdict(set))  # ✅ set으로 중복 제거\n",
    "\n",
    "for _, row in df_filtered.iterrows():\n",
    "    topic_id = row['topic_cluster']\n",
    "    sentence = row['sentences']\n",
    "    for factor, keywords in impact_factors.items():\n",
    "        if any(kw in sentence for kw in keywords):\n",
    "            lda_issue_sentences[topic_id][factor].add(sentence)  # ✅ 중복 방지\n"
   ]
  },
  {
   "cell_type": "markdown",
   "id": "b6872172",
   "metadata": {},
   "source": [
    "각 토픽별 요인별 대표 문장"
   ]
  },
  {
   "cell_type": "code",
   "execution_count": 163,
   "id": "032e1c0a",
   "metadata": {},
   "outputs": [
    {
     "data": {
      "text/html": [
       "<div>\n",
       "<style scoped>\n",
       "    .dataframe tbody tr th:only-of-type {\n",
       "        vertical-align: middle;\n",
       "    }\n",
       "\n",
       "    .dataframe tbody tr th {\n",
       "        vertical-align: top;\n",
       "    }\n",
       "\n",
       "    .dataframe thead th {\n",
       "        text-align: right;\n",
       "    }\n",
       "</style>\n",
       "<table border=\"1\" class=\"dataframe\">\n",
       "  <thead>\n",
       "    <tr style=\"text-align: right;\">\n",
       "      <th></th>\n",
       "      <th>토픽 번호</th>\n",
       "      <th>주요 영향 요인</th>\n",
       "      <th>대표 문장</th>\n",
       "    </tr>\n",
       "  </thead>\n",
       "  <tbody>\n",
       "    <tr>\n",
       "      <th>21</th>\n",
       "      <td>0</td>\n",
       "      <td>대체품 문제</td>\n",
       "      <td>더 많은 인스타카트 팁을 요청했지만 주문하는 것이 불편했고, 제품을 선택하는 것을 ...</td>\n",
       "    </tr>\n",
       "    <tr>\n",
       "      <th>19</th>\n",
       "      <td>0</td>\n",
       "      <td>상품 상태</td>\n",
       "      <td>직원들과 관련된 부정적인 문제들을 자세히 언급한 리뷰였는데, 과거에 주문한 식료품이...</td>\n",
       "    </tr>\n",
       "    <tr>\n",
       "      <th>20</th>\n",
       "      <td>0</td>\n",
       "      <td>상품 상태</td>\n",
       "      <td>배송 기사에 의존하고 집으로 심각한 문제를 가져오는 것을 상상할 수 없습니다</td>\n",
       "    </tr>\n",
       "  </tbody>\n",
       "</table>\n",
       "</div>"
      ],
      "text/plain": [
       "    토픽 번호 주요 영향 요인                                              대표 문장\n",
       "21      0   대체품 문제  더 많은 인스타카트 팁을 요청했지만 주문하는 것이 불편했고, 제품을 선택하는 것을 ...\n",
       "19      0    상품 상태  직원들과 관련된 부정적인 문제들을 자세히 언급한 리뷰였는데, 과거에 주문한 식료품이...\n",
       "20      0    상품 상태         배송 기사에 의존하고 집으로 심각한 문제를 가져오는 것을 상상할 수 없습니다"
      ]
     },
     "execution_count": 163,
     "metadata": {},
     "output_type": "execute_result"
    }
   ],
   "source": [
    "import pandas as pd\n",
    "\n",
    "# 데이터를 표로 변환할 리스트\n",
    "rows = []\n",
    "\n",
    "# 토픽-요인별 대표 문장 추출\n",
    "for topic_id, factor_dict in lda_issue_sentences.items():\n",
    "    for factor, sents in factor_dict.items():\n",
    "        for s in list(sents)[:3]:  # 대표 문장 최대 3개까지\n",
    "            rows.append({\n",
    "                \"토픽 번호\": topic_id,\n",
    "                \"주요 영향 요인\": factor,\n",
    "                \"대표 문장\": s\n",
    "            })\n",
    "\n",
    "# DataFrame으로 변환\n",
    "df_lda_factors = pd.DataFrame(rows)\n",
    "\n",
    "# 보기 쉽게 정렬 (선택사항)\n",
    "df_lda_factors = df_lda_factors.sort_values(by=[\"토픽 번호\", \"주요 영향 요인\"])\n",
    "df_lda_factors.head(3)"
   ]
  },
  {
   "cell_type": "markdown",
   "id": "8b468e26",
   "metadata": {},
   "source": [
    "- 주제 잡고 다시 해볼게"
   ]
  },
  {
   "cell_type": "markdown",
   "id": "5b3d858c",
   "metadata": {},
   "source": [
    "| 대분류      | 세부 유형 (불만 유형 확장 예시)      |\n",
    "| -------- | ------------------------ |\n",
    "| 주문 문제    | 주문 실패 / 누락 / 지연 / 잘못된 제품 |\n",
    "| 배송 문제    | 배송 지연 / 배송 중 파손 / 쇼퍼 실수  |\n",
    "| 대체품 문제   | 고객 동의 없이 대체 / 품질 낮은 대체품  |\n",
    "| 환불·CS 문제 | 환불 지연 / 응답 없음 / 고객 응대 문제 |\n",
    "| 상품 품질 문제 | 상함 / 찢어짐 / 유통기한 문제       |\n",
    "| 쿠폰·결제    | 쿠폰 미적용 / 결제 오류           |\n"
   ]
  },
  {
   "cell_type": "markdown",
   "id": "f83a0ee4",
   "metadata": {},
   "source": [
    "-> 이렇게 확장시키기"
   ]
  },
  {
   "cell_type": "code",
   "execution_count": null,
   "id": "5296b0bf",
   "metadata": {},
   "outputs": [],
   "source": [
    "from konlpy.tag import Okt\n",
    "okt = Okt()\n",
    "\n",
    "def clean_and_tokenize(text):\n",
    "    # 예시: 명사 추출 + 불용어 제거\n",
    "    stopwords = ['정말', '진짜', '너무', '거의', '그냥', '좀', '것', '거', '에서', '으로', '하게', '해서']\n",
    "    tokens = okt.nouns(text)\n",
    "    tokens = [word for word in tokens if word not in stopwords and len(word) > 1]\n",
    "    return tokens\n",
    "\n",
    "# 적용\n",
    "df['filtered_tokens'] = df['리뷰(번역)'].apply(clean_and_tokenize)\n",
    "from konlpy.tag import Okt\n",
    "okt = Okt()\n",
    "def tokenize(text):\n",
    "    return [w for w, pos in okt.pos(text) if pos in ['Noun', 'Adjective']]\n"
   ]
  },
  {
   "cell_type": "code",
   "execution_count": null,
   "id": "d1e9db8a",
   "metadata": {},
   "outputs": [],
   "source": [
    "df_filtered = df[df['filtered_tokens'].apply(lambda x: len(x) > 2)].copy()"
   ]
  },
  {
   "cell_type": "code",
   "execution_count": 172,
   "id": "7688a314",
   "metadata": {},
   "outputs": [
    {
     "name": "stdout",
     "output_type": "stream",
     "text": [
      "전체 리뷰 수: 2100\n",
      "전처리 후 리뷰 수: 2100\n",
      "필터링 비율: 0.0 %\n"
     ]
    }
   ],
   "source": [
    "print(\"전체 리뷰 수:\", len(df))\n",
    "print(\"전처리 후 리뷰 수:\", len(df_filtered))\n",
    "print(\"필터링 비율:\", 100 - len(df_filtered)/len(df)*100, \"%\")\n"
   ]
  },
  {
   "cell_type": "code",
   "execution_count": 175,
   "id": "61721326",
   "metadata": {},
   "outputs": [
    {
     "name": "stdout",
     "output_type": "stream",
     "text": [
      "Index(['rating', 'review', '리뷰(번역)', 'filtered_tokens'], dtype='object')\n"
     ]
    }
   ],
   "source": [
    "print(df_filtered.columns)"
   ]
  },
  {
   "cell_type": "code",
   "execution_count": 177,
   "id": "a0fe69d8",
   "metadata": {},
   "outputs": [],
   "source": [
    "df_filtered = df_filtered.iloc[:len(lda_vectors)].copy()\n",
    "df_filtered['topic_cluster'] = np.argmax(lda_vectors, axis=1)"
   ]
  },
  {
   "cell_type": "code",
   "execution_count": 179,
   "id": "9ed5d85d",
   "metadata": {},
   "outputs": [
    {
     "data": {
      "text/plain": [
       "383"
      ]
     },
     "execution_count": 179,
     "metadata": {},
     "output_type": "execute_result"
    }
   ],
   "source": [
    "len(lda_vectors)"
   ]
  },
  {
   "cell_type": "code",
   "execution_count": 181,
   "id": "a4b93a8c",
   "metadata": {},
   "outputs": [],
   "source": [
    "from konlpy.tag import Okt\n",
    "\n",
    "okt = Okt()\n",
    "\n",
    "def tokenize(text):\n",
    "    return okt.nouns(text)  # 명사만 추출하거나 okt.morphs(text) 도 가능\n",
    "\n",
    "df['filtered_tokens'] = df['리뷰(번역)'].fillna('').apply(tokenize)\n"
   ]
  },
  {
   "cell_type": "code",
   "execution_count": 196,
   "id": "926ae783",
   "metadata": {},
   "outputs": [],
   "source": [
    "#  KoNLPy의 Okt 형태소 분석기를 활용하여 문장(sentences)을 \n",
    "# 형태소 분석 + 불용어 제거 + 주요 품사 필터링하는 전처리 과정\n",
    "from konlpy.tag import Okt\n",
    "\n",
    "okt = Okt()\n",
    "\n",
    "# 불용어 예시\n",
    "stopwords = ['정말', '진짜', '너무', '거의', '그냥','입니다', '있는', '하고', '해서', '하면', '정도'\n",
    "             , '좀', '것', '거', '에서', '하다','이다' ,'더','있다','으로', '하게']\n",
    "\n",
    "# 토큰화 및 불용어 제거\n",
    "def clean_and_tokenize(text):\n",
    "    tokens = okt.pos(text, stem=True)  # 품사 정보 포함\n",
    "    cleaned = [word for word, tag in tokens \n",
    "               if tag in ['Noun', 'Verb', 'Adjective'] and word not in stopwords]\n",
    "    return cleaned\n",
    "\n",
    "df_instarvw['tokens'] = df_instarvw['sentences'].apply(clean_and_tokenize)"
   ]
  },
  {
   "cell_type": "code",
   "execution_count": 197,
   "id": "2f31615a",
   "metadata": {},
   "outputs": [
    {
     "data": {
      "text/plain": [
       "[('하다', 433),\n",
       " ('없다', 378),\n",
       " ('수', 132),\n",
       " ('주문', 128),\n",
       " ('인스타', 99),\n",
       " ('카트', 99),\n",
       " ('있다', 88),\n",
       " ('배송', 55),\n",
       " ('쇼퍼', 55),\n",
       " ('더', 51),\n",
       " ('받다', 50),\n",
       " ('요청', 49),\n",
       " ('번', 47),\n",
       " ('선택', 46),\n",
       " ('때', 45),\n",
       " ('문제', 44),\n",
       " ('두', 42),\n",
       " ('되어다', 41),\n",
       " ('이다', 40),\n",
       " ('사용', 40),\n",
       " ('이상', 39),\n",
       " ('식료품', 39),\n",
       " ('물품', 38),\n",
       " ('들다', 36),\n",
       " ('서비스', 35),\n",
       " ('팁', 34),\n",
       " ('대한', 33),\n",
       " ('대체', 33),\n",
       " ('품', 33),\n",
       " ('환불', 31)]"
      ]
     },
     "execution_count": 197,
     "metadata": {},
     "output_type": "execute_result"
    }
   ],
   "source": [
    "from collections import Counter\n",
    "\n",
    "# 모든 불만 문장 토큰 합치기\n",
    "all_tokens = df_negative['tokens'].explode()\n",
    "token_counts = Counter(all_tokens)\n",
    "\n",
    "# 상위 키워드 확인\n",
    "token_counts.most_common(30)"
   ]
  },
  {
   "cell_type": "code",
   "execution_count": 199,
   "id": "724b10db",
   "metadata": {},
   "outputs": [],
   "source": [
    "# 분석에 쓸 키워드만 필터링\n",
    "meaningful_keywords =  {\n",
    "    \"상품 상태\": [\n",
    "        \"상하다\", \"썩다\", \"찌그러짐\", \"파손\", \"깨짐\", \"불량\", \"냄새\", \"상태\", \"신선\", \"포장\", \"문제\", \"변질\", \"누락\"\n",
    "    ],\n",
    "    \"대체품 문제\": [\n",
    "        \"대체\", \"대신\", \"잘못된\", \"다른\", \"원하지\", \"선택\", \"엉뚱한\", \"최악\", \"맘에 안듦\", \"마음에 들지 않음\"\n",
    "    ],\n",
    "    \"환불 문제\": [\n",
    "        \"환불\", \"지연\", \"취소\", \"불가\", \"기록 없음\", \"못 받음\", \"안 됨\", \"누락\", \"환불 안됨\", \"환불되지 않음\"\n",
    "    ],\n",
    "    \"쇼퍼 태도\": [\n",
    "        \"쇼퍼\", \"shopper\", \"불친절\", \"느림\", \"대응\", \"태도\", \"무시\", \"연락\", \"경험\", \"대화\", \"무반응\"\n",
    "    ],\n",
    "    \"응대 부족\": [\n",
    "        \"응대\", \"답변\", \"연락 없음\", \"고객센터\", \"응답 없음\", \"연결 안됨\", \"응답\", \"연락두절\"\n",
    "    ],\n",
    "    \"서비스 전반\": [\n",
    "        \"늦다\", \"느림\", \"연결\", \"응답 없음\", \"불편\", \"문제\", \"버그\", \"이용 불편\", \"접속 오류\", \"로그인 문제\"\n",
    "    ]\n",
    "}\n",
    "\n",
    "# 2. 일반 의미 있는 키워드\n",
    "general_keywords = [\n",
    "    \"주문\", \"환불\", \"쇼퍼\", \"상품\", \"서비스\", \"요청\", \"응답\", \n",
    "    \"대체\", \"물품\", \"제품\", \"문제\", \"사용\", \"쇼핑\"\n",
    "]\n",
    "\n",
    "# 1. impact factor 키워드만 추출\n",
    "impact_keywords = set()\n",
    "for keyword_list in meaningful_keywords.values():\n",
    "    impact_keywords.update(keyword_list)\n",
    "\n",
    "# 2. 일반 키워드와 합치기\n",
    "all_meaningful_keywords = impact_keywords.union(general_keywords)\n",
    "\n",
    "# 3. 필터링 적용\n",
    "df_filtered = df_negative.copy()\n",
    "df_filtered['filtered_tokens'] = df_filtered['tokens'].apply(\n",
    "    lambda tokens: [t for t in tokens if t in all_meaningful_keywords]\n",
    ")"
   ]
  },
  {
   "cell_type": "code",
   "execution_count": null,
   "id": "5936b41d",
   "metadata": {},
   "outputs": [],
   "source": [
    "\n",
    "# 키워드가 포함된 문장만 추출\n",
    "df_filtered['matched_keywords'] = df_filtered['filtered_tokens'].apply(lambda x: ', '.join(x))\n",
    "\n",
    "# 키워드별로 어떤 문장이 있었는지 보기\n",
    "for keyword in meaningful_keywords:\n",
    "    print(f\"\\n🔍 {keyword.upper()} 관련 문장들\")\n",
    "    subset = df_filtered[df_filtered['filtered_tokens'].apply(lambda tokens: keyword in tokens)]\n",
    "    for s in subset['sentences'].head(5):  # 상위 5개씩 예시 출력\n",
    "        print(\"-\", s)"
   ]
  },
  {
   "cell_type": "code",
   "execution_count": null,
   "id": "4bc91ccc",
   "metadata": {},
   "outputs": [
    {
     "name": "stdout",
     "output_type": "stream",
     "text": [
      "\n",
      "📌 [상품 상태] 관련 문장 예시\n",
      "\n",
      "🔍 키워드: '상태'\n",
      "- 다른 쇼퍼가 두 번 신선한 블루베리를 주문했을 때, 두 번 모양이 나쁜 상태로 도착했고 쇼퍼 노트에는 완전히 익은 과일을 선택하라는 표시가 무시되었습니다\n",
      "- 다른 쇼퍼가 두 번 신선한 블루베리를 주문했을 때, 두 번 모양이 나쁜 상태로 도착했고 쇼퍼 노트에는 완전히 익은 과일을 선택하라는 표시가 무시되었습니다\n",
      "- 다른 쇼퍼가 두 번 신선한 블루베리를 주문했을 때, 두 번 모양이 나쁜 상태로 도착했고 쇼퍼 노트에는 완전히 익은 과일을 선택하라는 표시가 무시되었습니다\n",
      "- 다른 쇼퍼가 두 번 신선한 블루베리를 주문했을 때, 두 번 모양이 나쁜 상태로 도착했고 쇼퍼 노트에는 완전히 익은 과일을 선택하라는 표시가 무시되었습니다\n",
      "- 다른 쇼퍼가 두 번 신선한 블루베리를 주문했을 때, 두 번 모양이 나쁜 상태로 도착했고 쇼퍼 노트에는 완전히 익은 과일을 선택하라는 표시가 무시되었습니다\n",
      "\n",
      "🔍 키워드: '문제'\n",
      "- 배송 기사에 의존하고 집으로 심각한 문제를 가져오는 것을 상상할 수 없습니다\n",
      "- 배송 기사에 의존하고 집으로 심각한 문제를 가져오는 것을 상상할 수 없습니다\n",
      "- 배송 기사에 의존하고 집으로 심각한 문제를 가져오는 것을 상상할 수 없습니다\n",
      "- 배송 기사에 의존하고 집으로 심각한 문제를 가져오는 것을 상상할 수 없습니다\n",
      "- 배송 기사에 의존하고 집으로 심각한 문제를 가져오는 것을 상상할 수 없습니다\n",
      "\n",
      "📌 [대체품 문제] 관련 문장 예시\n",
      "\n",
      "🔍 키워드: '대체'\n",
      "- 그때 남자가 주문한 많은 물건들이 없다고 표시했고, 최악의 대체품을 골랐어요\n",
      "- 그때 남자가 주문한 많은 물건들이 없다고 표시했고, 최악의 대체품을 골랐어요\n",
      "- 그때 남자가 주문한 많은 물건들이 없다고 표시했고, 최악의 대체품을 골랐어요\n",
      "- 그때 남자가 주문한 많은 물건들이 없다고 표시했고, 최악의 대체품을 골랐어요\n",
      "- 그때 남자가 주문한 많은 물건들이 없다고 표시했고, 최악의 대체품을 골랐어요\n",
      "\n",
      "🔍 키워드: '대신'\n",
      "- 서비스는 괜찮았지만 환불된 상태의 상품들은 상처받은 바나나와 사용할 수 없는 레몬, 건조한 껍질 대신 오렌지 주스를 보냈습니다\n",
      "- 서비스는 괜찮았지만 환불된 상태의 상품들은 상처받은 바나나와 사용할 수 없는 레몬, 건조한 껍질 대신 오렌지 주스를 보냈습니다\n",
      "- 서비스는 괜찮았지만 환불된 상태의 상품들은 상처받은 바나나와 사용할 수 없는 레몬, 건조한 껍질 대신 오렌지 주스를 보냈습니다\n",
      "- 서비스는 괜찮았지만 환불된 상태의 상품들은 상처받은 바나나와 사용할 수 없는 레몬, 건조한 껍질 대신 오렌지 주스를 보냈습니다\n",
      "\n",
      "🔍 키워드: '다른'\n",
      "- 다른 쇼퍼가 두 번 신선한 블루베리를 주문했을 때, 두 번 모양이 나쁜 상태로 도착했고 쇼퍼 노트에는 완전히 익은 과일을 선택하라는 표시가 무시되었습니다\n",
      "- 다른 쇼퍼가 두 번 신선한 블루베리를 주문했을 때, 두 번 모양이 나쁜 상태로 도착했고 쇼퍼 노트에는 완전히 익은 과일을 선택하라는 표시가 무시되었습니다\n",
      "- 다른 쇼퍼가 두 번 신선한 블루베리를 주문했을 때, 두 번 모양이 나쁜 상태로 도착했고 쇼퍼 노트에는 완전히 익은 과일을 선택하라는 표시가 무시되었습니다\n",
      "- 다른 쇼퍼가 두 번 신선한 블루베리를 주문했을 때, 두 번 모양이 나쁜 상태로 도착했고 쇼퍼 노트에는 완전히 익은 과일을 선택하라는 표시가 무시되었습니다\n",
      "- 다른 쇼퍼가 두 번 신선한 블루베리를 주문했을 때, 두 번 모양이 나쁜 상태로 도착했고 쇼퍼 노트에는 완전히 익은 과일을 선택하라는 표시가 무시되었습니다\n",
      "\n",
      "🔍 키워드: '선택'\n",
      "- 더 많은 인스타카트 팁을 요청했지만 주문하는 것이 불편했고, 제품을 선택하는 것을 선호했습니다\n",
      "- 더 많은 인스타카트 팁을 요청했지만 주문하는 것이 불편했고, 제품을 선택하는 것을 선호했습니다\n",
      "- 더 많은 인스타카트 팁을 요청했지만 주문하는 것이 불편했고, 제품을 선택하는 것을 선호했습니다\n",
      "- 더 많은 인스타카트 팁을 요청했지만 주문하는 것이 불편했고, 제품을 선택하는 것을 선호했습니다\n",
      "- 더 많은 인스타카트 팁을 요청했지만 주문하는 것이 불편했고, 제품을 선택하는 것을 선호했습니다\n",
      "\n",
      "🔍 키워드: '최악'\n",
      "- 배송이 정말 최악이었고, 쇼퍼의 질이 많이 떨어진 것 같았습니다\n",
      "- 배송이 정말 최악이었고, 쇼퍼의 질이 많이 떨어진 것 같았습니다\n",
      "- 배송이 정말 최악이었고, 쇼퍼의 질이 많이 떨어진 것 같았습니다\n",
      "- 배송이 정말 최악이었고, 쇼퍼의 질이 많이 떨어진 것 같았습니다\n",
      "- 배송이 정말 최악이었고, 쇼퍼의 질이 많이 떨어진 것 같았습니다\n",
      "\n",
      "📌 [환불 문제] 관련 문장 예시\n",
      "\n",
      "🔍 키워드: '환불'\n",
      "- 더이상 참을 수 없어서 가게 매니저와 이야기하려고 했지만 환불에 대해 다시 속이 태우는 대답만 받아서 가방에 있는 식료품들을 그대로 두고 가게를 나왔습니다\n",
      "- 더이상 참을 수 없어서 가게 매니저와 이야기하려고 했지만 환불에 대해 다시 속이 태우는 대답만 받아서 가방에 있는 식료품들을 그대로 두고 가게를 나왔습니다\n",
      "- 더이상 참을 수 없어서 가게 매니저와 이야기하려고 했지만 환불에 대해 다시 속이 태우는 대답만 받아서 가방에 있는 식료품들을 그대로 두고 가게를 나왔습니다\n",
      "- 더이상 참을 수 없어서 가게 매니저와 이야기하려고 했지만 환불에 대해 다시 속이 태우는 대답만 받아서 가방에 있는 식료품들을 그대로 두고 가게를 나왔습니다\n",
      "- 더이상 참을 수 없어서 가게 매니저와 이야기하려고 했지만 환불에 대해 다시 속이 태우는 대답만 받아서 가방에 있는 식료품들을 그대로 두고 가게를 나왔습니다\n",
      "\n",
      "🔍 키워드: '취소'\n",
      "- 주문이 취소되었고 제품이 없는 상태로 남아 있습니다\n",
      "- 주문이 취소되었고 제품이 없는 상태로 남아 있습니다\n",
      "- 주문이 취소되었고 제품이 없는 상태로 남아 있습니다\n",
      "- 주문이 취소되었고 제품이 없는 상태로 남아 있습니다\n",
      "- 주문을 취소하는 방법이 없어서 고정 소득을 받는 노인들은 예산을 지켜야 합니다\n",
      "\n",
      "📌 [쇼퍼 태도] 관련 문장 예시\n",
      "\n",
      "🔍 키워드: '쇼퍼'\n",
      "- 배송이 정말 최악이었고, 쇼퍼의 질이 많이 떨어진 것 같았습니다\n",
      "- 배송이 정말 최악이었고, 쇼퍼의 질이 많이 떨어진 것 같았습니다\n",
      "- 배송이 정말 최악이었고, 쇼퍼의 질이 많이 떨어진 것 같았습니다\n",
      "- 배송이 정말 최악이었고, 쇼퍼의 질이 많이 떨어진 것 같았습니다\n",
      "- 배송이 정말 최악이었고, 쇼퍼의 질이 많이 떨어진 것 같았습니다\n",
      "\n",
      "🔍 키워드: '무시'\n",
      "- 다른 쇼퍼가 두 번 신선한 블루베리를 주문했을 때, 두 번 모양이 나쁜 상태로 도착했고 쇼퍼 노트에는 완전히 익은 과일을 선택하라는 표시가 무시되었습니다\n",
      "- 다른 쇼퍼가 두 번 신선한 블루베리를 주문했을 때, 두 번 모양이 나쁜 상태로 도착했고 쇼퍼 노트에는 완전히 익은 과일을 선택하라는 표시가 무시되었습니다\n",
      "- 다른 쇼퍼가 두 번 신선한 블루베리를 주문했을 때, 두 번 모양이 나쁜 상태로 도착했고 쇼퍼 노트에는 완전히 익은 과일을 선택하라는 표시가 무시되었습니다\n",
      "- 다른 쇼퍼가 두 번 신선한 블루베리를 주문했을 때, 두 번 모양이 나쁜 상태로 도착했고 쇼퍼 노트에는 완전히 익은 과일을 선택하라는 표시가 무시되었습니다\n",
      "- 다른 쇼퍼가 두 번 신선한 블루베리를 주문했을 때, 두 번 모양이 나쁜 상태로 도착했고 쇼퍼 노트에는 완전히 익은 과일을 선택하라는 표시가 무시되었습니다\n",
      "\n",
      "🔍 키워드: '연락'\n",
      "- 스톱 앤 샵에 도움을 요청했지만 인스타카트에 연락했을 때는 답변이 없었습니다\n",
      "- 스톱 앤 샵에 도움을 요청했지만 인스타카트에 연락했을 때는 답변이 없었습니다\n",
      "- 스톱 앤 샵에 도움을 요청했지만 인스타카트에 연락했을 때는 답변이 없었습니다\n",
      "- 스톱 앤 샵에 도움을 요청했지만 인스타카트에 연락했을 때는 답변이 없었습니다\n",
      "- 스톱 앤 샵에 도움을 요청했지만 인스타카트에 연락했을 때는 답변이 없었습니다\n",
      "\n",
      "🔍 키워드: '경험'\n",
      "- 형편없는 경험, 불친절한 고객 서비스, 별점 마이너스 0, 선택 가능한 옵션이 없었습니다\n",
      "- 형편없는 경험, 불친절한 고객 서비스, 별점 마이너스 0, 선택 가능한 옵션이 없었습니다\n",
      "- 형편없는 경험, 불친절한 고객 서비스, 별점을 마이너스 0으로 줄 수 있는 옵션이 없음\n",
      "- 형편없는 경험, 불친절한 고객 서비스, 별점을 마이너스 0으로 줄 수 있는 옵션이 없음\n",
      "- 형편없는 경험, 불친절한 고객 서비스, 별점을 마이너스 0으로 줄 수 있는 옵션이 없음\n",
      "\n",
      "📌 [응대 부족] 관련 문장 예시\n",
      "\n",
      "🔍 키워드: '답변'\n",
      "- 스톱 앤 샵에 도움을 요청했지만 인스타카트에 연락했을 때는 답변이 없었습니다\n",
      "- 스톱 앤 샵에 도움을 요청했지만 인스타카트에 연락했을 때는 답변이 없었습니다\n",
      "- 스톱 앤 샵에 도움을 요청했지만 인스타카트에 연락했을 때는 답변이 없었습니다\n",
      "- 스톱 앤 샵에 도움을 요청했지만 인스타카트에 연락했을 때는 답변이 없었습니다\n",
      "- 스톱 앤 샵에 도움을 요청했지만 인스타카트에 연락했을 때는 답변이 없었습니다\n",
      "\n",
      "🔍 키워드: '응답'\n",
      "- 76kg만 받았고 불만에 대한 응답이 없었습니다\n",
      "- 17kg만 받았고 불만에 대한 응답이 없었습니다\n",
      "- 76kg만 받았고 불만에 대한 응답이 없었습니다\n",
      "- 17kg만 받았고 불만에 대한 응답이 없었습니다\n",
      "- 76kg만 받았고 불만에 대한 응답이 없었습니다\n",
      "\n",
      "📌 [서비스 전반] 관련 문장 예시\n",
      "\n",
      "🔍 키워드: '문제'\n",
      "- 배송 기사에 의존하고 집으로 심각한 문제를 가져오는 것을 상상할 수 없습니다\n",
      "- 배송 기사에 의존하고 집으로 심각한 문제를 가져오는 것을 상상할 수 없습니다\n",
      "- 배송 기사에 의존하고 집으로 심각한 문제를 가져오는 것을 상상할 수 없습니다\n",
      "- 배송 기사에 의존하고 집으로 심각한 문제를 가져오는 것을 상상할 수 없습니다\n",
      "- 배송 기사에 의존하고 집으로 심각한 문제를 가져오는 것을 상상할 수 없습니다\n"
     ]
    }
   ],
   "source": [
    "# 1. 키워드가 포함된 문장 필드 생성\n",
    "df_filtered['matched_keywords'] = df_filtered['filtered_tokens'].apply(lambda x: ', '.join(x))\n",
    "\n",
    "# 2. 카테고리별로 관련 문장 출력\n",
    "for category, keywords in meaningful_keywords.items():\n",
    "    print(f\"\\n📌 [{category}] 관련 문장 예시\")\n",
    "    \n",
    "    # 각 키워드별로 문장 출력\n",
    "    for keyword in keywords:\n",
    "        subset = df_filtered[df_filtered['filtered_tokens'].apply(lambda tokens: keyword in tokens)]\n",
    "    \n",
    "        if not subset.empty:\n",
    "            print(f\"\\n🔍 키워드: '{keyword}'\")\n",
    "            for s in subset['sentences'].head(5):\n",
    "                print(\"-\", s)\n",
    "# 중복해서 나옴 "
   ]
  },
  {
   "cell_type": "code",
   "execution_count": 204,
   "id": "80154798",
   "metadata": {},
   "outputs": [],
   "source": [
    "# 1. LDA 결과 컬럼: 'topic_cluster'와 'sentences'는 이미 있을 거예요\n",
    "\n",
    "# 2. 수작업 분류: impact_factors 기반 분류 추가\n",
    "def assign_primary_category(tokens):\n",
    "    for category, keywords in meaningful_keywords.items():\n",
    "        if any(k in tokens for k in keywords):\n",
    "            return category\n",
    "    return \"기타\"\n",
    "\n",
    "df_filtered['primary_category'] = df_filtered['filtered_tokens'].apply(assign_primary_category)\n"
   ]
  },
  {
   "cell_type": "code",
   "execution_count": 208,
   "id": "5846d9ca",
   "metadata": {},
   "outputs": [],
   "source": [
    "from gensim import corpora, models\n",
    "\n",
    "# 1. 토큰 리스트\n",
    "texts = df_filtered['filtered_tokens'].tolist()\n",
    "\n",
    "# 2. 단어 사전 생성\n",
    "dictionary = corpora.Dictionary(texts)\n",
    "\n",
    "# 3. 문서-단어 행렬 (BoW)\n",
    "corpus = [dictionary.doc2bow(text) for text in texts]\n",
    "\n",
    "# 4. LDA 모델 훈련\n",
    "lda_model = models.LdaModel(corpus=corpus, id2word=dictionary, num_topics=5, random_state=42)\n",
    "\n",
    "# 5. 문장별 토픽 할당\n",
    "def get_topic_id(doc_bow):\n",
    "    topics = lda_model.get_document_topics(doc_bow)\n",
    "    return sorted(topics, key=lambda x: -x[1])[0][0] if topics else -1\n",
    "\n",
    "df_filtered['topic_cluster'] = [get_topic_id(doc) for doc in corpus]"
   ]
  },
  {
   "cell_type": "code",
   "execution_count": 209,
   "id": "2e126515",
   "metadata": {},
   "outputs": [
    {
     "data": {
      "image/png": "[encoded data removed]",
      "text/plain": [
       "<Figure size 1200x600 with 2 Axes>"
      ]
     },
     "metadata": {},
     "output_type": "display_data"
    }
   ],
   "source": [
    "# 교차표\n",
    "comparison_table = pd.crosstab(df_filtered['topic_cluster'], df_filtered['primary_category'])\n",
    "\n",
    "# 시각화\n",
    "import seaborn as sns\n",
    "import matplotlib.pyplot as plt\n",
    "\n",
    "plt.figure(figsize=(12, 6))\n",
    "sns.heatmap(comparison_table, annot=True, fmt='d', cmap=\"YlGnBu\")\n",
    "plt.title(\"LDA 토픽 vs 수작업 키워드 카테고리 비교\")\n",
    "plt.xlabel(\"수작업 카테고리\")\n",
    "plt.ylabel(\"LDA 토픽\")\n",
    "plt.tight_layout()\n",
    "plt.show()\n"
   ]
  },
  {
   "cell_type": "markdown",
   "id": "be574a2d",
   "metadata": {},
   "source": [
    "- LDA 키워드 확인"
   ]
  },
  {
   "cell_type": "code",
   "execution_count": 212,
   "id": "8929f437",
   "metadata": {},
   "outputs": [
    {
     "name": "stdout",
     "output_type": "stream",
     "text": [
      "🧠 Topic 0: 쇼퍼, 선택, 주문, 최악, 문제, 사용, 응답, 상태, 물품, 취소\n",
      "🧠 Topic 1: 주문, 문제, 서비스, 선택, 사용, 쇼퍼, 요청, 물품, 상태, 다른\n",
      "🧠 Topic 2: 주문, 요청, 제품, 대체, 물품, 선택, 상품, 환불, 상태, 최악\n",
      "🧠 Topic 3: 환불, 요청, 서비스, 대체, 답변, 연락, 사용, 선택, 쇼퍼, 주문\n",
      "🧠 Topic 4: 쇼퍼, 물품, 사용, 응답, 상품, 상태, 제품, 쇼핑, 요청, 대체\n"
     ]
    }
   ],
   "source": [
    "# LDA 토픽 대표 키워드 출력\n",
    "for i, topic in lda_model.show_topics(num_topics=5, num_words=10, formatted=False):\n",
    "    keywords = \", \".join([word for word, _ in topic])\n",
    "    print(f\"🧠 Topic {i}: {keywords}\")\n"
   ]
  },
  {
   "cell_type": "markdown",
   "id": "85539f84",
   "metadata": {},
   "source": [
    "토픽이랑 해석 매칭시키기"
   ]
  },
  {
   "cell_type": "code",
   "execution_count": 215,
   "id": "10e67e91",
   "metadata": {},
   "outputs": [],
   "source": [
    "# 1. 토픽 번호에 따른 해석된 라벨 정의\n",
    "topic_label_map = {\n",
    "    0: \"환불 처리 지연 및 고객 응대 문제\",\n",
    "    1: \"원치 않는 대체상품 문제\",\n",
    "    2: \"상품 파손 및 신선도 불만\",\n",
    "    3: \"쇼퍼의 태도 및 커뮤니케이션 문제\",\n",
    "    4: \"앱/서비스 오류 및 사용성 문제\"\n",
    "}\n",
    "\n",
    "# 2. 매핑하여 새로운 컬럼 추가\n",
    "df_filtered['topic_label'] = df_filtered['topic_cluster'].map(topic_label_map)\n"
   ]
  },
  {
   "cell_type": "code",
   "execution_count": 222,
   "id": "4c65fbe4",
   "metadata": {},
   "outputs": [
    {
     "name": "stdout",
     "output_type": "stream",
     "text": [
      "\n",
      "📌 [Topic 0] 환불 처리 지연 및 고객 응대 문제 \n",
      "- 배송이 정말 최악이었고, 쇼퍼의 질이 많이 떨어진 것 같았습니다\n",
      "- 뜨거운 손으로 만진 봉지에 냉동 생선이 들어 있어서 먹을 수 없었다\n",
      "- 나는 인스타카트를 믿을 수 없다\n",
      "\n",
      "📌 [Topic 1] 원치 않는 대체상품 문제 \n",
      "- 불편함에 대한 5달러 크레딧을 제공했지만, 이 서비스를 더 이상 이용하지 않을 것입니다\n",
      "- 배송 기사에 의존하고 집으로 심각한 문제를 가져오는 것을 상상할 수 없습니다\n",
      "- 아프다는 이유로 두 번째로 인스타카트 옵션을 사용한 적이 있었는데, 식료품 앱 시간에 문제가 없었어요\n",
      "\n",
      "📌 [Topic 2] 상품 파손 및 신선도 불만 \n",
      "- 주문 번호나 이메일 주소를 언급했을 때 대신품을 원하지 않고 환불을 원했는데, 나중에 주문 내역을 기록했을 때 인스타카트 웹사이트에 아무것도 없었습니다\n",
      "- 더 많은 인스타카트 팁을 요청했지만 주문하는 것이 불편했고, 제품을 선택하는 것을 선호했습니다\n",
      "- 그때 남자가 주문한 많은 물건들이 없다고 표시했고, 최악의 대체품을 골랐어요\n",
      "\n",
      "📌 [Topic 3] 쇼퍼의 태도 및 커뮤니케이션 문제 \n",
      "- 스톱 앤 샵에 도움을 요청했지만 인스타카트에 연락했을 때는 답변이 없었습니다\n",
      "- 더이상 참을 수 없어서 가게 매니저와 이야기하려고 했지만 환불에 대해 다시 속이 태우는 대답만 받아서 가방에 있는 식료품들을 그대로 두고 가게를 나왔습니다\n",
      "- 매우 불만족스러운 상황이었고, 환불 기록도 없었습니다\n",
      "\n",
      "📌 [Topic 4] 앱/서비스 오류 및 사용성 문제 \n",
      "- 76kg만 받았고 불만에 대한 응답이 없었습니다\n",
      "- 17kg만 받았고 불만에 대한 응답이 없었습니다\n",
      "- 쇼퍼가 쇼핑을 하러 갔을 때 상품이 없어서 엄청 화가 났어요\n"
     ]
    }
   ],
   "source": [
    "# 중복 문장 제거용 집합\n",
    "seen_sentences = set()\n",
    "\n",
    "# 토픽별 문장 출력\n",
    "for topic_id in sorted(df_filtered['topic_cluster'].unique()):\n",
    "    # 해당 토픽의 라벨 가져오기\n",
    "    topic_name = df_filtered[df_filtered['topic_cluster'] == topic_id]['topic_label'].iloc[0]\n",
    "\n",
    "    print(f\"\\n📌 [Topic {topic_id}] {topic_name} \")\n",
    "\n",
    "    # 중복 제거된 문장만 추출\n",
    "    topic_sentences = df_filtered[df_filtered['topic_cluster'] == topic_id]['sentences'].drop_duplicates()\n",
    "\n",
    "    count = 0\n",
    "    for sent in topic_sentences:\n",
    "        if sent not in seen_sentences:\n",
    "            print(\"-\", sent)\n",
    "            seen_sentences.add(sent)\n",
    "            count += 1\n",
    "        if count >= 3:\n",
    "            break\n"
   ]
  },
  {
   "cell_type": "markdown",
   "id": "2b054316",
   "metadata": {},
   "source": [
    "-> 라벨링 매칭 시켰는데 잘 매칭 됐는지 확인하고 자동매칭으로 하면 얼마나 정확한지 비교하는거"
   ]
  },
  {
   "cell_type": "code",
   "execution_count": 218,
   "id": "2eecc2fd",
   "metadata": {},
   "outputs": [
    {
     "name": "stdout",
     "output_type": "stream",
     "text": [
      "🧠 Topic 0: 쇼퍼, 선택, 주문, 최악, 문제, 사용, 응답, 상태, 물품, 취소\n",
      "🧠 Topic 1: 주문, 문제, 서비스, 선택, 사용, 쇼퍼, 요청, 물품, 상태, 다른\n",
      "🧠 Topic 2: 주문, 요청, 제품, 대체, 물품, 선택, 상품, 환불, 상태, 최악\n",
      "🧠 Topic 3: 환불, 요청, 서비스, 대체, 답변, 연락, 사용, 선택, 쇼퍼, 주문\n",
      "🧠 Topic 4: 쇼퍼, 물품, 사용, 응답, 상품, 상태, 제품, 쇼핑, 요청, 대체\n"
     ]
    }
   ],
   "source": [
    "for i, topic in lda_model.show_topics(num_topics=5, num_words=10, formatted=False):\n",
    "    keywords = \", \".join([word for word, _ in topic])\n",
    "    print(f\"🧠 Topic {i}: {keywords}\")\n"
   ]
  },
  {
   "cell_type": "code",
   "execution_count": 220,
   "id": "de77e946",
   "metadata": {},
   "outputs": [],
   "source": [
    "# topic 키워드가 어떤 카테고리 키워드랑 가장 많이 겹치는지 자동 매핑\n",
    "def guess_label_from_keywords(topic_keywords, impact_dict):\n",
    "    scores = {}\n",
    "    for label, keywords in impact_dict.items():\n",
    "        # 얼마나 많이 겹치는지 스코어 계산\n",
    "        score = sum(1 for word in topic_keywords if word in keywords)\n",
    "        scores[label] = score\n",
    "\n",
    "    # 가장 많이 겹친 라벨 반환 (없으면 '기타')\n",
    "    best_label = max(scores, key=scores.get)\n",
    "    return best_label if scores[best_label] > 0 else \"기타\"\n",
    "\n"
   ]
  },
  {
   "cell_type": "code",
   "execution_count": 221,
   "id": "5012235d",
   "metadata": {},
   "outputs": [
    {
     "name": "stdout",
     "output_type": "stream",
     "text": [
      "🧠 Topic 0: 쇼퍼, 선택, 주문, 최악, 문제, 사용, 응답, 상태, 물품, 취소 → 📌 상품 상태\n",
      "🧠 Topic 1: 주문, 문제, 서비스, 선택, 사용, 쇼퍼, 요청, 물품, 상태, 다른 → 📌 상품 상태\n",
      "🧠 Topic 2: 주문, 요청, 제품, 대체, 물품, 선택, 상품, 환불, 상태, 최악 → 📌 대체품 문제\n",
      "🧠 Topic 3: 환불, 요청, 서비스, 대체, 답변, 연락, 사용, 선택, 쇼퍼, 주문 → 📌 대체품 문제\n",
      "🧠 Topic 4: 쇼퍼, 물품, 사용, 응답, 상품, 상태, 제품, 쇼핑, 요청, 대체 → 📌 상품 상태\n"
     ]
    }
   ],
   "source": [
    "# 토픽 번호 -> 대표 키워드 추출\n",
    "lda_topic_labels = {}\n",
    "\n",
    "for topic_id, topic in lda_model.show_topics(num_topics=5, num_words=10, formatted=False):\n",
    "    topic_keywords = [word for word, _ in topic]\n",
    "    label = guess_label_from_keywords(topic_keywords, impact_factors)\n",
    "    lda_topic_labels[topic_id] = label\n",
    "    print(f\"🧠 Topic {topic_id}: {', '.join(topic_keywords)} → 📌 {label}\")\n"
   ]
  },
  {
   "cell_type": "markdown",
   "id": "309e9bba",
   "metadata": {},
   "source": [
    "-> 이건 자동 매칭 한건데 자동매칭한건 잘안되어 보여서 수작업한걸로 다시 쓸거임"
   ]
  },
  {
   "cell_type": "code",
   "execution_count": 223,
   "id": "8d89786f",
   "metadata": {},
   "outputs": [
    {
     "data": {
      "text/plain": [
       "topic_cluster\n",
       "0    118\n",
       "1     75\n",
       "2     99\n",
       "3     44\n",
       "4     47\n",
       "Name: count, dtype: int64"
      ]
     },
     "execution_count": 223,
     "metadata": {},
     "output_type": "execute_result"
    }
   ],
   "source": [
    "df_filtered['topic_cluster'].value_counts().sort_index()"
   ]
  },
  {
   "cell_type": "code",
   "execution_count": 224,
   "id": "3b412ae2",
   "metadata": {},
   "outputs": [
    {
     "data": {
      "text/plain": [
       "topic_cluster\n",
       "0    1.093220\n",
       "1    1.000000\n",
       "2    1.282828\n",
       "3    1.111111\n",
       "4    1.000000\n",
       "Name: rating, dtype: float64"
      ]
     },
     "execution_count": 224,
     "metadata": {},
     "output_type": "execute_result"
    }
   ],
   "source": [
    "df_filtered.groupby('topic_cluster')['rating'].mean()"
   ]
  },
  {
   "cell_type": "markdown",
   "id": "2f07424b",
   "metadata": {},
   "source": [
    "- 요약"
   ]
  },
  {
   "cell_type": "code",
   "execution_count": 226,
   "id": "9e114158",
   "metadata": {},
   "outputs": [],
   "source": [
    "# 1. LDA 키워드 추출\n",
    "topic_keywords_dict = {\n",
    "    i: \", \".join([w for w, _ in topic])\n",
    "    for i, topic in lda_model.show_topics(num_topics=5, num_words=10, formatted=False)\n",
    "}\n",
    "\n",
    "# 2. 대표 문장 정리 (중복 제거)\n",
    "summary_data = []\n",
    "\n",
    "seen_sentences = set()\n",
    "for topic_id in sorted(df_filtered['topic_cluster'].unique()):\n",
    "    label = topic_label_map[topic_id]\n",
    "    keywords = topic_keywords_dict.get(topic_id, \"\")\n",
    "    \n",
    "    topic_sentences = df_filtered[df_filtered['topic_cluster'] == topic_id]['sentences'].drop_duplicates()\n",
    "    \n",
    "    topic_examples = []\n",
    "    for s in topic_sentences:\n",
    "        if s not in seen_sentences:\n",
    "            topic_examples.append(s)\n",
    "            seen_sentences.add(s)\n",
    "        if len(topic_examples) == 3:\n",
    "            break\n",
    "    \n",
    "    summary_data.append({\n",
    "        \"토픽 번호\": f\"Topic {topic_id}\",\n",
    "        \"불만 유형\": label,\n",
    "        \"대표 키워드\": keywords,\n",
    "        \"대표 문장\": \"\\n\".join(f\"{i+1}. {s}\" for i, s in enumerate(topic_examples))\n",
    "    })\n",
    "\n",
    "import pandas as pd\n",
    "df_summary = pd.DataFrame(summary_data)\n"
   ]
  },
  {
   "cell_type": "code",
   "execution_count": 227,
   "id": "0d244940",
   "metadata": {},
   "outputs": [
    {
     "data": {
      "text/html": [
       "<div>\n",
       "<style scoped>\n",
       "    .dataframe tbody tr th:only-of-type {\n",
       "        vertical-align: middle;\n",
       "    }\n",
       "\n",
       "    .dataframe tbody tr th {\n",
       "        vertical-align: top;\n",
       "    }\n",
       "\n",
       "    .dataframe thead th {\n",
       "        text-align: right;\n",
       "    }\n",
       "</style>\n",
       "<table border=\"1\" class=\"dataframe\">\n",
       "  <thead>\n",
       "    <tr style=\"text-align: right;\">\n",
       "      <th></th>\n",
       "      <th>토픽 번호</th>\n",
       "      <th>불만 유형</th>\n",
       "      <th>대표 키워드</th>\n",
       "      <th>대표 문장</th>\n",
       "    </tr>\n",
       "  </thead>\n",
       "  <tbody>\n",
       "    <tr>\n",
       "      <th>0</th>\n",
       "      <td>Topic 0</td>\n",
       "      <td>환불 처리 지연 및 고객 응대 문제</td>\n",
       "      <td>쇼퍼, 선택, 주문, 최악, 문제, 사용, 응답, 상태, 물품, 취소</td>\n",
       "      <td>1. 배송이 정말 최악이었고, 쇼퍼의 질이 많이 떨어진 것 같았습니다\\n2. 뜨거운...</td>\n",
       "    </tr>\n",
       "    <tr>\n",
       "      <th>1</th>\n",
       "      <td>Topic 1</td>\n",
       "      <td>원치 않는 대체상품 문제</td>\n",
       "      <td>주문, 문제, 서비스, 선택, 사용, 쇼퍼, 요청, 물품, 상태, 다른</td>\n",
       "      <td>1. 불편함에 대한 5달러 크레딧을 제공했지만, 이 서비스를 더 이상 이용하지 않을...</td>\n",
       "    </tr>\n",
       "    <tr>\n",
       "      <th>2</th>\n",
       "      <td>Topic 2</td>\n",
       "      <td>상품 파손 및 신선도 불만</td>\n",
       "      <td>주문, 요청, 제품, 대체, 물품, 선택, 상품, 환불, 상태, 최악</td>\n",
       "      <td>1. 주문 번호나 이메일 주소를 언급했을 때 대신품을 원하지 않고 환불을 원했는데,...</td>\n",
       "    </tr>\n",
       "    <tr>\n",
       "      <th>3</th>\n",
       "      <td>Topic 3</td>\n",
       "      <td>쇼퍼의 태도 및 커뮤니케이션 문제</td>\n",
       "      <td>환불, 요청, 서비스, 대체, 답변, 연락, 사용, 선택, 쇼퍼, 주문</td>\n",
       "      <td>1. 스톱 앤 샵에 도움을 요청했지만 인스타카트에 연락했을 때는 답변이 없었습니다\\...</td>\n",
       "    </tr>\n",
       "    <tr>\n",
       "      <th>4</th>\n",
       "      <td>Topic 4</td>\n",
       "      <td>앱/서비스 오류 및 사용성 문제</td>\n",
       "      <td>쇼퍼, 물품, 사용, 응답, 상품, 상태, 제품, 쇼핑, 요청, 대체</td>\n",
       "      <td>1. 76kg만 받았고 불만에 대한 응답이 없었습니다\\n2. 17kg만 받았고 불만...</td>\n",
       "    </tr>\n",
       "  </tbody>\n",
       "</table>\n",
       "</div>"
      ],
      "text/plain": [
       "     토픽 번호                불만 유형                                   대표 키워드  \\\n",
       "0  Topic 0  환불 처리 지연 및 고객 응대 문제   쇼퍼, 선택, 주문, 최악, 문제, 사용, 응답, 상태, 물품, 취소   \n",
       "1  Topic 1        원치 않는 대체상품 문제  주문, 문제, 서비스, 선택, 사용, 쇼퍼, 요청, 물품, 상태, 다른   \n",
       "2  Topic 2       상품 파손 및 신선도 불만   주문, 요청, 제품, 대체, 물품, 선택, 상품, 환불, 상태, 최악   \n",
       "3  Topic 3   쇼퍼의 태도 및 커뮤니케이션 문제  환불, 요청, 서비스, 대체, 답변, 연락, 사용, 선택, 쇼퍼, 주문   \n",
       "4  Topic 4    앱/서비스 오류 및 사용성 문제   쇼퍼, 물품, 사용, 응답, 상품, 상태, 제품, 쇼핑, 요청, 대체   \n",
       "\n",
       "                                               대표 문장  \n",
       "0  1. 배송이 정말 최악이었고, 쇼퍼의 질이 많이 떨어진 것 같았습니다\\n2. 뜨거운...  \n",
       "1  1. 불편함에 대한 5달러 크레딧을 제공했지만, 이 서비스를 더 이상 이용하지 않을...  \n",
       "2  1. 주문 번호나 이메일 주소를 언급했을 때 대신품을 원하지 않고 환불을 원했는데,...  \n",
       "3  1. 스톱 앤 샵에 도움을 요청했지만 인스타카트에 연락했을 때는 답변이 없었습니다\\...  \n",
       "4  1. 76kg만 받았고 불만에 대한 응답이 없었습니다\\n2. 17kg만 받았고 불만...  "
      ]
     },
     "execution_count": 227,
     "metadata": {},
     "output_type": "execute_result"
    }
   ],
   "source": [
    "df_summary\n"
   ]
  },
  {
   "cell_type": "code",
   "execution_count": 228,
   "id": "19548c86",
   "metadata": {},
   "outputs": [
    {
     "name": "stdout",
     "output_type": "stream",
     "text": [
      "\n",
      "🧠 Topic 0 - 환불 처리 지연 및 고객 응대 문제\n",
      "📌 주요 키워드: 쇼퍼, 선택, 주문, 최악, 문제, 사용, 응답, 상태, 물품, 취소\n",
      "📝 대표 문장:\n",
      "1. 배송이 정말 최악이었고, 쇼퍼의 질이 많이 떨어진 것 같았습니다\n",
      "2. 뜨거운 손으로 만진 봉지에 냉동 생선이 들어 있어서 먹을 수 없었다\n",
      "3. 나는 인스타카트를 믿을 수 없다\n",
      "\n",
      "🧠 Topic 1 - 원치 않는 대체상품 문제\n",
      "📌 주요 키워드: 주문, 문제, 서비스, 선택, 사용, 쇼퍼, 요청, 물품, 상태, 다른\n",
      "📝 대표 문장:\n",
      "1. 불편함에 대한 5달러 크레딧을 제공했지만, 이 서비스를 더 이상 이용하지 않을 것입니다\n",
      "2. 배송 기사에 의존하고 집으로 심각한 문제를 가져오는 것을 상상할 수 없습니다\n",
      "3. 아프다는 이유로 두 번째로 인스타카트 옵션을 사용한 적이 있었는데, 식료품 앱 시간에 문제가 없었어요\n",
      "\n",
      "🧠 Topic 2 - 상품 파손 및 신선도 불만\n",
      "📌 주요 키워드: 주문, 요청, 제품, 대체, 물품, 선택, 상품, 환불, 상태, 최악\n",
      "📝 대표 문장:\n",
      "1. 주문 번호나 이메일 주소를 언급했을 때 대신품을 원하지 않고 환불을 원했는데, 나중에 주문 내역을 기록했을 때 인스타카트 웹사이트에 아무것도 없었습니다\n",
      "2. 더 많은 인스타카트 팁을 요청했지만 주문하는 것이 불편했고, 제품을 선택하는 것을 선호했습니다\n",
      "3. 그때 남자가 주문한 많은 물건들이 없다고 표시했고, 최악의 대체품을 골랐어요\n",
      "\n",
      "🧠 Topic 3 - 쇼퍼의 태도 및 커뮤니케이션 문제\n",
      "📌 주요 키워드: 환불, 요청, 서비스, 대체, 답변, 연락, 사용, 선택, 쇼퍼, 주문\n",
      "📝 대표 문장:\n",
      "1. 스톱 앤 샵에 도움을 요청했지만 인스타카트에 연락했을 때는 답변이 없었습니다\n",
      "2. 더이상 참을 수 없어서 가게 매니저와 이야기하려고 했지만 환불에 대해 다시 속이 태우는 대답만 받아서 가방에 있는 식료품들을 그대로 두고 가게를 나왔습니다\n",
      "3. 매우 불만족스러운 상황이었고, 환불 기록도 없었습니다\n",
      "\n",
      "🧠 Topic 4 - 앱/서비스 오류 및 사용성 문제\n",
      "📌 주요 키워드: 쇼퍼, 물품, 사용, 응답, 상품, 상태, 제품, 쇼핑, 요청, 대체\n",
      "📝 대표 문장:\n",
      "1. 76kg만 받았고 불만에 대한 응답이 없었습니다\n",
      "2. 17kg만 받았고 불만에 대한 응답이 없었습니다\n",
      "3. 쇼퍼가 쇼핑을 하러 갔을 때 상품이 없어서 엄청 화가 났어요\n"
     ]
    }
   ],
   "source": [
    "for row in summary_data:\n",
    "    print(f\"\\n🧠 {row['토픽 번호']} - {row['불만 유형']}\")\n",
    "    print(f\"📌 주요 키워드: {row['대표 키워드']}\")\n",
    "    print(\"📝 대표 문장:\\n\" + row['대표 문장'])"
   ]
  },
  {
   "cell_type": "code",
   "execution_count": null,
   "id": "dc384c32",
   "metadata": {},
   "outputs": [],
   "source": []
  }
 ],
 "metadata": {
  "kernelspec": {
   "display_name": "base",
   "language": "python",
   "name": "python3"
  },
  "language_info": {
   "codemirror_mode": {
    "name": "ipython",
    "version": 3
   },
   "file_extension": ".py",
   "mimetype": "text/x-python",
   "name": "python",
   "nbconvert_exporter": "python",
   "pygments_lexer": "ipython3",
   "version": "3.12.7"
  }
 },
 "nbformat": 4,
 "nbformat_minor": 5
}
