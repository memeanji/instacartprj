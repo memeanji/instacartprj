{
 "cells": [
  {
   "cell_type": "code",
   "execution_count": 1,
   "id": "b6d028ac",
   "metadata": {},
   "outputs": [],
   "source": [
    "import pandas as pd"
   ]
  },
  {
   "cell_type": "code",
   "execution_count": 2,
   "id": "e0d7b309",
   "metadata": {},
   "outputs": [],
   "source": [
    "df_fruit = pd.read_excel(r\"C:\\Users\\User\\Desktop\\프로젝트\\과일_크롤링결과.xlsx\")\n",
    "df_vet = pd.read_excel(r\"C:\\Users\\User\\Desktop\\프로젝트\\채소_크롤링결과.xlsx\")\n",
    "df_milk = pd.read_excel(r\"C:\\Users\\User\\Desktop\\프로젝트\\우유_크롤링결과.xlsx\")"
   ]
  },
  {
   "cell_type": "code",
   "execution_count": 3,
   "id": "29c968d4",
   "metadata": {},
   "outputs": [],
   "source": [
    "df_merged = pd.concat([df_fruit, df_vet, df_milk], ignore_index=True)"
   ]
  },
  {
   "cell_type": "code",
   "execution_count": 5,
   "id": "ed2bbd26",
   "metadata": {},
   "outputs": [],
   "source": [
    "df_fruit['category'] = 'fruit'\n",
    "df_vet['category'] = 'vegetable'\n",
    "df_milk['category'] = 'milk'\n",
    "\n",
    "df_merged = pd.concat([df_fruit, df_vet, df_milk], ignore_index=True)"
   ]
  },
  {
   "cell_type": "code",
   "execution_count": 6,
   "id": "51a744d4",
   "metadata": {},
   "outputs": [
    {
     "data": {
      "text/html": [
       "<div>\n",
       "<style scoped>\n",
       "    .dataframe tbody tr th:only-of-type {\n",
       "        vertical-align: middle;\n",
       "    }\n",
       "\n",
       "    .dataframe tbody tr th {\n",
       "        vertical-align: top;\n",
       "    }\n",
       "\n",
       "    .dataframe thead th {\n",
       "        text-align: right;\n",
       "    }\n",
       "</style>\n",
       "<table border=\"1\" class=\"dataframe\">\n",
       "  <thead>\n",
       "    <tr style=\"text-align: right;\">\n",
       "      <th></th>\n",
       "      <th>category</th>\n",
       "      <th>이미지</th>\n",
       "      <th>상품명</th>\n",
       "      <th>정가</th>\n",
       "      <th>판매가</th>\n",
       "      <th>카드할인정보</th>\n",
       "      <th>적립금</th>\n",
       "      <th>배송유형</th>\n",
       "      <th>URL</th>\n",
       "      <th>상세상품명</th>\n",
       "      <th>전체리뷰수</th>\n",
       "      <th>리뷰작성자</th>\n",
       "      <th>리뷰별점</th>\n",
       "      <th>리뷰작성일</th>\n",
       "      <th>리뷰본문</th>\n",
       "      <th>리뷰도움돼요</th>\n",
       "    </tr>\n",
       "  </thead>\n",
       "  <tbody>\n",
       "    <tr>\n",
       "      <th>0</th>\n",
       "      <td>vegetable</td>\n",
       "      <td>NaN</td>\n",
       "      <td>작아도 맛있는 양배추, 800g, 1개입, 1개</td>\n",
       "      <td>없음</td>\n",
       "      <td>2,480</td>\n",
       "      <td>없음</td>\n",
       "      <td>최대 124원 적립</td>\n",
       "      <td>로켓배송</td>\n",
       "      <td>https://www.coupang.com/vp/products/7826310148...</td>\n",
       "      <td>없음</td>\n",
       "      <td>없음</td>\n",
       "      <td>없음</td>\n",
       "      <td>없음</td>\n",
       "      <td>없음</td>\n",
       "      <td>없음</td>\n",
       "      <td>없음</td>\n",
       "    </tr>\n",
       "    <tr>\n",
       "      <th>1</th>\n",
       "      <td>vegetable</td>\n",
       "      <td>NaN</td>\n",
       "      <td>국내산 애호박, 1개입, 1개</td>\n",
       "      <td>없음</td>\n",
       "      <td>990</td>\n",
       "      <td>없음</td>\n",
       "      <td>최대 50원 적립</td>\n",
       "      <td>로켓배송</td>\n",
       "      <td>https://www.coupang.com/vp/products/4697181411...</td>\n",
       "      <td>없음</td>\n",
       "      <td>없음</td>\n",
       "      <td>없음</td>\n",
       "      <td>없음</td>\n",
       "      <td>없음</td>\n",
       "      <td>없음</td>\n",
       "      <td>없음</td>\n",
       "    </tr>\n",
       "    <tr>\n",
       "      <th>2</th>\n",
       "      <td>vegetable</td>\n",
       "      <td>NaN</td>\n",
       "      <td>국내산 채소믹스, 1kg, 1개</td>\n",
       "      <td>없음</td>\n",
       "      <td>9,790</td>\n",
       "      <td>없음</td>\n",
       "      <td>최대 490원 적립</td>\n",
       "      <td>로켓배송</td>\n",
       "      <td>https://www.coupang.com/vp/products/1676813901...</td>\n",
       "      <td>없음</td>\n",
       "      <td>없음</td>\n",
       "      <td>없음</td>\n",
       "      <td>없음</td>\n",
       "      <td>없음</td>\n",
       "      <td>없음</td>\n",
       "      <td>없음</td>\n",
       "    </tr>\n",
       "  </tbody>\n",
       "</table>\n",
       "</div>"
      ],
      "text/plain": [
       "    category  이미지                         상품명  정가    판매가 카드할인정보         적립금  \\\n",
       "0  vegetable  NaN  작아도 맛있는 양배추, 800g, 1개입, 1개  없음  2,480     없음  최대 124원 적립   \n",
       "1  vegetable  NaN            국내산 애호박, 1개입, 1개  없음    990     없음   최대 50원 적립   \n",
       "2  vegetable  NaN           국내산 채소믹스, 1kg, 1개  없음  9,790     없음  최대 490원 적립   \n",
       "\n",
       "   배송유형                                                URL 상세상품명 전체리뷰수 리뷰작성자  \\\n",
       "0  로켓배송  https://www.coupang.com/vp/products/7826310148...    없음    없음    없음   \n",
       "1  로켓배송  https://www.coupang.com/vp/products/4697181411...    없음    없음    없음   \n",
       "2  로켓배송  https://www.coupang.com/vp/products/1676813901...    없음    없음    없음   \n",
       "\n",
       "  리뷰별점 리뷰작성일 리뷰본문 리뷰도움돼요  \n",
       "0   없음    없음   없음     없음  \n",
       "1   없음    없음   없음     없음  \n",
       "2   없음    없음   없음     없음  "
      ]
     },
     "execution_count": 6,
     "metadata": {},
     "output_type": "execute_result"
    }
   ],
   "source": [
    "df_merged.head(3)"
   ]
  },
  {
   "cell_type": "markdown",
   "id": "6660b0ae",
   "metadata": {},
   "source": [
    "- 사용안할 것 같은 컬럼 지울게 "
   ]
  },
  {
   "cell_type": "code",
   "execution_count": 8,
   "id": "ecd87789",
   "metadata": {},
   "outputs": [],
   "source": [
    "df_merged.drop(columns=['카드할인정보', '적립금'], inplace=True)"
   ]
  },
  {
   "cell_type": "code",
   "execution_count": 9,
   "id": "94a4d830",
   "metadata": {},
   "outputs": [
    {
     "data": {
      "text/html": [
       "<div>\n",
       "<style scoped>\n",
       "    .dataframe tbody tr th:only-of-type {\n",
       "        vertical-align: middle;\n",
       "    }\n",
       "\n",
       "    .dataframe tbody tr th {\n",
       "        vertical-align: top;\n",
       "    }\n",
       "\n",
       "    .dataframe thead th {\n",
       "        text-align: right;\n",
       "    }\n",
       "</style>\n",
       "<table border=\"1\" class=\"dataframe\">\n",
       "  <thead>\n",
       "    <tr style=\"text-align: right;\">\n",
       "      <th></th>\n",
       "      <th>category</th>\n",
       "      <th>이미지</th>\n",
       "      <th>상품명</th>\n",
       "      <th>정가</th>\n",
       "      <th>판매가</th>\n",
       "      <th>배송유형</th>\n",
       "      <th>URL</th>\n",
       "      <th>상세상품명</th>\n",
       "      <th>전체리뷰수</th>\n",
       "      <th>리뷰작성자</th>\n",
       "      <th>리뷰별점</th>\n",
       "      <th>리뷰작성일</th>\n",
       "      <th>리뷰본문</th>\n",
       "      <th>리뷰도움돼요</th>\n",
       "    </tr>\n",
       "  </thead>\n",
       "  <tbody>\n",
       "    <tr>\n",
       "      <th>0</th>\n",
       "      <td>vegetable</td>\n",
       "      <td>NaN</td>\n",
       "      <td>작아도 맛있는 양배추, 800g, 1개입, 1개</td>\n",
       "      <td>없음</td>\n",
       "      <td>2,480</td>\n",
       "      <td>로켓배송</td>\n",
       "      <td>https://www.coupang.com/vp/products/7826310148...</td>\n",
       "      <td>없음</td>\n",
       "      <td>없음</td>\n",
       "      <td>없음</td>\n",
       "      <td>없음</td>\n",
       "      <td>없음</td>\n",
       "      <td>없음</td>\n",
       "      <td>없음</td>\n",
       "    </tr>\n",
       "    <tr>\n",
       "      <th>1</th>\n",
       "      <td>vegetable</td>\n",
       "      <td>NaN</td>\n",
       "      <td>국내산 애호박, 1개입, 1개</td>\n",
       "      <td>없음</td>\n",
       "      <td>990</td>\n",
       "      <td>로켓배송</td>\n",
       "      <td>https://www.coupang.com/vp/products/4697181411...</td>\n",
       "      <td>없음</td>\n",
       "      <td>없음</td>\n",
       "      <td>없음</td>\n",
       "      <td>없음</td>\n",
       "      <td>없음</td>\n",
       "      <td>없음</td>\n",
       "      <td>없음</td>\n",
       "    </tr>\n",
       "    <tr>\n",
       "      <th>2</th>\n",
       "      <td>vegetable</td>\n",
       "      <td>NaN</td>\n",
       "      <td>국내산 채소믹스, 1kg, 1개</td>\n",
       "      <td>없음</td>\n",
       "      <td>9,790</td>\n",
       "      <td>로켓배송</td>\n",
       "      <td>https://www.coupang.com/vp/products/1676813901...</td>\n",
       "      <td>없음</td>\n",
       "      <td>없음</td>\n",
       "      <td>없음</td>\n",
       "      <td>없음</td>\n",
       "      <td>없음</td>\n",
       "      <td>없음</td>\n",
       "      <td>없음</td>\n",
       "    </tr>\n",
       "  </tbody>\n",
       "</table>\n",
       "</div>"
      ],
      "text/plain": [
       "    category  이미지                         상품명  정가    판매가  배송유형  \\\n",
       "0  vegetable  NaN  작아도 맛있는 양배추, 800g, 1개입, 1개  없음  2,480  로켓배송   \n",
       "1  vegetable  NaN            국내산 애호박, 1개입, 1개  없음    990  로켓배송   \n",
       "2  vegetable  NaN           국내산 채소믹스, 1kg, 1개  없음  9,790  로켓배송   \n",
       "\n",
       "                                                 URL 상세상품명 전체리뷰수 리뷰작성자 리뷰별점  \\\n",
       "0  https://www.coupang.com/vp/products/7826310148...    없음    없음    없음   없음   \n",
       "1  https://www.coupang.com/vp/products/4697181411...    없음    없음    없음   없음   \n",
       "2  https://www.coupang.com/vp/products/1676813901...    없음    없음    없음   없음   \n",
       "\n",
       "  리뷰작성일 리뷰본문 리뷰도움돼요  \n",
       "0    없음   없음     없음  \n",
       "1    없음   없음     없음  \n",
       "2    없음   없음     없음  "
      ]
     },
     "execution_count": 9,
     "metadata": {},
     "output_type": "execute_result"
    }
   ],
   "source": [
    "df_merged.head(3)"
   ]
  },
  {
   "cell_type": "markdown",
   "id": "9d395a2c",
   "metadata": {},
   "source": [
    "- 인스타카트 인기 키워드 top 10이 크롤링한 것 중 있는지 확인"
   ]
  },
  {
   "cell_type": "code",
   "execution_count": 10,
   "id": "6495754f",
   "metadata": {},
   "outputs": [],
   "source": [
    "top_products = ['우유', '바나나', '아보카도', '딸기', '시금치', '레몬', '라즈베리', '양파', '블루베리', '라임']"
   ]
  },
  {
   "cell_type": "markdown",
   "id": "3eac367c",
   "metadata": {},
   "source": [
    "특정 컬럼에 포함된 키워드 확인 (예: 상품명, 리뷰, mentioned_products 등)"
   ]
  },
  {
   "cell_type": "code",
   "execution_count": 11,
   "id": "389e8ce2",
   "metadata": {},
   "outputs": [],
   "source": [
    "found_keywords = [product for product in top_products if any(df_merged['상품명'].astype(str).str.contains(product))]\n"
   ]
  },
  {
   "cell_type": "markdown",
   "id": "49def18b",
   "metadata": {},
   "source": [
    " 누락된 키워드 확인"
   ]
  },
  {
   "cell_type": "code",
   "execution_count": 12,
   "id": "f40cb217",
   "metadata": {},
   "outputs": [
    {
     "name": "stdout",
     "output_type": "stream",
     "text": [
      "🔍 누락된 키워드: ['라즈베리', '시금치', '블루베리', '레몬', '아보카도', '라임']\n"
     ]
    }
   ],
   "source": [
    "missing_keywords = list(set(top_products) - set(found_keywords))\n",
    "print(\"🔍 누락된 키워드:\", missing_keywords)\n"
   ]
  },
  {
   "cell_type": "code",
   "execution_count": 13,
   "id": "d529f522",
   "metadata": {},
   "outputs": [
    {
     "name": "stdout",
     "output_type": "stream",
     "text": [
      "✅ 포함된 키워드: ['우유', '바나나', '딸기', '양파']\n",
      "❌ 누락된 키워드: ['라즈베리', '시금치', '블루베리', '레몬', '아보카도', '라임']\n"
     ]
    }
   ],
   "source": [
    "print(\"✅ 포함된 키워드:\", found_keywords)\n",
    "print(\"❌ 누락된 키워드:\", missing_keywords)"
   ]
  },
  {
   "cell_type": "code",
   "execution_count": 1,
   "id": "7e37fce8",
   "metadata": {},
   "outputs": [],
   "source": [
    "import pandas as pd"
   ]
  },
  {
   "cell_type": "markdown",
   "id": "08d4e5df",
   "metadata": {},
   "source": [
    "동일한 형식의 데이터라면 concat이 나음"
   ]
  },
  {
   "cell_type": "code",
   "execution_count": 6,
   "id": "a189b40c",
   "metadata": {},
   "outputs": [],
   "source": [
    "df_시금치 = pd.read_excel(r\"C:\\Users\\User\\Desktop\\프로젝트\\개인\\시금치_크롤링결과.xlsx\")\n",
    "df_시금치2 = pd.read_excel(r\"C:\\Users\\User\\Desktop\\프로젝트\\개인\\시금치_임시저장_2.xlsx\")\n",
    "df_시금치4 = pd.read_excel(r\"C:\\Users\\User\\Desktop\\프로젝트\\개인\\시금치_크롤링결과_4.xlsx\")\n",
    "df_시금치6 = pd.read_excel(r\"C:\\Users\\User\\Desktop\\프로젝트\\개인\\시금치_크롤링결과_6.xlsx\")\n",
    "df_시금치8 = pd.read_excel(r\"C:\\Users\\User\\Desktop\\프로젝트\\개인\\시금치_크롤링결과_8.xlsx\")\n",
    "df_시금치10 = pd.read_excel(r\"C:\\Users\\User\\Desktop\\프로젝트\\개인\\시금치_크롤링결과_10.xlsx\")"
   ]
  },
  {
   "cell_type": "code",
   "execution_count": 19,
   "id": "25a27251",
   "metadata": {},
   "outputs": [],
   "source": [
    "df_spinach = pd.concat([df_시금치, df_시금치2, df_시금치4, df_시금치6, df_시금치8,df_시금치10], ignore_index=True)"
   ]
  },
  {
   "cell_type": "code",
   "execution_count": 7,
   "id": "0f9e9c0e",
   "metadata": {},
   "outputs": [],
   "source": [
    "df_산딸기 = pd.read_excel(r\"C:\\Users\\User\\Desktop\\프로젝트\\개인\\산딸기_크롤링결과.xlsx\")\n",
    "df_산딸기2 = pd.read_excel(r\"C:\\Users\\User\\Desktop\\프로젝트\\개인\\산딸기_크롤링결과_2.xlsx\")\n",
    "df_산딸기4 = pd.read_excel(r\"C:\\Users\\User\\Desktop\\프로젝트\\개인\\산딸기_크롤링결과_4.xlsx\")\n",
    "df_산딸기6 = pd.read_excel(r\"C:\\Users\\User\\Desktop\\프로젝트\\개인\\산딸기_크롤링결과_6.xlsx\")\n",
    "df_산딸기8 = pd.read_excel(r\"C:\\Users\\User\\Desktop\\프로젝트\\개인\\산딸기_크롤링결과_8.xlsx\")\n",
    "df_산딸기10 = pd.read_excel(r\"C:\\Users\\User\\Desktop\\프로젝트\\개인\\산딸기_크롤링결과_10.xlsx\")"
   ]
  },
  {
   "cell_type": "code",
   "execution_count": 17,
   "id": "36534d89",
   "metadata": {},
   "outputs": [],
   "source": [
    "df_raspberry = pd.concat([df_산딸기, df_산딸기2, df_산딸기4, df_산딸기6, df_산딸기8,df_산딸기10], ignore_index=True)"
   ]
  },
  {
   "cell_type": "code",
   "execution_count": 9,
   "id": "18c1eb02",
   "metadata": {},
   "outputs": [],
   "source": [
    "df_블루베리 = pd.read_excel(r\"C:\\Users\\User\\Desktop\\프로젝트\\개인\\블루베리_크롤링결과.xlsx\")\n",
    "df_블루베리2 = pd.read_excel(r\"C:\\Users\\User\\Desktop\\프로젝트\\개인\\블루베리_임시저장_2.xlsx\")\n",
    "df_블루베리4 = pd.read_excel(r\"C:\\Users\\User\\Desktop\\프로젝트\\개인\\블루베리_크롤링결과_4.xlsx\")\n",
    "df_블루베리6 = pd.read_excel(r\"C:\\Users\\User\\Desktop\\프로젝트\\개인\\블루베리_크롤링결과_6.xlsx\")\n",
    "df_블루베리8 = pd.read_excel(r\"C:\\Users\\User\\Desktop\\프로젝트\\개인\\블루베리_크롤링결과_8.xlsx\")"
   ]
  },
  {
   "cell_type": "code",
   "execution_count": 16,
   "id": "5845a806",
   "metadata": {},
   "outputs": [],
   "source": [
    "df_blueberry = pd.concat([df_블루베리, df_블루베리2, df_블루베리4, df_블루베리6, df_블루베리8], ignore_index=True)"
   ]
  },
  {
   "cell_type": "code",
   "execution_count": 11,
   "id": "2a96bac0",
   "metadata": {},
   "outputs": [],
   "source": [
    "df_레몬 = pd.read_excel(r\"C:\\Users\\User\\Desktop\\프로젝트\\개인\\레몬_크롤링결과.xlsx\")\n",
    "df_레몬2 = pd.read_excel(r\"C:\\Users\\User\\Desktop\\프로젝트\\개인\\레몬_임시저장_2.xlsx\")\n",
    "df_레몬4 = pd.read_excel(r\"C:\\Users\\User\\Desktop\\프로젝트\\개인\\레몬_크롤링결과_4.xlsx\")\n",
    "df_레몬6 = pd.read_excel(r\"C:\\Users\\User\\Desktop\\프로젝트\\개인\\레몬_크롤링결과_6.xlsx\")\n",
    "df_레몬8 = pd.read_excel(r\"C:\\Users\\User\\Desktop\\프로젝트\\개인\\레몬_크롤링결과_8.xlsx\")\n",
    "\n"
   ]
  },
  {
   "cell_type": "code",
   "execution_count": 15,
   "id": "f17002af",
   "metadata": {},
   "outputs": [],
   "source": [
    "df_lemon = pd.concat([df_레몬, df_레몬2, df_레몬4, df_레몬6, df_레몬8], ignore_index=True)"
   ]
  },
  {
   "cell_type": "code",
   "execution_count": 12,
   "id": "26fa630d",
   "metadata": {},
   "outputs": [],
   "source": [
    "df_라임 = pd.read_excel(r\"C:\\Users\\User\\Desktop\\프로젝트\\개인\\라임_크롤링결과.xlsx\")\n",
    "df_라임2 = pd.read_excel(r\"C:\\Users\\User\\Desktop\\프로젝트\\개인\\라임_임시저장_2.xlsx\")\n",
    "df_라임4 = pd.read_excel(r\"C:\\Users\\User\\Desktop\\프로젝트\\개인\\라임_크롤링결과_4.xlsx\")\n",
    "df_라임6 = pd.read_excel(r\"C:\\Users\\User\\Desktop\\프로젝트\\개인\\라임_크롤링결과_6.xlsx\")\n",
    "df_라임8 = pd.read_excel(r\"C:\\Users\\User\\Desktop\\프로젝트\\개인\\라임_크롤링결과_8.xlsx\")"
   ]
  },
  {
   "cell_type": "code",
   "execution_count": 57,
   "id": "332963d3",
   "metadata": {},
   "outputs": [
    {
     "data": {
      "text/html": [
       "<div>\n",
       "<style scoped>\n",
       "    .dataframe tbody tr th:only-of-type {\n",
       "        vertical-align: middle;\n",
       "    }\n",
       "\n",
       "    .dataframe tbody tr th {\n",
       "        vertical-align: top;\n",
       "    }\n",
       "\n",
       "    .dataframe thead th {\n",
       "        text-align: right;\n",
       "    }\n",
       "</style>\n",
       "<table border=\"1\" class=\"dataframe\">\n",
       "  <thead>\n",
       "    <tr style=\"text-align: right;\">\n",
       "      <th></th>\n",
       "      <th>상품명</th>\n",
       "      <th>상세페이지</th>\n",
       "      <th>정가</th>\n",
       "      <th>판매가</th>\n",
       "      <th>유저명</th>\n",
       "      <th>별점</th>\n",
       "      <th>작성일</th>\n",
       "      <th>리뷰</th>\n",
       "      <th>도움수</th>\n",
       "      <th>리뷰이미지</th>\n",
       "      <th>맛 만족도</th>\n",
       "      <th>싱싱함</th>\n",
       "      <th>당도</th>\n",
       "      <th>새콤함</th>\n",
       "    </tr>\n",
       "  </thead>\n",
       "  <tbody>\n",
       "    <tr>\n",
       "      <th>0</th>\n",
       "      <td>곰곰 라임, 640g, 1개</td>\n",
       "      <td>https://www.coupang.com/vp/products/6729535586...</td>\n",
       "      <td>NaN</td>\n",
       "      <td>10,840원</td>\n",
       "      <td>조*현</td>\n",
       "      <td>5.0</td>\n",
       "      <td>2025.05.07</td>\n",
       "      <td>내돈내산 실사용 후기입니다~\\n\\n곰곰 라임 210g 2개 세트를 구매해 다양한 용...</td>\n",
       "      <td>이 상품평이 도움 되었나요?</td>\n",
       "      <td>['https://thumbnail10.coupangcdn.com/thumbnail...</td>\n",
       "      <td>맛있어요</td>\n",
       "      <td>아주 싱싱해요</td>\n",
       "      <td>적당해요</td>\n",
       "      <td>많이 새콤해요</td>\n",
       "    </tr>\n",
       "    <tr>\n",
       "      <th>1</th>\n",
       "      <td>곰곰 라임, 640g, 1개</td>\n",
       "      <td>https://www.coupang.com/vp/products/6729535586...</td>\n",
       "      <td>NaN</td>\n",
       "      <td>10,840원</td>\n",
       "      <td>o우빈맘o</td>\n",
       "      <td>5.0</td>\n",
       "      <td>2023.09.12</td>\n",
       "      <td>▶요즘 하이볼에 빠져사는 사람입니다 ㅋ 첨엔 얼그레이파였는데\\n\\n마시다 보니 점점...</td>\n",
       "      <td>이 상품평이 도움 되었나요?</td>\n",
       "      <td>['https://thumbnail10.coupangcdn.com/thumbnail...</td>\n",
       "      <td>예상보다 맛있어요</td>\n",
       "      <td>예상보다 싱싱해요</td>\n",
       "      <td>달지 않아요</td>\n",
       "      <td>많이 새콤해요</td>\n",
       "    </tr>\n",
       "    <tr>\n",
       "      <th>2</th>\n",
       "      <td>곰곰 라임, 640g, 1개</td>\n",
       "      <td>https://www.coupang.com/vp/products/6729535586...</td>\n",
       "      <td>NaN</td>\n",
       "      <td>10,840원</td>\n",
       "      <td>밤비킹</td>\n",
       "      <td>5.0</td>\n",
       "      <td>2023.07.25</td>\n",
       "      <td>곰곰 라임 소과\\n\\n\\n✅️ 구매 일자\\n\\n2023/07/20\\n\\n\\n✅️ 품...</td>\n",
       "      <td>4 명에게 도움 됨</td>\n",
       "      <td>['https://thumbnail6.coupangcdn.com/thumbnails...</td>\n",
       "      <td>예상보다 맛있어요</td>\n",
       "      <td>예상보다 싱싱해요</td>\n",
       "      <td>아주 달콤해요</td>\n",
       "      <td>많이 새콤해요</td>\n",
       "    </tr>\n",
       "  </tbody>\n",
       "</table>\n",
       "</div>"
      ],
      "text/plain": [
       "               상품명                                              상세페이지  정가  \\\n",
       "0  곰곰 라임, 640g, 1개  https://www.coupang.com/vp/products/6729535586... NaN   \n",
       "1  곰곰 라임, 640g, 1개  https://www.coupang.com/vp/products/6729535586... NaN   \n",
       "2  곰곰 라임, 640g, 1개  https://www.coupang.com/vp/products/6729535586... NaN   \n",
       "\n",
       "       판매가    유저명   별점         작성일  \\\n",
       "0  10,840원    조*현  5.0  2025.05.07   \n",
       "1  10,840원  o우빈맘o  5.0  2023.09.12   \n",
       "2  10,840원    밤비킹  5.0  2023.07.25   \n",
       "\n",
       "                                                  리뷰              도움수  \\\n",
       "0  내돈내산 실사용 후기입니다~\\n\\n곰곰 라임 210g 2개 세트를 구매해 다양한 용...  이 상품평이 도움 되었나요?   \n",
       "1  ▶요즘 하이볼에 빠져사는 사람입니다 ㅋ 첨엔 얼그레이파였는데\\n\\n마시다 보니 점점...  이 상품평이 도움 되었나요?   \n",
       "2  곰곰 라임 소과\\n\\n\\n✅️ 구매 일자\\n\\n2023/07/20\\n\\n\\n✅️ 품...       4 명에게 도움 됨   \n",
       "\n",
       "                                               리뷰이미지      맛 만족도        싱싱함  \\\n",
       "0  ['https://thumbnail10.coupangcdn.com/thumbnail...       맛있어요    아주 싱싱해요   \n",
       "1  ['https://thumbnail10.coupangcdn.com/thumbnail...  예상보다 맛있어요  예상보다 싱싱해요   \n",
       "2  ['https://thumbnail6.coupangcdn.com/thumbnails...  예상보다 맛있어요  예상보다 싱싱해요   \n",
       "\n",
       "        당도      새콤함  \n",
       "0     적당해요  많이 새콤해요  \n",
       "1   달지 않아요  많이 새콤해요  \n",
       "2  아주 달콤해요  많이 새콤해요  "
      ]
     },
     "execution_count": 57,
     "metadata": {},
     "output_type": "execute_result"
    }
   ],
   "source": [
    "df_라임8.head(3)"
   ]
  },
  {
   "cell_type": "code",
   "execution_count": 58,
   "id": "2fa5d480",
   "metadata": {},
   "outputs": [],
   "source": [
    "df_lime = pd.concat([df_라임, df_라임2, df_라임4, df_라임6, df_라임8], ignore_index=True)"
   ]
  },
  {
   "cell_type": "code",
   "execution_count": 59,
   "id": "4e399945",
   "metadata": {},
   "outputs": [
    {
     "data": {
      "text/html": [
       "<div>\n",
       "<style scoped>\n",
       "    .dataframe tbody tr th:only-of-type {\n",
       "        vertical-align: middle;\n",
       "    }\n",
       "\n",
       "    .dataframe tbody tr th {\n",
       "        vertical-align: top;\n",
       "    }\n",
       "\n",
       "    .dataframe thead th {\n",
       "        text-align: right;\n",
       "    }\n",
       "</style>\n",
       "<table border=\"1\" class=\"dataframe\">\n",
       "  <thead>\n",
       "    <tr style=\"text-align: right;\">\n",
       "      <th></th>\n",
       "      <th>상품명</th>\n",
       "      <th>상세페이지</th>\n",
       "      <th>정가</th>\n",
       "      <th>판매가</th>\n",
       "      <th>유저명</th>\n",
       "      <th>별점</th>\n",
       "      <th>작성일</th>\n",
       "      <th>리뷰</th>\n",
       "      <th>도움수</th>\n",
       "      <th>리뷰이미지</th>\n",
       "      <th>신선도</th>\n",
       "      <th>맛 만족도</th>\n",
       "      <th>외형</th>\n",
       "      <th>싱싱함</th>\n",
       "      <th>당도</th>\n",
       "      <th>새콤함</th>\n",
       "    </tr>\n",
       "  </thead>\n",
       "  <tbody>\n",
       "    <tr>\n",
       "      <th>0</th>\n",
       "      <td>신선 생 라임 중과 (약 80g), 80g, 30개</td>\n",
       "      <td>https://www.coupang.com/vp/products/7318998336...</td>\n",
       "      <td>46,900원</td>\n",
       "      <td>28,910원</td>\n",
       "      <td>김*호</td>\n",
       "      <td>5.0</td>\n",
       "      <td>2025.03.13</td>\n",
       "      <td>신선 생 라임 중과 (약 80g) 5개 구매 후기\\n기존에 주문하던 곳에서 재고가 ...</td>\n",
       "      <td>이 상품평이 도움 되었나요?</td>\n",
       "      <td>[]</td>\n",
       "      <td>아주 신선해요</td>\n",
       "      <td>맛있어요</td>\n",
       "      <td>NaN</td>\n",
       "      <td>NaN</td>\n",
       "      <td>NaN</td>\n",
       "      <td>NaN</td>\n",
       "    </tr>\n",
       "    <tr>\n",
       "      <th>1</th>\n",
       "      <td>신선 생 라임 중과 (약 80g), 80g, 30개</td>\n",
       "      <td>https://www.coupang.com/vp/products/7318998336...</td>\n",
       "      <td>46,900원</td>\n",
       "      <td>28,910원</td>\n",
       "      <td>권*</td>\n",
       "      <td>NaN</td>\n",
       "      <td>2023.08.19</td>\n",
       "      <td>라임은 처음 사보는거라 맞는지모르겠지만\\n레몬보다 작아요\\n신선하고 상콤합니다\\n라...</td>\n",
       "      <td>4 명에게 도움 됨</td>\n",
       "      <td>['https://thumbnail7.coupangcdn.com/thumbnails...</td>\n",
       "      <td>예상만큼 신선해요</td>\n",
       "      <td>괜찮아요</td>\n",
       "      <td>설명만큼 괜찮아요</td>\n",
       "      <td>NaN</td>\n",
       "      <td>NaN</td>\n",
       "      <td>NaN</td>\n",
       "    </tr>\n",
       "    <tr>\n",
       "      <th>2</th>\n",
       "      <td>신선 생 라임 중과 (약 80g), 80g, 30개</td>\n",
       "      <td>https://www.coupang.com/vp/products/7318998336...</td>\n",
       "      <td>46,900원</td>\n",
       "      <td>28,910원</td>\n",
       "      <td>서*름</td>\n",
       "      <td>5.0</td>\n",
       "      <td>2023.05.12</td>\n",
       "      <td>저는레몬보다는 라임을 더 좋아하는 편이어서 생라임을 잘 구매해서 먹고있어요!\\n즙을...</td>\n",
       "      <td>3 명에게 도움 됨</td>\n",
       "      <td>[]</td>\n",
       "      <td>예상보다 신선해요</td>\n",
       "      <td>예상보다 맛있어요</td>\n",
       "      <td>예상보다 좋아요</td>\n",
       "      <td>NaN</td>\n",
       "      <td>NaN</td>\n",
       "      <td>NaN</td>\n",
       "    </tr>\n",
       "  </tbody>\n",
       "</table>\n",
       "</div>"
      ],
      "text/plain": [
       "                            상품명  \\\n",
       "0  신선 생 라임 중과 (약 80g), 80g, 30개   \n",
       "1  신선 생 라임 중과 (약 80g), 80g, 30개   \n",
       "2  신선 생 라임 중과 (약 80g), 80g, 30개   \n",
       "\n",
       "                                               상세페이지       정가      판매가  유저명  \\\n",
       "0  https://www.coupang.com/vp/products/7318998336...  46,900원  28,910원  김*호   \n",
       "1  https://www.coupang.com/vp/products/7318998336...  46,900원  28,910원   권*   \n",
       "2  https://www.coupang.com/vp/products/7318998336...  46,900원  28,910원  서*름   \n",
       "\n",
       "    별점         작성일                                                 리뷰  \\\n",
       "0  5.0  2025.03.13  신선 생 라임 중과 (약 80g) 5개 구매 후기\\n기존에 주문하던 곳에서 재고가 ...   \n",
       "1  NaN  2023.08.19  라임은 처음 사보는거라 맞는지모르겠지만\\n레몬보다 작아요\\n신선하고 상콤합니다\\n라...   \n",
       "2  5.0  2023.05.12  저는레몬보다는 라임을 더 좋아하는 편이어서 생라임을 잘 구매해서 먹고있어요!\\n즙을...   \n",
       "\n",
       "               도움수                                              리뷰이미지  \\\n",
       "0  이 상품평이 도움 되었나요?                                                 []   \n",
       "1       4 명에게 도움 됨  ['https://thumbnail7.coupangcdn.com/thumbnails...   \n",
       "2       3 명에게 도움 됨                                                 []   \n",
       "\n",
       "         신선도      맛 만족도         외형  싱싱함   당도  새콤함  \n",
       "0    아주 신선해요       맛있어요        NaN  NaN  NaN  NaN  \n",
       "1  예상만큼 신선해요       괜찮아요  설명만큼 괜찮아요  NaN  NaN  NaN  \n",
       "2  예상보다 신선해요  예상보다 맛있어요   예상보다 좋아요  NaN  NaN  NaN  "
      ]
     },
     "execution_count": 59,
     "metadata": {},
     "output_type": "execute_result"
    }
   ],
   "source": [
    "df_lime.head(3)"
   ]
  },
  {
   "cell_type": "code",
   "execution_count": 26,
   "id": "48843a11",
   "metadata": {},
   "outputs": [],
   "source": [
    "df_아보카도 = pd.read_excel(r\"C:\\Users\\User\\Desktop\\프로젝트\\개인\\아보카도_크롤링결과.xlsx\")\n",
    "df_아보카도2 = pd.read_excel(r\"C:\\Users\\User\\Desktop\\프로젝트\\개인\\아보카도_임시저장_2.xlsx\")\n",
    "df_아보카도4 = pd.read_excel(r\"C:\\Users\\User\\Desktop\\프로젝트\\개인\\아보카도_크롤링결과_4.xlsx\")\n",
    "df_아보카도6 = pd.read_excel(r\"C:\\Users\\User\\Desktop\\프로젝트\\개인\\아보카도_크롤링결과_6.xlsx\")\n",
    "df_아보카도8 = pd.read_excel(r\"C:\\Users\\User\\Desktop\\프로젝트\\개인\\아보카도_크롤링결과_8.xlsx\")\n",
    "df_아보카도10 = pd.read_excel(r\"C:\\Users\\User\\Desktop\\프로젝트\\개인\\아보카도_크롤링결과_10.xlsx\")"
   ]
  },
  {
   "cell_type": "code",
   "execution_count": 27,
   "id": "bc157103",
   "metadata": {},
   "outputs": [],
   "source": [
    "df_avocado = pd.concat([df_아보카도,df_아보카도2,df_아보카도4,df_아보카도6,df_아보카도8,df_아보카도10],ignore_index = True) "
   ]
  },
  {
   "cell_type": "code",
   "execution_count": 36,
   "id": "754f6f72",
   "metadata": {},
   "outputs": [],
   "source": [
    "top_products = ['우유', '바나나', '아보카도', '딸기', '시금치', '레몬', '산딸기', '양파', '블루베리', '라임']"
   ]
  },
  {
   "cell_type": "code",
   "execution_count": 37,
   "id": "cdd15a6f",
   "metadata": {},
   "outputs": [],
   "source": [
    "found_keywords = [product for product in top_products if any(df_combined['상품명'].astype(str).str.contains(product))]"
   ]
  },
  {
   "cell_type": "code",
   "execution_count": 38,
   "id": "37bb59a1",
   "metadata": {},
   "outputs": [
    {
     "name": "stdout",
     "output_type": "stream",
     "text": [
      "🔍 누락된 키워드: ['라임', '바나나', '양파', '우유']\n"
     ]
    }
   ],
   "source": [
    "missing_keywords = list(set(top_products) - set(found_keywords))\n",
    "print(\"🔍 누락된 키워드:\", missing_keywords)"
   ]
  },
  {
   "cell_type": "code",
   "execution_count": 39,
   "id": "9f8eb6cf",
   "metadata": {},
   "outputs": [
    {
     "name": "stdout",
     "output_type": "stream",
     "text": [
      "✅ 포함된 키워드: ['아보카도', '딸기', '시금치', '레몬', '산딸기', '블루베리']\n",
      "❌ 누락된 키워드: ['라임', '바나나', '양파', '우유']\n"
     ]
    }
   ],
   "source": [
    "print(\"✅ 포함된 키워드:\", found_keywords)\n",
    "print(\"❌ 누락된 키워드:\", missing_keywords)"
   ]
  },
  {
   "cell_type": "markdown",
   "id": "5c7db634",
   "metadata": {},
   "source": [
    "- 라임은 넣었는데 키워드로 안들어간듯"
   ]
  },
  {
   "cell_type": "code",
   "execution_count": 41,
   "id": "0121a02a",
   "metadata": {},
   "outputs": [],
   "source": [
    "df_바나나 = pd.read_excel(r\"C:\\Users\\User\\Desktop\\프로젝트\\개인\\바나나_크롤링결과.xlsx\")\n",
    "df_바나나2 = pd.read_excel(r\"C:\\Users\\User\\Desktop\\프로젝트\\개인\\바나나_크롤링결과_2.xlsx\")\n",
    "df_바나나4 = pd.read_excel(r\"C:\\Users\\User\\Desktop\\프로젝트\\개인\\바나나_크롤링결과_4.xlsx\")\n",
    "df_바나나6 = pd.read_excel(r\"C:\\Users\\User\\Desktop\\프로젝트\\개인\\바나나_크롤링결과_6.xlsx\")\n"
   ]
  },
  {
   "cell_type": "code",
   "execution_count": 45,
   "id": "77a5b3fd",
   "metadata": {},
   "outputs": [],
   "source": [
    "df_banana = pd.concat([df_바나나,df_바나나2,df_바나나4,df_바나나6],ignore_index = True) "
   ]
  },
  {
   "cell_type": "code",
   "execution_count": 42,
   "id": "1c144164",
   "metadata": {},
   "outputs": [],
   "source": [
    "df_우유 = pd.read_excel(r\"C:\\Users\\User\\Desktop\\프로젝트\\개인\\우유_크롤링결과.xlsx\")\n",
    "df_우유2 = pd.read_excel(r\"C:\\Users\\User\\Desktop\\프로젝트\\개인\\우유_크롤링결과_2.xlsx\")\n",
    "df_우유4 = pd.read_excel(r\"C:\\Users\\User\\Desktop\\프로젝트\\개인\\우유_크롤링결과_4.xlsx\")\n",
    "df_우유6 = pd.read_excel(r\"C:\\Users\\User\\Desktop\\프로젝트\\개인\\우유_크롤링결과_6.xlsx\")\n"
   ]
  },
  {
   "cell_type": "code",
   "execution_count": 46,
   "id": "93b4aa29",
   "metadata": {},
   "outputs": [],
   "source": [
    "df_milk = pd.concat([df_우유,df_우유2,df_우유4,df_우유6],ignore_index = True) "
   ]
  },
  {
   "cell_type": "code",
   "execution_count": 43,
   "id": "6e24a501",
   "metadata": {},
   "outputs": [],
   "source": [
    "df_양파 = pd.read_excel(r\"C:\\Users\\User\\Desktop\\프로젝트\\개인\\양파_크롤링결과.xlsx\")\n",
    "df_양파2 = pd.read_excel(r\"C:\\Users\\User\\Desktop\\프로젝트\\개인\\양파_크롤링결과_2.xlsx\")\n",
    "df_양파4 = pd.read_excel(r\"C:\\Users\\User\\Desktop\\프로젝트\\개인\\양파_크롤링결과_4.xlsx\")\n",
    "df_양파6 = pd.read_excel(r\"C:\\Users\\User\\Desktop\\프로젝트\\개인\\양파_크롤링결과_6.xlsx\")\n"
   ]
  },
  {
   "cell_type": "code",
   "execution_count": 47,
   "id": "0ba63087",
   "metadata": {},
   "outputs": [],
   "source": [
    "df_onion = pd.concat([df_양파,df_양파2,df_양파4,df_양파6],ignore_index = True) "
   ]
  },
  {
   "cell_type": "code",
   "execution_count": 48,
   "id": "0548120f",
   "metadata": {},
   "outputs": [
    {
     "name": "stdout",
     "output_type": "stream",
     "text": [
      "(2595, 23)\n"
     ]
    },
    {
     "data": {
      "text/html": [
       "<div>\n",
       "<style scoped>\n",
       "    .dataframe tbody tr th:only-of-type {\n",
       "        vertical-align: middle;\n",
       "    }\n",
       "\n",
       "    .dataframe tbody tr th {\n",
       "        vertical-align: top;\n",
       "    }\n",
       "\n",
       "    .dataframe thead th {\n",
       "        text-align: right;\n",
       "    }\n",
       "</style>\n",
       "<table border=\"1\" class=\"dataframe\">\n",
       "  <thead>\n",
       "    <tr style=\"text-align: right;\">\n",
       "      <th></th>\n",
       "      <th>상품명</th>\n",
       "      <th>상세페이지</th>\n",
       "      <th>정가</th>\n",
       "      <th>판매가</th>\n",
       "      <th>유저명</th>\n",
       "      <th>별점</th>\n",
       "      <th>작성일</th>\n",
       "      <th>리뷰</th>\n",
       "      <th>도움수</th>\n",
       "      <th>리뷰이미지</th>\n",
       "      <th>...</th>\n",
       "      <th>풍미</th>\n",
       "      <th>새콤함</th>\n",
       "      <th>외형</th>\n",
       "      <th>당도</th>\n",
       "      <th>생산일</th>\n",
       "      <th>줄기</th>\n",
       "      <th>색상</th>\n",
       "      <th>유통기한</th>\n",
       "      <th>잔뿌리</th>\n",
       "      <th>단단함</th>\n",
       "    </tr>\n",
       "  </thead>\n",
       "  <tbody>\n",
       "    <tr>\n",
       "      <th>0</th>\n",
       "      <td>맛통령 프리미엄 레몬, 1박스, 레몬 2kg 20개내외</td>\n",
       "      <td>https://www.coupang.com/vp/products/8297660551...</td>\n",
       "      <td>54,900원</td>\n",
       "      <td>12,960원</td>\n",
       "      <td>이*자</td>\n",
       "      <td>5.0</td>\n",
       "      <td>2025.04.28</td>\n",
       "      <td>직접 내돈내산으로 사용해 본 후기\\n\\n✏ 제품명\\n\\n- 맛통령 프리미엄 레몬, ...</td>\n",
       "      <td>4 명에게 도움 됨</td>\n",
       "      <td>['https://thumbnail8.coupangcdn.com/thumbnails...</td>\n",
       "      <td>...</td>\n",
       "      <td>NaN</td>\n",
       "      <td>NaN</td>\n",
       "      <td>NaN</td>\n",
       "      <td>NaN</td>\n",
       "      <td>NaN</td>\n",
       "      <td>NaN</td>\n",
       "      <td>NaN</td>\n",
       "      <td>NaN</td>\n",
       "      <td>NaN</td>\n",
       "      <td>NaN</td>\n",
       "    </tr>\n",
       "  </tbody>\n",
       "</table>\n",
       "<p>1 rows × 23 columns</p>\n",
       "</div>"
      ],
      "text/plain": [
       "                              상품명  \\\n",
       "0  맛통령 프리미엄 레몬, 1박스, 레몬 2kg 20개내외   \n",
       "\n",
       "                                               상세페이지       정가      판매가  유저명  \\\n",
       "0  https://www.coupang.com/vp/products/8297660551...  54,900원  12,960원  이*자   \n",
       "\n",
       "    별점         작성일                                                 리뷰  \\\n",
       "0  5.0  2025.04.28  직접 내돈내산으로 사용해 본 후기\\n\\n✏ 제품명\\n\\n- 맛통령 프리미엄 레몬, ...   \n",
       "\n",
       "          도움수                                              리뷰이미지  ...   풍미  \\\n",
       "0  4 명에게 도움 됨  ['https://thumbnail8.coupangcdn.com/thumbnails...  ...  NaN   \n",
       "\n",
       "   새콤함   외형   당도  생산일   줄기   색상 유통기한  잔뿌리  단단함  \n",
       "0  NaN  NaN  NaN  NaN  NaN  NaN  NaN  NaN  NaN  \n",
       "\n",
       "[1 rows x 23 columns]"
      ]
     },
     "execution_count": 48,
     "metadata": {},
     "output_type": "execute_result"
    }
   ],
   "source": [
    "import pandas as pd\n",
    "\n",
    "# 데이터프레임 병합\n",
    "df_combined = pd.concat(\n",
    "    [df_lime, df_lemon, df_blueberry, df_raspberry, df_spinach,df_avocado\n",
    "     ,df_banana, df_milk, df_onion],\n",
    "    ignore_index=True\n",
    ")\n",
    "\n",
    "# 중복 제거 (선택사항)\n",
    "df_combined.drop_duplicates(inplace=True)\n",
    "\n",
    "# 결과 확인\n",
    "print(df_combined.shape)\n",
    "df_combined.head(1)\n"
   ]
  },
  {
   "cell_type": "code",
   "execution_count": 49,
   "id": "5174e28d",
   "metadata": {},
   "outputs": [],
   "source": [
    "df_combined.to_csv(\"쿠팡_인스타카트인기상품데이터.csv\", index=False, encoding='utf-8-sig')\n"
   ]
  },
  {
   "cell_type": "code",
   "execution_count": 50,
   "id": "e74ae4d0",
   "metadata": {},
   "outputs": [],
   "source": [
    "top_products = ['우유', '바나나', '아보카도', '딸기', '시금치', '레몬', '산딸기', '양파', '블루베리', '라임']"
   ]
  },
  {
   "cell_type": "code",
   "execution_count": 51,
   "id": "ab87e031",
   "metadata": {},
   "outputs": [],
   "source": [
    "found_keywords = [product for product in top_products if any(df_combined['상품명'].astype(str).str.contains(product))]"
   ]
  },
  {
   "cell_type": "code",
   "execution_count": 52,
   "id": "3baa8dae",
   "metadata": {},
   "outputs": [
    {
     "name": "stdout",
     "output_type": "stream",
     "text": [
      "🔍 누락된 키워드: ['라임']\n"
     ]
    }
   ],
   "source": [
    "missing_keywords = list(set(top_products) - set(found_keywords))\n",
    "print(\"🔍 누락된 키워드:\", missing_keywords)"
   ]
  },
  {
   "cell_type": "code",
   "execution_count": 54,
   "id": "b28900c6",
   "metadata": {},
   "outputs": [
    {
     "data": {
      "text/plain": [
       "Index(['상품명', '상세페이지', '정가', '판매가', '유저명', '별점', '작성일', '리뷰', '도움수', '리뷰이미지',\n",
       "       '신선도', '맛 만족도', '싱싱함', '풍미', '새콤함', '외형', '당도', '생산일', '줄기', '색상',\n",
       "       '유통기한', '잔뿌리', '단단함'],\n",
       "      dtype='object')"
      ]
     },
     "execution_count": 54,
     "metadata": {},
     "output_type": "execute_result"
    }
   ],
   "source": [
    "df_combined.columns"
   ]
  },
  {
   "cell_type": "code",
   "execution_count": 62,
   "id": "3d34e627",
   "metadata": {},
   "outputs": [
    {
     "data": {
      "text/plain": [
       "array(['맛통령 프리미엄 레몬, 1박스, 레몬 2kg 20개내외', '곰곰 미국산 레몬, 3kg, 1개',\n",
       "       '미국산 칠레산 레몬 정품 레몬 대과 7개입 20개입 40개입, 120g 내외, 20개',\n",
       "       '만나 미국 레몬, 4kg, 1개', '곰곰 냉동 블루베리, 1kg, 2개',\n",
       "       '베리벨리 칠레산 냉동 블루베리, 1.5kg, 1개',\n",
       "       '[달빛정원] 탱글탱글 꿀당도 국산 생 블루베리, 1개, 100g 중',\n",
       "       '베리벨리 칠레산 냉동 블루베리, 1.5kg, 2개', '맛잇는 제철 장기 햇 산딸기 1kg 생과, 1개',\n",
       "       'GAP 농장직송 최상급 산딸기 햇 프리미엄 생과, 1개, 500g',\n",
       "       '당도선별 제철과일 산딸기 생과, 1개, 250g',\n",
       "       '앵콜판매 초고당도 당도선별 추억의 산딸기, 1개, 250g(특)',\n",
       "       '당도선별 제철과일 산딸기 생과, 2개, 250g',\n",
       "       \"'당일수확' 산지직송' 자연산 지리산 '햇' 산딸기 특최상품, 2개, 지리산 산청 자연산 산딸기 500g\",\n",
       "       '맛통령 국내산 시금치, 1개, 4kg', '국내산 시금치, 500g, 2개',\n",
       "       '국내산 노지 시금치 연하고 부드러운 달큰한 시금치, 1개, 1kg',\n",
       "       '해풍 맞은 청정 남해 포항 노지 시금치, 1박스, 500g', '국내산 친환경 시금치, 200g, 1개',\n",
       "       '곰곰 페루산 아보카도, 1kg, 1개', '돌 필리핀 아보카도, 1kg, 1개',\n",
       "       '파머스마일 후숙과일 수입산 슈퍼푸드 아보카도, 1개, 5과(과당 220g 내외)',\n",
       "       '농장에서바로 프리미엄 아보카도, 220g내외(대과), 10개', '돌 필리핀산 아보카도, 200g 내외, 2개',\n",
       "       '델몬트 필리핀 바나나, 1.4kg 내외, 1개', '돌 스위티오 바나나, 1kg 내외, 1개',\n",
       "       '돌 바나나, 1.2kg 내외, 1개', '돌 코리아 바나나, 1kg, 1개',\n",
       "       '서울우유 1급A우유, 2.3L, 1개', '서울우유 멸균 흰우유, 1L, 10개',\n",
       "       '빙그레 바나나맛우유 무가당 16개, 240ml', '국내산 양파(햇), 1.5kg, 1개',\n",
       "       '국내산 양파(햇), 5kg (대), 1개', '[온새]국내산 무안 햇양파 지금수확중, 1박스, 소(장아찌용) 2kg'],\n",
       "      dtype=object)"
      ]
     },
     "execution_count": 62,
     "metadata": {},
     "output_type": "execute_result"
    }
   ],
   "source": [
    "df_combined['상품명'].unique()"
   ]
  },
  {
   "cell_type": "code",
   "execution_count": 63,
   "id": "48a515a8",
   "metadata": {},
   "outputs": [],
   "source": [
    "import pandas as pd\n",
    "\n",
    "# 라임 관련 파일들 다시 불러오기\n",
    "df_라임 = pd.read_excel(r\"C:\\Users\\User\\Desktop\\프로젝트\\개인\\라임_크롤링결과.xlsx\")\n",
    "df_라임2 = pd.read_excel(r\"C:\\Users\\User\\Desktop\\프로젝트\\개인\\라임_임시저장_2.xlsx\")\n",
    "df_라임4 = pd.read_excel(r\"C:\\Users\\User\\Desktop\\프로젝트\\개인\\라임_크롤링결과_4.xlsx\")\n",
    "df_라임6 = pd.read_excel(r\"C:\\Users\\User\\Desktop\\프로젝트\\개인\\라임_크롤링결과_6.xlsx\")\n",
    "df_라임8 = pd.read_excel(r\"C:\\Users\\User\\Desktop\\프로젝트\\개인\\라임_크롤링결과_8.xlsx\")\n"
   ]
  },
  {
   "cell_type": "code",
   "execution_count": 64,
   "id": "bdb5a9fa",
   "metadata": {},
   "outputs": [],
   "source": [
    "df_lime = pd.concat([df_라임, df_라임2, df_라임4, df_라임6, df_라임8], ignore_index=True)\n"
   ]
  },
  {
   "cell_type": "code",
   "execution_count": 65,
   "id": "50c5f6de",
   "metadata": {},
   "outputs": [],
   "source": [
    "df_combined = pd.concat(\n",
    "    [df_lime, df_lemon, df_blueberry, df_raspberry, df_spinach, df_avocado,\n",
    "     df_banana, df_milk, df_onion],\n",
    "    ignore_index=True\n",
    ")\n",
    "\n",
    "# 중복 제거 (선택사항)\n",
    "df_combined.drop_duplicates(inplace=True)\n",
    "\n",
    "df_combined.to_csv(\"쿠팡_인스타카트인기상품데이터.csv\", index=False, encoding='utf-8-sig')\n"
   ]
  },
  {
   "cell_type": "code",
   "execution_count": 68,
   "id": "d455b1c3",
   "metadata": {},
   "outputs": [],
   "source": [
    "#df_combined[df_combined['상품명'].astype(str).str.contains('라임|lime', case=False, na=False)]"
   ]
  },
  {
   "cell_type": "markdown",
   "id": "55d89ce7",
   "metadata": {},
   "source": [
    "- 인스타카트 인기상품 쿠팡에서 크롤링 끝 "
   ]
  },
  {
   "cell_type": "code",
   "execution_count": 69,
   "id": "b5ba4424",
   "metadata": {},
   "outputs": [],
   "source": [
    "top_products = ['우유', '바나나', '아보카도', '딸기', '시금치', '레몬', '산딸기', '양파', '블루베리', '라임']"
   ]
  },
  {
   "cell_type": "code",
   "execution_count": 71,
   "id": "d59b170c",
   "metadata": {},
   "outputs": [],
   "source": [
    "found_keywords = [product for product in top_products if any(df_combined['상품명'].astype(str).str.contains(product))]"
   ]
  },
  {
   "cell_type": "code",
   "execution_count": 72,
   "id": "93b88018",
   "metadata": {},
   "outputs": [],
   "source": [
    "missing_keywords = list(set(top_products) - set(found_keywords))"
   ]
  },
  {
   "cell_type": "code",
   "execution_count": 73,
   "id": "72d14c8f",
   "metadata": {},
   "outputs": [
    {
     "name": "stdout",
     "output_type": "stream",
     "text": [
      "🔍 누락된 키워드: []\n"
     ]
    }
   ],
   "source": [
    "print(\"🔍 누락된 키워드:\", missing_keywords)"
   ]
  },
  {
   "cell_type": "code",
   "execution_count": 74,
   "id": "0a9c19d7",
   "metadata": {},
   "outputs": [
    {
     "name": "stdout",
     "output_type": "stream",
     "text": [
      "✅ 포함된 키워드: ['우유', '바나나', '아보카도', '딸기', '시금치', '레몬', '산딸기', '양파', '블루베리', '라임']\n",
      "❌ 누락된 키워드: []\n"
     ]
    }
   ],
   "source": [
    "print(\"✅ 포함된 키워드:\", found_keywords)\n",
    "print(\"❌ 누락된 키워드:\", missing_keywords)"
   ]
  },
  {
   "cell_type": "code",
   "execution_count": null,
   "id": "cc4d3464",
   "metadata": {},
   "outputs": [],
   "source": []
  }
 ],
 "metadata": {
  "kernelspec": {
   "display_name": "base",
   "language": "python",
   "name": "python3"
  },
  "language_info": {
   "codemirror_mode": {
    "name": "ipython",
    "version": 3
   },
   "file_extension": ".py",
   "mimetype": "text/x-python",
   "name": "python",
   "nbconvert_exporter": "python",
   "pygments_lexer": "ipython3",
   "version": "3.12.7"
  }
 },
 "nbformat": 4,
 "nbformat_minor": 5
}
